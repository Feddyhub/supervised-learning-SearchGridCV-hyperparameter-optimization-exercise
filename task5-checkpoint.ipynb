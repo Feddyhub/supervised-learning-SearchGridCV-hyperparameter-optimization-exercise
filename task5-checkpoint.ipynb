{
 "cells": [
  {
   "cell_type": "code",
   "execution_count": 3,
   "id": "4a5c3ad9",
   "metadata": {},
   "outputs": [],
   "source": [
    "import numpy as np\n",
    "import pandas as pd\n",
    "import matplotlib.pyplot as plt"
   ]
  },
  {
   "cell_type": "code",
   "execution_count": 4,
   "id": "2c1e29f3",
   "metadata": {},
   "outputs": [],
   "source": [
    "from sklearn.metrics import mean_absolute_error as mae\n",
    "from sklearn.metrics import mean_squared_error  as mse\n",
    "from sklearn.metrics import mean_absolute_percentage_error as mape"
   ]
  },
  {
   "cell_type": "code",
   "execution_count": 5,
   "id": "b823a8b3",
   "metadata": {},
   "outputs": [],
   "source": [
    "from sklearn.model_selection import train_test_split , GridSearchCV , RandomizedSearchCV"
   ]
  },
  {
   "cell_type": "code",
   "execution_count": 6,
   "id": "c0f4d6f0",
   "metadata": {
    "scrolled": true
   },
   "outputs": [],
   "source": [
    "df = pd.read_csv(\"C:\\\\Users\\\\data2\\\\OneDrive\\\\Masaüstü\\\\codeware\\\\TASKS\\\\5task\\\\dataset.csv\")"
   ]
  },
  {
   "cell_type": "code",
   "execution_count": 7,
   "id": "442189b0",
   "metadata": {
    "scrolled": true
   },
   "outputs": [
    {
     "name": "stdout",
     "output_type": "stream",
     "text": [
      "<class 'pandas.core.frame.DataFrame'>\n",
      "RangeIndex: 11856 entries, 0 to 11855\n",
      "Data columns (total 3 columns):\n",
      " #   Column    Non-Null Count  Dtype \n",
      "---  ------    --------------  ----- \n",
      " 0   sID       11856 non-null  int64 \n",
      " 1   Datetime  11856 non-null  object\n",
      " 2   Count     11856 non-null  int64 \n",
      "dtypes: int64(2), object(1)\n",
      "memory usage: 278.0+ KB\n"
     ]
    }
   ],
   "source": [
    "df.info()"
   ]
  },
  {
   "cell_type": "code",
   "execution_count": 8,
   "id": "931b9fa7",
   "metadata": {},
   "outputs": [
    {
     "name": "stderr",
     "output_type": "stream",
     "text": [
      "C:\\Users\\data2\\AppData\\Local\\Temp\\ipykernel_8944\\3242123255.py:1: UserWarning: Parsing dates in %d-%m-%Y %H:%M format when dayfirst=False (the default) was specified. Pass `dayfirst=True` or specify a format to silence this warning.\n",
      "  df[\"Datetime\"]= pd.to_datetime(df[\"Datetime\"])\n"
     ]
    }
   ],
   "source": [
    "df[\"Datetime\"]= pd.to_datetime(df[\"Datetime\"])"
   ]
  },
  {
   "cell_type": "code",
   "execution_count": 9,
   "id": "a76d06fa",
   "metadata": {},
   "outputs": [],
   "source": [
    "df[\"year\"] = df[\"Datetime\"].dt.year\n",
    "df[\"month\"] = df[\"Datetime\"].dt.month\n",
    "df[\"day\"] = df[\"Datetime\"].dt.day\n",
    "df[\"hour\"] = df[\"Datetime\"].dt.hour"
   ]
  },
  {
   "cell_type": "code",
   "execution_count": 10,
   "id": "050c315c",
   "metadata": {},
   "outputs": [],
   "source": [
    "df=df.set_index(\"Datetime\")"
   ]
  },
  {
   "cell_type": "code",
   "execution_count": 11,
   "id": "6ff3527e",
   "metadata": {},
   "outputs": [],
   "source": [
    "p90= len(df) *(0.9)"
   ]
  },
  {
   "cell_type": "code",
   "execution_count": 12,
   "id": "68addb1c",
   "metadata": {},
   "outputs": [],
   "source": [
    "p90 = np.round(p90)"
   ]
  },
  {
   "cell_type": "code",
   "execution_count": 13,
   "id": "1aa94d90",
   "metadata": {},
   "outputs": [],
   "source": [
    "p90=p90.astype(int)"
   ]
  },
  {
   "cell_type": "code",
   "execution_count": 14,
   "id": "4035c02d",
   "metadata": {},
   "outputs": [],
   "source": [
    "train_size=df.iloc[0:p90]"
   ]
  },
  {
   "cell_type": "code",
   "execution_count": 15,
   "id": "90ef702a",
   "metadata": {},
   "outputs": [],
   "source": [
    "test_size=df.iloc[p90:]"
   ]
  },
  {
   "cell_type": "code",
   "execution_count": 16,
   "id": "6557c933",
   "metadata": {
    "scrolled": true
   },
   "outputs": [
    {
     "data": {
      "text/plain": [
       "(                       sID  Count  year  month  day  hour\n",
       " Datetime                                                 \n",
       " 2013-12-31 19:00:00  11851    286  2013     12   31    19\n",
       " 2013-12-31 20:00:00  11852    256  2013     12   31    20\n",
       " 2013-12-31 21:00:00  11853    228  2013     12   31    21\n",
       " 2013-12-31 22:00:00  11854    216  2013     12   31    22\n",
       " 2013-12-31 23:00:00  11855    246  2013     12   31    23,\n",
       "                        sID  Count  year  month  day  hour\n",
       " Datetime                                                 \n",
       " 2013-12-31 19:00:00  11851    286  2013     12   31    19\n",
       " 2013-12-31 20:00:00  11852    256  2013     12   31    20\n",
       " 2013-12-31 21:00:00  11853    228  2013     12   31    21\n",
       " 2013-12-31 22:00:00  11854    216  2013     12   31    22\n",
       " 2013-12-31 23:00:00  11855    246  2013     12   31    23)"
      ]
     },
     "execution_count": 16,
     "metadata": {},
     "output_type": "execute_result"
    }
   ],
   "source": [
    "df.tail(5)  , test_size.tail()"
   ]
  },
  {
   "cell_type": "markdown",
   "id": "fb28d839",
   "metadata": {},
   "source": [
    "# Default Degerler (hyperparameter girilmedi )"
   ]
  },
  {
   "cell_type": "code",
   "execution_count": 17,
   "id": "005b6236",
   "metadata": {},
   "outputs": [],
   "source": [
    "X_train =train_size.drop(\"Count\",axis=1)\n",
    "y_train = train_size[\"Count\"]"
   ]
  },
  {
   "cell_type": "code",
   "execution_count": 18,
   "id": "34a37773",
   "metadata": {},
   "outputs": [],
   "source": [
    "\n",
    "X_test =test_size.drop(\"Count\", axis=1)\n",
    "y_test = test_size[\"Count\"]"
   ]
  },
  {
   "cell_type": "markdown",
   "id": "5d9ffe22",
   "metadata": {},
   "source": [
    "# Linear Regression"
   ]
  },
  {
   "cell_type": "code",
   "execution_count": 19,
   "id": "6272181a",
   "metadata": {},
   "outputs": [],
   "source": [
    "from sklearn.linear_model import LinearRegression"
   ]
  },
  {
   "cell_type": "code",
   "execution_count": 20,
   "id": "b9bf0e73",
   "metadata": {},
   "outputs": [],
   "source": [
    "model = LinearRegression()"
   ]
  },
  {
   "cell_type": "code",
   "execution_count": 21,
   "id": "353fe72e",
   "metadata": {},
   "outputs": [
    {
     "data": {
      "text/html": [
       "<style>#sk-container-id-1 {color: black;}#sk-container-id-1 pre{padding: 0;}#sk-container-id-1 div.sk-toggleable {background-color: white;}#sk-container-id-1 label.sk-toggleable__label {cursor: pointer;display: block;width: 100%;margin-bottom: 0;padding: 0.3em;box-sizing: border-box;text-align: center;}#sk-container-id-1 label.sk-toggleable__label-arrow:before {content: \"▸\";float: left;margin-right: 0.25em;color: #696969;}#sk-container-id-1 label.sk-toggleable__label-arrow:hover:before {color: black;}#sk-container-id-1 div.sk-estimator:hover label.sk-toggleable__label-arrow:before {color: black;}#sk-container-id-1 div.sk-toggleable__content {max-height: 0;max-width: 0;overflow: hidden;text-align: left;background-color: #f0f8ff;}#sk-container-id-1 div.sk-toggleable__content pre {margin: 0.2em;color: black;border-radius: 0.25em;background-color: #f0f8ff;}#sk-container-id-1 input.sk-toggleable__control:checked~div.sk-toggleable__content {max-height: 200px;max-width: 100%;overflow: auto;}#sk-container-id-1 input.sk-toggleable__control:checked~label.sk-toggleable__label-arrow:before {content: \"▾\";}#sk-container-id-1 div.sk-estimator input.sk-toggleable__control:checked~label.sk-toggleable__label {background-color: #d4ebff;}#sk-container-id-1 div.sk-label input.sk-toggleable__control:checked~label.sk-toggleable__label {background-color: #d4ebff;}#sk-container-id-1 input.sk-hidden--visually {border: 0;clip: rect(1px 1px 1px 1px);clip: rect(1px, 1px, 1px, 1px);height: 1px;margin: -1px;overflow: hidden;padding: 0;position: absolute;width: 1px;}#sk-container-id-1 div.sk-estimator {font-family: monospace;background-color: #f0f8ff;border: 1px dotted black;border-radius: 0.25em;box-sizing: border-box;margin-bottom: 0.5em;}#sk-container-id-1 div.sk-estimator:hover {background-color: #d4ebff;}#sk-container-id-1 div.sk-parallel-item::after {content: \"\";width: 100%;border-bottom: 1px solid gray;flex-grow: 1;}#sk-container-id-1 div.sk-label:hover label.sk-toggleable__label {background-color: #d4ebff;}#sk-container-id-1 div.sk-serial::before {content: \"\";position: absolute;border-left: 1px solid gray;box-sizing: border-box;top: 0;bottom: 0;left: 50%;z-index: 0;}#sk-container-id-1 div.sk-serial {display: flex;flex-direction: column;align-items: center;background-color: white;padding-right: 0.2em;padding-left: 0.2em;position: relative;}#sk-container-id-1 div.sk-item {position: relative;z-index: 1;}#sk-container-id-1 div.sk-parallel {display: flex;align-items: stretch;justify-content: center;background-color: white;position: relative;}#sk-container-id-1 div.sk-item::before, #sk-container-id-1 div.sk-parallel-item::before {content: \"\";position: absolute;border-left: 1px solid gray;box-sizing: border-box;top: 0;bottom: 0;left: 50%;z-index: -1;}#sk-container-id-1 div.sk-parallel-item {display: flex;flex-direction: column;z-index: 1;position: relative;background-color: white;}#sk-container-id-1 div.sk-parallel-item:first-child::after {align-self: flex-end;width: 50%;}#sk-container-id-1 div.sk-parallel-item:last-child::after {align-self: flex-start;width: 50%;}#sk-container-id-1 div.sk-parallel-item:only-child::after {width: 0;}#sk-container-id-1 div.sk-dashed-wrapped {border: 1px dashed gray;margin: 0 0.4em 0.5em 0.4em;box-sizing: border-box;padding-bottom: 0.4em;background-color: white;}#sk-container-id-1 div.sk-label label {font-family: monospace;font-weight: bold;display: inline-block;line-height: 1.2em;}#sk-container-id-1 div.sk-label-container {text-align: center;}#sk-container-id-1 div.sk-container {/* jupyter's `normalize.less` sets `[hidden] { display: none; }` but bootstrap.min.css set `[hidden] { display: none !important; }` so we also need the `!important` here to be able to override the default hidden behavior on the sphinx rendered scikit-learn.org. See: https://github.com/scikit-learn/scikit-learn/issues/21755 */display: inline-block !important;position: relative;}#sk-container-id-1 div.sk-text-repr-fallback {display: none;}</style><div id=\"sk-container-id-1\" class=\"sk-top-container\"><div class=\"sk-text-repr-fallback\"><pre>LinearRegression()</pre><b>In a Jupyter environment, please rerun this cell to show the HTML representation or trust the notebook. <br />On GitHub, the HTML representation is unable to render, please try loading this page with nbviewer.org.</b></div><div class=\"sk-container\" hidden><div class=\"sk-item\"><div class=\"sk-estimator sk-toggleable\"><input class=\"sk-toggleable__control sk-hidden--visually\" id=\"sk-estimator-id-1\" type=\"checkbox\" checked><label for=\"sk-estimator-id-1\" class=\"sk-toggleable__label sk-toggleable__label-arrow\">LinearRegression</label><div class=\"sk-toggleable__content\"><pre>LinearRegression()</pre></div></div></div></div></div>"
      ],
      "text/plain": [
       "LinearRegression()"
      ]
     },
     "execution_count": 21,
     "metadata": {},
     "output_type": "execute_result"
    }
   ],
   "source": [
    "lreg =LinearRegression()\n",
    "lreg.fit(X_train,y_train)"
   ]
  },
  {
   "cell_type": "code",
   "execution_count": 22,
   "id": "8a10e2c8",
   "metadata": {},
   "outputs": [],
   "source": [
    "y_pred11 =lreg.predict(X_test)"
   ]
  },
  {
   "cell_type": "code",
   "execution_count": 23,
   "id": "47a9faf9",
   "metadata": {
    "scrolled": true
   },
   "outputs": [
    {
     "name": "stdout",
     "output_type": "stream",
     "text": [
      "5426.593534844751\n",
      "60.43858614357732\n",
      "0.9194984730923907\n",
      "73.66541613840752\n"
     ]
    }
   ],
   "source": [
    "mse_lreg = mse(y_test, y_pred11)\n",
    "mae_lreg= mae(y_test, y_pred11)\n",
    "mape_lreg=mape(y_test, y_pred11)\n",
    "rmse_lreg =np.sqrt(mse(y_test,y_pred11))\n",
    "print(mse_lreg)\n",
    "print(mae_lreg)\n",
    "print(mape_lreg)\n",
    "print(rmse_lreg)"
   ]
  },
  {
   "cell_type": "markdown",
   "id": "01b4cc4c",
   "metadata": {},
   "source": [
    "## Random Forest"
   ]
  },
  {
   "cell_type": "code",
   "execution_count": 40,
   "id": "947e2971",
   "metadata": {},
   "outputs": [],
   "source": [
    "from sklearn.ensemble import RandomForestRegressor"
   ]
  },
  {
   "cell_type": "code",
   "execution_count": 41,
   "id": "761974b2",
   "metadata": {},
   "outputs": [],
   "source": [
    "forest_regg=RandomForestRegressor()"
   ]
  },
  {
   "cell_type": "code",
   "execution_count": 42,
   "id": "c8cbb1f5",
   "metadata": {},
   "outputs": [
    {
     "data": {
      "text/html": [
       "<style>#sk-container-id-3 {color: black;}#sk-container-id-3 pre{padding: 0;}#sk-container-id-3 div.sk-toggleable {background-color: white;}#sk-container-id-3 label.sk-toggleable__label {cursor: pointer;display: block;width: 100%;margin-bottom: 0;padding: 0.3em;box-sizing: border-box;text-align: center;}#sk-container-id-3 label.sk-toggleable__label-arrow:before {content: \"▸\";float: left;margin-right: 0.25em;color: #696969;}#sk-container-id-3 label.sk-toggleable__label-arrow:hover:before {color: black;}#sk-container-id-3 div.sk-estimator:hover label.sk-toggleable__label-arrow:before {color: black;}#sk-container-id-3 div.sk-toggleable__content {max-height: 0;max-width: 0;overflow: hidden;text-align: left;background-color: #f0f8ff;}#sk-container-id-3 div.sk-toggleable__content pre {margin: 0.2em;color: black;border-radius: 0.25em;background-color: #f0f8ff;}#sk-container-id-3 input.sk-toggleable__control:checked~div.sk-toggleable__content {max-height: 200px;max-width: 100%;overflow: auto;}#sk-container-id-3 input.sk-toggleable__control:checked~label.sk-toggleable__label-arrow:before {content: \"▾\";}#sk-container-id-3 div.sk-estimator input.sk-toggleable__control:checked~label.sk-toggleable__label {background-color: #d4ebff;}#sk-container-id-3 div.sk-label input.sk-toggleable__control:checked~label.sk-toggleable__label {background-color: #d4ebff;}#sk-container-id-3 input.sk-hidden--visually {border: 0;clip: rect(1px 1px 1px 1px);clip: rect(1px, 1px, 1px, 1px);height: 1px;margin: -1px;overflow: hidden;padding: 0;position: absolute;width: 1px;}#sk-container-id-3 div.sk-estimator {font-family: monospace;background-color: #f0f8ff;border: 1px dotted black;border-radius: 0.25em;box-sizing: border-box;margin-bottom: 0.5em;}#sk-container-id-3 div.sk-estimator:hover {background-color: #d4ebff;}#sk-container-id-3 div.sk-parallel-item::after {content: \"\";width: 100%;border-bottom: 1px solid gray;flex-grow: 1;}#sk-container-id-3 div.sk-label:hover label.sk-toggleable__label {background-color: #d4ebff;}#sk-container-id-3 div.sk-serial::before {content: \"\";position: absolute;border-left: 1px solid gray;box-sizing: border-box;top: 0;bottom: 0;left: 50%;z-index: 0;}#sk-container-id-3 div.sk-serial {display: flex;flex-direction: column;align-items: center;background-color: white;padding-right: 0.2em;padding-left: 0.2em;position: relative;}#sk-container-id-3 div.sk-item {position: relative;z-index: 1;}#sk-container-id-3 div.sk-parallel {display: flex;align-items: stretch;justify-content: center;background-color: white;position: relative;}#sk-container-id-3 div.sk-item::before, #sk-container-id-3 div.sk-parallel-item::before {content: \"\";position: absolute;border-left: 1px solid gray;box-sizing: border-box;top: 0;bottom: 0;left: 50%;z-index: -1;}#sk-container-id-3 div.sk-parallel-item {display: flex;flex-direction: column;z-index: 1;position: relative;background-color: white;}#sk-container-id-3 div.sk-parallel-item:first-child::after {align-self: flex-end;width: 50%;}#sk-container-id-3 div.sk-parallel-item:last-child::after {align-self: flex-start;width: 50%;}#sk-container-id-3 div.sk-parallel-item:only-child::after {width: 0;}#sk-container-id-3 div.sk-dashed-wrapped {border: 1px dashed gray;margin: 0 0.4em 0.5em 0.4em;box-sizing: border-box;padding-bottom: 0.4em;background-color: white;}#sk-container-id-3 div.sk-label label {font-family: monospace;font-weight: bold;display: inline-block;line-height: 1.2em;}#sk-container-id-3 div.sk-label-container {text-align: center;}#sk-container-id-3 div.sk-container {/* jupyter's `normalize.less` sets `[hidden] { display: none; }` but bootstrap.min.css set `[hidden] { display: none !important; }` so we also need the `!important` here to be able to override the default hidden behavior on the sphinx rendered scikit-learn.org. See: https://github.com/scikit-learn/scikit-learn/issues/21755 */display: inline-block !important;position: relative;}#sk-container-id-3 div.sk-text-repr-fallback {display: none;}</style><div id=\"sk-container-id-3\" class=\"sk-top-container\"><div class=\"sk-text-repr-fallback\"><pre>RandomForestRegressor()</pre><b>In a Jupyter environment, please rerun this cell to show the HTML representation or trust the notebook. <br />On GitHub, the HTML representation is unable to render, please try loading this page with nbviewer.org.</b></div><div class=\"sk-container\" hidden><div class=\"sk-item\"><div class=\"sk-estimator sk-toggleable\"><input class=\"sk-toggleable__control sk-hidden--visually\" id=\"sk-estimator-id-5\" type=\"checkbox\" checked><label for=\"sk-estimator-id-5\" class=\"sk-toggleable__label sk-toggleable__label-arrow\">RandomForestRegressor</label><div class=\"sk-toggleable__content\"><pre>RandomForestRegressor()</pre></div></div></div></div></div>"
      ],
      "text/plain": [
       "RandomForestRegressor()"
      ]
     },
     "execution_count": 42,
     "metadata": {},
     "output_type": "execute_result"
    }
   ],
   "source": [
    "forest_regg.fit(X_train,y_train)"
   ]
  },
  {
   "cell_type": "code",
   "execution_count": 43,
   "id": "7904dfa8",
   "metadata": {},
   "outputs": [],
   "source": [
    "y_pred12 = forest_regg.predict(X_test)"
   ]
  },
  {
   "cell_type": "code",
   "execution_count": 44,
   "id": "b96645fd",
   "metadata": {},
   "outputs": [
    {
     "name": "stdout",
     "output_type": "stream",
     "text": [
      "4032.0698667790894\n",
      "47.19091062394604\n",
      "0.7494168641014792\n",
      "63.49858161234067\n"
     ]
    }
   ],
   "source": [
    "mse_forestregg = mse(y_test, y_pred12)\n",
    "mae_forestregg= mae(y_test, y_pred12)\n",
    "mape_forestregg=mape(y_test, y_pred12)\n",
    "rmse_forestregg =np.sqrt(mse(y_test,y_pred12))\n",
    "print(mse_forestregg)\n",
    "print(mae_forestregg)\n",
    "print(mape_forestregg)\n",
    "print(rmse_forestregg)"
   ]
  },
  {
   "cell_type": "markdown",
   "id": "b2880685",
   "metadata": {},
   "source": [
    "## SVM"
   ]
  },
  {
   "cell_type": "code",
   "execution_count": 45,
   "id": "5213e768",
   "metadata": {},
   "outputs": [],
   "source": [
    "from sklearn.svm import SVR"
   ]
  },
  {
   "cell_type": "code",
   "execution_count": 46,
   "id": "f327ae72",
   "metadata": {},
   "outputs": [],
   "source": [
    "sv_reg=SVR()"
   ]
  },
  {
   "cell_type": "code",
   "execution_count": 47,
   "id": "1521710c",
   "metadata": {},
   "outputs": [
    {
     "data": {
      "text/html": [
       "<style>#sk-container-id-4 {color: black;}#sk-container-id-4 pre{padding: 0;}#sk-container-id-4 div.sk-toggleable {background-color: white;}#sk-container-id-4 label.sk-toggleable__label {cursor: pointer;display: block;width: 100%;margin-bottom: 0;padding: 0.3em;box-sizing: border-box;text-align: center;}#sk-container-id-4 label.sk-toggleable__label-arrow:before {content: \"▸\";float: left;margin-right: 0.25em;color: #696969;}#sk-container-id-4 label.sk-toggleable__label-arrow:hover:before {color: black;}#sk-container-id-4 div.sk-estimator:hover label.sk-toggleable__label-arrow:before {color: black;}#sk-container-id-4 div.sk-toggleable__content {max-height: 0;max-width: 0;overflow: hidden;text-align: left;background-color: #f0f8ff;}#sk-container-id-4 div.sk-toggleable__content pre {margin: 0.2em;color: black;border-radius: 0.25em;background-color: #f0f8ff;}#sk-container-id-4 input.sk-toggleable__control:checked~div.sk-toggleable__content {max-height: 200px;max-width: 100%;overflow: auto;}#sk-container-id-4 input.sk-toggleable__control:checked~label.sk-toggleable__label-arrow:before {content: \"▾\";}#sk-container-id-4 div.sk-estimator input.sk-toggleable__control:checked~label.sk-toggleable__label {background-color: #d4ebff;}#sk-container-id-4 div.sk-label input.sk-toggleable__control:checked~label.sk-toggleable__label {background-color: #d4ebff;}#sk-container-id-4 input.sk-hidden--visually {border: 0;clip: rect(1px 1px 1px 1px);clip: rect(1px, 1px, 1px, 1px);height: 1px;margin: -1px;overflow: hidden;padding: 0;position: absolute;width: 1px;}#sk-container-id-4 div.sk-estimator {font-family: monospace;background-color: #f0f8ff;border: 1px dotted black;border-radius: 0.25em;box-sizing: border-box;margin-bottom: 0.5em;}#sk-container-id-4 div.sk-estimator:hover {background-color: #d4ebff;}#sk-container-id-4 div.sk-parallel-item::after {content: \"\";width: 100%;border-bottom: 1px solid gray;flex-grow: 1;}#sk-container-id-4 div.sk-label:hover label.sk-toggleable__label {background-color: #d4ebff;}#sk-container-id-4 div.sk-serial::before {content: \"\";position: absolute;border-left: 1px solid gray;box-sizing: border-box;top: 0;bottom: 0;left: 50%;z-index: 0;}#sk-container-id-4 div.sk-serial {display: flex;flex-direction: column;align-items: center;background-color: white;padding-right: 0.2em;padding-left: 0.2em;position: relative;}#sk-container-id-4 div.sk-item {position: relative;z-index: 1;}#sk-container-id-4 div.sk-parallel {display: flex;align-items: stretch;justify-content: center;background-color: white;position: relative;}#sk-container-id-4 div.sk-item::before, #sk-container-id-4 div.sk-parallel-item::before {content: \"\";position: absolute;border-left: 1px solid gray;box-sizing: border-box;top: 0;bottom: 0;left: 50%;z-index: -1;}#sk-container-id-4 div.sk-parallel-item {display: flex;flex-direction: column;z-index: 1;position: relative;background-color: white;}#sk-container-id-4 div.sk-parallel-item:first-child::after {align-self: flex-end;width: 50%;}#sk-container-id-4 div.sk-parallel-item:last-child::after {align-self: flex-start;width: 50%;}#sk-container-id-4 div.sk-parallel-item:only-child::after {width: 0;}#sk-container-id-4 div.sk-dashed-wrapped {border: 1px dashed gray;margin: 0 0.4em 0.5em 0.4em;box-sizing: border-box;padding-bottom: 0.4em;background-color: white;}#sk-container-id-4 div.sk-label label {font-family: monospace;font-weight: bold;display: inline-block;line-height: 1.2em;}#sk-container-id-4 div.sk-label-container {text-align: center;}#sk-container-id-4 div.sk-container {/* jupyter's `normalize.less` sets `[hidden] { display: none; }` but bootstrap.min.css set `[hidden] { display: none !important; }` so we also need the `!important` here to be able to override the default hidden behavior on the sphinx rendered scikit-learn.org. See: https://github.com/scikit-learn/scikit-learn/issues/21755 */display: inline-block !important;position: relative;}#sk-container-id-4 div.sk-text-repr-fallback {display: none;}</style><div id=\"sk-container-id-4\" class=\"sk-top-container\"><div class=\"sk-text-repr-fallback\"><pre>SVR()</pre><b>In a Jupyter environment, please rerun this cell to show the HTML representation or trust the notebook. <br />On GitHub, the HTML representation is unable to render, please try loading this page with nbviewer.org.</b></div><div class=\"sk-container\" hidden><div class=\"sk-item\"><div class=\"sk-estimator sk-toggleable\"><input class=\"sk-toggleable__control sk-hidden--visually\" id=\"sk-estimator-id-6\" type=\"checkbox\" checked><label for=\"sk-estimator-id-6\" class=\"sk-toggleable__label sk-toggleable__label-arrow\">SVR</label><div class=\"sk-toggleable__content\"><pre>SVR()</pre></div></div></div></div></div>"
      ],
      "text/plain": [
       "SVR()"
      ]
     },
     "execution_count": 47,
     "metadata": {},
     "output_type": "execute_result"
    }
   ],
   "source": [
    "sv_reg.fit(X_train,y_train)"
   ]
  },
  {
   "cell_type": "code",
   "execution_count": 48,
   "id": "b50e50fe",
   "metadata": {},
   "outputs": [],
   "source": [
    "y_pred13 =sv_reg.predict(X_test)"
   ]
  },
  {
   "cell_type": "code",
   "execution_count": 49,
   "id": "cb58ce02",
   "metadata": {},
   "outputs": [
    {
     "name": "stdout",
     "output_type": "stream",
     "text": [
      "7023.928688487347\n",
      "65.275071639749\n",
      "0.7972478404215554\n",
      "83.80888191884765\n"
     ]
    }
   ],
   "source": [
    "mse_sv_reg = mse(y_test, y_pred13)\n",
    "mae_sv_reg= mae(y_test, y_pred13)\n",
    "mape_sv_reg=mape(y_test, y_pred13)\n",
    "rmse_sv_reg =np.sqrt(mse(y_test,y_pred13))\n",
    "print(mse_sv_reg)\n",
    "print(mae_sv_reg)\n",
    "print(mape_sv_reg)\n",
    "print(rmse_sv_reg)"
   ]
  },
  {
   "cell_type": "markdown",
   "id": "acad0d29",
   "metadata": {},
   "source": [
    "## xGboost Regressor"
   ]
  },
  {
   "cell_type": "markdown",
   "id": "805b71a9",
   "metadata": {},
   "source": [
    "#### Okul zamaninda da xgboost kutuphanesini yuklemeye calismis , yuklemis ona ragmen boyle bir problem ile karsilasmistim"
   ]
  },
  {
   "cell_type": "code",
   "execution_count": 50,
   "id": "70c0d881",
   "metadata": {
    "scrolled": true
   },
   "outputs": [],
   "source": [
    "# Bunu cmd ve bash ile yuklemeye calistim en cok zamanim burada gitti :\\\\ :)\n",
    "#%pip install xgboost"
   ]
  },
  {
   "cell_type": "code",
   "execution_count": 51,
   "id": "8f54a151",
   "metadata": {
    "scrolled": true
   },
   "outputs": [],
   "source": [
    "from xgboost import XGBRegressor as xgbR"
   ]
  },
  {
   "cell_type": "code",
   "execution_count": 52,
   "id": "e4c1eff3",
   "metadata": {},
   "outputs": [],
   "source": [
    "xg_regg =xgbR()"
   ]
  },
  {
   "cell_type": "code",
   "execution_count": 53,
   "id": "d919bc01",
   "metadata": {},
   "outputs": [
    {
     "data": {
      "text/html": [
       "<style>#sk-container-id-5 {color: black;}#sk-container-id-5 pre{padding: 0;}#sk-container-id-5 div.sk-toggleable {background-color: white;}#sk-container-id-5 label.sk-toggleable__label {cursor: pointer;display: block;width: 100%;margin-bottom: 0;padding: 0.3em;box-sizing: border-box;text-align: center;}#sk-container-id-5 label.sk-toggleable__label-arrow:before {content: \"▸\";float: left;margin-right: 0.25em;color: #696969;}#sk-container-id-5 label.sk-toggleable__label-arrow:hover:before {color: black;}#sk-container-id-5 div.sk-estimator:hover label.sk-toggleable__label-arrow:before {color: black;}#sk-container-id-5 div.sk-toggleable__content {max-height: 0;max-width: 0;overflow: hidden;text-align: left;background-color: #f0f8ff;}#sk-container-id-5 div.sk-toggleable__content pre {margin: 0.2em;color: black;border-radius: 0.25em;background-color: #f0f8ff;}#sk-container-id-5 input.sk-toggleable__control:checked~div.sk-toggleable__content {max-height: 200px;max-width: 100%;overflow: auto;}#sk-container-id-5 input.sk-toggleable__control:checked~label.sk-toggleable__label-arrow:before {content: \"▾\";}#sk-container-id-5 div.sk-estimator input.sk-toggleable__control:checked~label.sk-toggleable__label {background-color: #d4ebff;}#sk-container-id-5 div.sk-label input.sk-toggleable__control:checked~label.sk-toggleable__label {background-color: #d4ebff;}#sk-container-id-5 input.sk-hidden--visually {border: 0;clip: rect(1px 1px 1px 1px);clip: rect(1px, 1px, 1px, 1px);height: 1px;margin: -1px;overflow: hidden;padding: 0;position: absolute;width: 1px;}#sk-container-id-5 div.sk-estimator {font-family: monospace;background-color: #f0f8ff;border: 1px dotted black;border-radius: 0.25em;box-sizing: border-box;margin-bottom: 0.5em;}#sk-container-id-5 div.sk-estimator:hover {background-color: #d4ebff;}#sk-container-id-5 div.sk-parallel-item::after {content: \"\";width: 100%;border-bottom: 1px solid gray;flex-grow: 1;}#sk-container-id-5 div.sk-label:hover label.sk-toggleable__label {background-color: #d4ebff;}#sk-container-id-5 div.sk-serial::before {content: \"\";position: absolute;border-left: 1px solid gray;box-sizing: border-box;top: 0;bottom: 0;left: 50%;z-index: 0;}#sk-container-id-5 div.sk-serial {display: flex;flex-direction: column;align-items: center;background-color: white;padding-right: 0.2em;padding-left: 0.2em;position: relative;}#sk-container-id-5 div.sk-item {position: relative;z-index: 1;}#sk-container-id-5 div.sk-parallel {display: flex;align-items: stretch;justify-content: center;background-color: white;position: relative;}#sk-container-id-5 div.sk-item::before, #sk-container-id-5 div.sk-parallel-item::before {content: \"\";position: absolute;border-left: 1px solid gray;box-sizing: border-box;top: 0;bottom: 0;left: 50%;z-index: -1;}#sk-container-id-5 div.sk-parallel-item {display: flex;flex-direction: column;z-index: 1;position: relative;background-color: white;}#sk-container-id-5 div.sk-parallel-item:first-child::after {align-self: flex-end;width: 50%;}#sk-container-id-5 div.sk-parallel-item:last-child::after {align-self: flex-start;width: 50%;}#sk-container-id-5 div.sk-parallel-item:only-child::after {width: 0;}#sk-container-id-5 div.sk-dashed-wrapped {border: 1px dashed gray;margin: 0 0.4em 0.5em 0.4em;box-sizing: border-box;padding-bottom: 0.4em;background-color: white;}#sk-container-id-5 div.sk-label label {font-family: monospace;font-weight: bold;display: inline-block;line-height: 1.2em;}#sk-container-id-5 div.sk-label-container {text-align: center;}#sk-container-id-5 div.sk-container {/* jupyter's `normalize.less` sets `[hidden] { display: none; }` but bootstrap.min.css set `[hidden] { display: none !important; }` so we also need the `!important` here to be able to override the default hidden behavior on the sphinx rendered scikit-learn.org. See: https://github.com/scikit-learn/scikit-learn/issues/21755 */display: inline-block !important;position: relative;}#sk-container-id-5 div.sk-text-repr-fallback {display: none;}</style><div id=\"sk-container-id-5\" class=\"sk-top-container\"><div class=\"sk-text-repr-fallback\"><pre>XGBRegressor(base_score=None, booster=None, callbacks=None,\n",
       "             colsample_bylevel=None, colsample_bynode=None,\n",
       "             colsample_bytree=None, device=None, early_stopping_rounds=None,\n",
       "             enable_categorical=False, eval_metric=None, feature_types=None,\n",
       "             gamma=None, grow_policy=None, importance_type=None,\n",
       "             interaction_constraints=None, learning_rate=None, max_bin=None,\n",
       "             max_cat_threshold=None, max_cat_to_onehot=None,\n",
       "             max_delta_step=None, max_depth=None, max_leaves=None,\n",
       "             min_child_weight=None, missing=nan, monotone_constraints=None,\n",
       "             multi_strategy=None, n_estimators=None, n_jobs=None,\n",
       "             num_parallel_tree=None, random_state=None, ...)</pre><b>In a Jupyter environment, please rerun this cell to show the HTML representation or trust the notebook. <br />On GitHub, the HTML representation is unable to render, please try loading this page with nbviewer.org.</b></div><div class=\"sk-container\" hidden><div class=\"sk-item\"><div class=\"sk-estimator sk-toggleable\"><input class=\"sk-toggleable__control sk-hidden--visually\" id=\"sk-estimator-id-7\" type=\"checkbox\" checked><label for=\"sk-estimator-id-7\" class=\"sk-toggleable__label sk-toggleable__label-arrow\">XGBRegressor</label><div class=\"sk-toggleable__content\"><pre>XGBRegressor(base_score=None, booster=None, callbacks=None,\n",
       "             colsample_bylevel=None, colsample_bynode=None,\n",
       "             colsample_bytree=None, device=None, early_stopping_rounds=None,\n",
       "             enable_categorical=False, eval_metric=None, feature_types=None,\n",
       "             gamma=None, grow_policy=None, importance_type=None,\n",
       "             interaction_constraints=None, learning_rate=None, max_bin=None,\n",
       "             max_cat_threshold=None, max_cat_to_onehot=None,\n",
       "             max_delta_step=None, max_depth=None, max_leaves=None,\n",
       "             min_child_weight=None, missing=nan, monotone_constraints=None,\n",
       "             multi_strategy=None, n_estimators=None, n_jobs=None,\n",
       "             num_parallel_tree=None, random_state=None, ...)</pre></div></div></div></div></div>"
      ],
      "text/plain": [
       "XGBRegressor(base_score=None, booster=None, callbacks=None,\n",
       "             colsample_bylevel=None, colsample_bynode=None,\n",
       "             colsample_bytree=None, device=None, early_stopping_rounds=None,\n",
       "             enable_categorical=False, eval_metric=None, feature_types=None,\n",
       "             gamma=None, grow_policy=None, importance_type=None,\n",
       "             interaction_constraints=None, learning_rate=None, max_bin=None,\n",
       "             max_cat_threshold=None, max_cat_to_onehot=None,\n",
       "             max_delta_step=None, max_depth=None, max_leaves=None,\n",
       "             min_child_weight=None, missing=nan, monotone_constraints=None,\n",
       "             multi_strategy=None, n_estimators=None, n_jobs=None,\n",
       "             num_parallel_tree=None, random_state=None, ...)"
      ]
     },
     "execution_count": 53,
     "metadata": {},
     "output_type": "execute_result"
    }
   ],
   "source": [
    "xg_regg.fit(X_train , y_train)"
   ]
  },
  {
   "cell_type": "code",
   "execution_count": 54,
   "id": "d17950d9",
   "metadata": {},
   "outputs": [],
   "source": [
    "y_pred14 =xg_regg.predict(X_test)"
   ]
  },
  {
   "cell_type": "code",
   "execution_count": 55,
   "id": "b7f4b040",
   "metadata": {},
   "outputs": [
    {
     "name": "stdout",
     "output_type": "stream",
     "text": [
      "6945.676921673017\n",
      "60.74615244680472\n",
      "0.8548266598170733\n",
      "83.34072786862986\n"
     ]
    }
   ],
   "source": [
    "mse_xg_regg = mse(y_test, y_pred14)\n",
    "mae_xg_regg= mae(y_test, y_pred14)\n",
    "mape_xg_regg=mape(y_test, y_pred14)\n",
    "rmse_xg_regg =np.sqrt(mse(y_test,y_pred14))\n",
    "print(mse_xg_regg)\n",
    "print(mae_xg_regg)\n",
    "print(mape_xg_regg)\n",
    "print(rmse_xg_regg)"
   ]
  },
  {
   "cell_type": "markdown",
   "id": "e02a303d",
   "metadata": {},
   "source": [
    "## Light GBM"
   ]
  },
  {
   "cell_type": "code",
   "execution_count": null,
   "id": "f22cecc8",
   "metadata": {},
   "outputs": [],
   "source": [
    "#!pip install numpy scipy scikit-learn -q"
   ]
  },
  {
   "cell_type": "code",
   "execution_count": null,
   "id": "001650eb",
   "metadata": {},
   "outputs": [],
   "source": [
    "#!pip install lightgbm -q"
   ]
  },
  {
   "cell_type": "code",
   "execution_count": 94,
   "id": "717b16c1",
   "metadata": {},
   "outputs": [],
   "source": [
    "import lightgbm as lgb"
   ]
  },
  {
   "cell_type": "code",
   "execution_count": 95,
   "id": "9bf95740",
   "metadata": {},
   "outputs": [],
   "source": [
    "lgbm_regg=lgb.LGBMRegressor()"
   ]
  },
  {
   "cell_type": "code",
   "execution_count": 96,
   "id": "ed699cdb",
   "metadata": {},
   "outputs": [
    {
     "name": "stdout",
     "output_type": "stream",
     "text": [
      "[LightGBM] [Info] Auto-choosing row-wise multi-threading, the overhead of testing was 0.000172 seconds.\n",
      "You can set `force_row_wise=true` to remove the overhead.\n",
      "And if memory is not enough, you can set `force_col_wise=true`.\n",
      "[LightGBM] [Info] Total Bins 327\n",
      "[LightGBM] [Info] Number of data points in the train set: 10670, number of used features: 5\n",
      "[LightGBM] [Info] Start training from score 50.675164\n"
     ]
    },
    {
     "data": {
      "text/html": [
       "<style>#sk-container-id-9 {color: black;}#sk-container-id-9 pre{padding: 0;}#sk-container-id-9 div.sk-toggleable {background-color: white;}#sk-container-id-9 label.sk-toggleable__label {cursor: pointer;display: block;width: 100%;margin-bottom: 0;padding: 0.3em;box-sizing: border-box;text-align: center;}#sk-container-id-9 label.sk-toggleable__label-arrow:before {content: \"▸\";float: left;margin-right: 0.25em;color: #696969;}#sk-container-id-9 label.sk-toggleable__label-arrow:hover:before {color: black;}#sk-container-id-9 div.sk-estimator:hover label.sk-toggleable__label-arrow:before {color: black;}#sk-container-id-9 div.sk-toggleable__content {max-height: 0;max-width: 0;overflow: hidden;text-align: left;background-color: #f0f8ff;}#sk-container-id-9 div.sk-toggleable__content pre {margin: 0.2em;color: black;border-radius: 0.25em;background-color: #f0f8ff;}#sk-container-id-9 input.sk-toggleable__control:checked~div.sk-toggleable__content {max-height: 200px;max-width: 100%;overflow: auto;}#sk-container-id-9 input.sk-toggleable__control:checked~label.sk-toggleable__label-arrow:before {content: \"▾\";}#sk-container-id-9 div.sk-estimator input.sk-toggleable__control:checked~label.sk-toggleable__label {background-color: #d4ebff;}#sk-container-id-9 div.sk-label input.sk-toggleable__control:checked~label.sk-toggleable__label {background-color: #d4ebff;}#sk-container-id-9 input.sk-hidden--visually {border: 0;clip: rect(1px 1px 1px 1px);clip: rect(1px, 1px, 1px, 1px);height: 1px;margin: -1px;overflow: hidden;padding: 0;position: absolute;width: 1px;}#sk-container-id-9 div.sk-estimator {font-family: monospace;background-color: #f0f8ff;border: 1px dotted black;border-radius: 0.25em;box-sizing: border-box;margin-bottom: 0.5em;}#sk-container-id-9 div.sk-estimator:hover {background-color: #d4ebff;}#sk-container-id-9 div.sk-parallel-item::after {content: \"\";width: 100%;border-bottom: 1px solid gray;flex-grow: 1;}#sk-container-id-9 div.sk-label:hover label.sk-toggleable__label {background-color: #d4ebff;}#sk-container-id-9 div.sk-serial::before {content: \"\";position: absolute;border-left: 1px solid gray;box-sizing: border-box;top: 0;bottom: 0;left: 50%;z-index: 0;}#sk-container-id-9 div.sk-serial {display: flex;flex-direction: column;align-items: center;background-color: white;padding-right: 0.2em;padding-left: 0.2em;position: relative;}#sk-container-id-9 div.sk-item {position: relative;z-index: 1;}#sk-container-id-9 div.sk-parallel {display: flex;align-items: stretch;justify-content: center;background-color: white;position: relative;}#sk-container-id-9 div.sk-item::before, #sk-container-id-9 div.sk-parallel-item::before {content: \"\";position: absolute;border-left: 1px solid gray;box-sizing: border-box;top: 0;bottom: 0;left: 50%;z-index: -1;}#sk-container-id-9 div.sk-parallel-item {display: flex;flex-direction: column;z-index: 1;position: relative;background-color: white;}#sk-container-id-9 div.sk-parallel-item:first-child::after {align-self: flex-end;width: 50%;}#sk-container-id-9 div.sk-parallel-item:last-child::after {align-self: flex-start;width: 50%;}#sk-container-id-9 div.sk-parallel-item:only-child::after {width: 0;}#sk-container-id-9 div.sk-dashed-wrapped {border: 1px dashed gray;margin: 0 0.4em 0.5em 0.4em;box-sizing: border-box;padding-bottom: 0.4em;background-color: white;}#sk-container-id-9 div.sk-label label {font-family: monospace;font-weight: bold;display: inline-block;line-height: 1.2em;}#sk-container-id-9 div.sk-label-container {text-align: center;}#sk-container-id-9 div.sk-container {/* jupyter's `normalize.less` sets `[hidden] { display: none; }` but bootstrap.min.css set `[hidden] { display: none !important; }` so we also need the `!important` here to be able to override the default hidden behavior on the sphinx rendered scikit-learn.org. See: https://github.com/scikit-learn/scikit-learn/issues/21755 */display: inline-block !important;position: relative;}#sk-container-id-9 div.sk-text-repr-fallback {display: none;}</style><div id=\"sk-container-id-9\" class=\"sk-top-container\"><div class=\"sk-text-repr-fallback\"><pre>LGBMRegressor()</pre><b>In a Jupyter environment, please rerun this cell to show the HTML representation or trust the notebook. <br />On GitHub, the HTML representation is unable to render, please try loading this page with nbviewer.org.</b></div><div class=\"sk-container\" hidden><div class=\"sk-item\"><div class=\"sk-estimator sk-toggleable\"><input class=\"sk-toggleable__control sk-hidden--visually\" id=\"sk-estimator-id-15\" type=\"checkbox\" checked><label for=\"sk-estimator-id-15\" class=\"sk-toggleable__label sk-toggleable__label-arrow\">LGBMRegressor</label><div class=\"sk-toggleable__content\"><pre>LGBMRegressor()</pre></div></div></div></div></div>"
      ],
      "text/plain": [
       "LGBMRegressor()"
      ]
     },
     "execution_count": 96,
     "metadata": {},
     "output_type": "execute_result"
    }
   ],
   "source": [
    "lgbm_regg.fit(X_train,y_train)"
   ]
  },
  {
   "cell_type": "code",
   "execution_count": 98,
   "id": "d4165bdb",
   "metadata": {},
   "outputs": [],
   "source": [
    "y_pred15 = lgbm_regg.predict(X_test)"
   ]
  },
  {
   "cell_type": "code",
   "execution_count": 99,
   "id": "806837a9",
   "metadata": {},
   "outputs": [
    {
     "name": "stdout",
     "output_type": "stream",
     "text": [
      "4936.673079424038\n",
      "50.77017881672122\n",
      "0.773287891528787\n",
      "70.26146226363382\n"
     ]
    }
   ],
   "source": [
    "mse_lgbm_regg = mse(y_test, y_pred15)\n",
    "mae_lgbm_regg= mae(y_test, y_pred15)\n",
    "mape_lgbm_regg=mape(y_test, y_pred15)\n",
    "rmse_lgbm_regg =np.sqrt(mse(y_test,y_pred15))\n",
    "print(mse_lgbm_regg)\n",
    "print(mae_lgbm_regg)\n",
    "print(mape_lgbm_regg)\n",
    "print(rmse_lgbm_regg)"
   ]
  },
  {
   "cell_type": "markdown",
   "id": "f9f39ff6",
   "metadata": {},
   "source": [
    "# BEST hyperparameter :\n",
    "### GridSearchCV ve RandomizedSearchCV "
   ]
  },
  {
   "cell_type": "markdown",
   "id": "860d0b33",
   "metadata": {},
   "source": [
    "# GridSearchCV"
   ]
  },
  {
   "cell_type": "code",
   "execution_count": 26,
   "id": "26035513",
   "metadata": {},
   "outputs": [],
   "source": [
    "from sklearn.model_selection import GridSearchCV as gs, RandomizedSearchCV as rs"
   ]
  },
  {
   "cell_type": "markdown",
   "id": "f4799526",
   "metadata": {},
   "source": [
    "# 1-Linear Regression"
   ]
  },
  {
   "cell_type": "markdown",
   "id": "5cf222ca",
   "metadata": {},
   "source": [
    "#1- oncelikle kullandigin modelin hyperparametre alacagi deger araliklarini ogren (scikit-learn veya () icine shift+tab bas )"
   ]
  },
  {
   "cell_type": "code",
   "execution_count": 27,
   "id": "383afe02",
   "metadata": {},
   "outputs": [
    {
     "data": {
      "text/plain": [
       "dict"
      ]
     },
     "execution_count": 27,
     "metadata": {},
     "output_type": "execute_result"
    }
   ],
   "source": [
    "lreg_params= {\n",
    "    \"fit_intercept\" : [True,False],\n",
    "    \"copy_X\": [True,False],\n",
    "    \"n_jobs\" : [None,1,-1]\n",
    "}\n",
    "type(lreg_params)"
   ]
  },
  {
   "cell_type": "code",
   "execution_count": 28,
   "id": "80d8f8b9",
   "metadata": {},
   "outputs": [],
   "source": [
    "# metrik olarak mse vb'nin negatif hallerini kullaniriz (hassaslik)\n",
    "gridsearch_model= gs(estimator=lreg, param_grid=lreg_params, cv=10 , scoring=\"neg_mean_squared_error\")"
   ]
  },
  {
   "cell_type": "code",
   "execution_count": 29,
   "id": "28db1dc6",
   "metadata": {},
   "outputs": [
    {
     "data": {
      "text/html": [
       "<style>#sk-container-id-2 {color: black;}#sk-container-id-2 pre{padding: 0;}#sk-container-id-2 div.sk-toggleable {background-color: white;}#sk-container-id-2 label.sk-toggleable__label {cursor: pointer;display: block;width: 100%;margin-bottom: 0;padding: 0.3em;box-sizing: border-box;text-align: center;}#sk-container-id-2 label.sk-toggleable__label-arrow:before {content: \"▸\";float: left;margin-right: 0.25em;color: #696969;}#sk-container-id-2 label.sk-toggleable__label-arrow:hover:before {color: black;}#sk-container-id-2 div.sk-estimator:hover label.sk-toggleable__label-arrow:before {color: black;}#sk-container-id-2 div.sk-toggleable__content {max-height: 0;max-width: 0;overflow: hidden;text-align: left;background-color: #f0f8ff;}#sk-container-id-2 div.sk-toggleable__content pre {margin: 0.2em;color: black;border-radius: 0.25em;background-color: #f0f8ff;}#sk-container-id-2 input.sk-toggleable__control:checked~div.sk-toggleable__content {max-height: 200px;max-width: 100%;overflow: auto;}#sk-container-id-2 input.sk-toggleable__control:checked~label.sk-toggleable__label-arrow:before {content: \"▾\";}#sk-container-id-2 div.sk-estimator input.sk-toggleable__control:checked~label.sk-toggleable__label {background-color: #d4ebff;}#sk-container-id-2 div.sk-label input.sk-toggleable__control:checked~label.sk-toggleable__label {background-color: #d4ebff;}#sk-container-id-2 input.sk-hidden--visually {border: 0;clip: rect(1px 1px 1px 1px);clip: rect(1px, 1px, 1px, 1px);height: 1px;margin: -1px;overflow: hidden;padding: 0;position: absolute;width: 1px;}#sk-container-id-2 div.sk-estimator {font-family: monospace;background-color: #f0f8ff;border: 1px dotted black;border-radius: 0.25em;box-sizing: border-box;margin-bottom: 0.5em;}#sk-container-id-2 div.sk-estimator:hover {background-color: #d4ebff;}#sk-container-id-2 div.sk-parallel-item::after {content: \"\";width: 100%;border-bottom: 1px solid gray;flex-grow: 1;}#sk-container-id-2 div.sk-label:hover label.sk-toggleable__label {background-color: #d4ebff;}#sk-container-id-2 div.sk-serial::before {content: \"\";position: absolute;border-left: 1px solid gray;box-sizing: border-box;top: 0;bottom: 0;left: 50%;z-index: 0;}#sk-container-id-2 div.sk-serial {display: flex;flex-direction: column;align-items: center;background-color: white;padding-right: 0.2em;padding-left: 0.2em;position: relative;}#sk-container-id-2 div.sk-item {position: relative;z-index: 1;}#sk-container-id-2 div.sk-parallel {display: flex;align-items: stretch;justify-content: center;background-color: white;position: relative;}#sk-container-id-2 div.sk-item::before, #sk-container-id-2 div.sk-parallel-item::before {content: \"\";position: absolute;border-left: 1px solid gray;box-sizing: border-box;top: 0;bottom: 0;left: 50%;z-index: -1;}#sk-container-id-2 div.sk-parallel-item {display: flex;flex-direction: column;z-index: 1;position: relative;background-color: white;}#sk-container-id-2 div.sk-parallel-item:first-child::after {align-self: flex-end;width: 50%;}#sk-container-id-2 div.sk-parallel-item:last-child::after {align-self: flex-start;width: 50%;}#sk-container-id-2 div.sk-parallel-item:only-child::after {width: 0;}#sk-container-id-2 div.sk-dashed-wrapped {border: 1px dashed gray;margin: 0 0.4em 0.5em 0.4em;box-sizing: border-box;padding-bottom: 0.4em;background-color: white;}#sk-container-id-2 div.sk-label label {font-family: monospace;font-weight: bold;display: inline-block;line-height: 1.2em;}#sk-container-id-2 div.sk-label-container {text-align: center;}#sk-container-id-2 div.sk-container {/* jupyter's `normalize.less` sets `[hidden] { display: none; }` but bootstrap.min.css set `[hidden] { display: none !important; }` so we also need the `!important` here to be able to override the default hidden behavior on the sphinx rendered scikit-learn.org. See: https://github.com/scikit-learn/scikit-learn/issues/21755 */display: inline-block !important;position: relative;}#sk-container-id-2 div.sk-text-repr-fallback {display: none;}</style><div id=\"sk-container-id-2\" class=\"sk-top-container\"><div class=\"sk-text-repr-fallback\"><pre>GridSearchCV(cv=10, estimator=LinearRegression(),\n",
       "             param_grid={&#x27;copy_X&#x27;: [True, False],\n",
       "                         &#x27;fit_intercept&#x27;: [True, False],\n",
       "                         &#x27;n_jobs&#x27;: [None, 1, -1]},\n",
       "             scoring=&#x27;neg_mean_squared_error&#x27;)</pre><b>In a Jupyter environment, please rerun this cell to show the HTML representation or trust the notebook. <br />On GitHub, the HTML representation is unable to render, please try loading this page with nbviewer.org.</b></div><div class=\"sk-container\" hidden><div class=\"sk-item sk-dashed-wrapped\"><div class=\"sk-label-container\"><div class=\"sk-label sk-toggleable\"><input class=\"sk-toggleable__control sk-hidden--visually\" id=\"sk-estimator-id-2\" type=\"checkbox\" ><label for=\"sk-estimator-id-2\" class=\"sk-toggleable__label sk-toggleable__label-arrow\">GridSearchCV</label><div class=\"sk-toggleable__content\"><pre>GridSearchCV(cv=10, estimator=LinearRegression(),\n",
       "             param_grid={&#x27;copy_X&#x27;: [True, False],\n",
       "                         &#x27;fit_intercept&#x27;: [True, False],\n",
       "                         &#x27;n_jobs&#x27;: [None, 1, -1]},\n",
       "             scoring=&#x27;neg_mean_squared_error&#x27;)</pre></div></div></div><div class=\"sk-parallel\"><div class=\"sk-parallel-item\"><div class=\"sk-item\"><div class=\"sk-label-container\"><div class=\"sk-label sk-toggleable\"><input class=\"sk-toggleable__control sk-hidden--visually\" id=\"sk-estimator-id-3\" type=\"checkbox\" ><label for=\"sk-estimator-id-3\" class=\"sk-toggleable__label sk-toggleable__label-arrow\">estimator: LinearRegression</label><div class=\"sk-toggleable__content\"><pre>LinearRegression()</pre></div></div></div><div class=\"sk-serial\"><div class=\"sk-item\"><div class=\"sk-estimator sk-toggleable\"><input class=\"sk-toggleable__control sk-hidden--visually\" id=\"sk-estimator-id-4\" type=\"checkbox\" ><label for=\"sk-estimator-id-4\" class=\"sk-toggleable__label sk-toggleable__label-arrow\">LinearRegression</label><div class=\"sk-toggleable__content\"><pre>LinearRegression()</pre></div></div></div></div></div></div></div></div></div></div>"
      ],
      "text/plain": [
       "GridSearchCV(cv=10, estimator=LinearRegression(),\n",
       "             param_grid={'copy_X': [True, False],\n",
       "                         'fit_intercept': [True, False],\n",
       "                         'n_jobs': [None, 1, -1]},\n",
       "             scoring='neg_mean_squared_error')"
      ]
     },
     "execution_count": 29,
     "metadata": {},
     "output_type": "execute_result"
    }
   ],
   "source": [
    "gridsearch_model.fit(X_train , y_train)"
   ]
  },
  {
   "cell_type": "code",
   "execution_count": 30,
   "id": "e0a433f3",
   "metadata": {},
   "outputs": [],
   "source": [
    "best_lr= gridsearch_model.best_params_"
   ]
  },
  {
   "cell_type": "code",
   "execution_count": 31,
   "id": "c5b24c3b",
   "metadata": {},
   "outputs": [],
   "source": [
    "# ** yapisi sozluk icindeki key value degerlerini sirasi ile disari doker\n",
    "lreg_gridmodel = LinearRegression(**best_lr)"
   ]
  },
  {
   "cell_type": "code",
   "execution_count": 32,
   "id": "8d5fbaee",
   "metadata": {},
   "outputs": [],
   "source": [
    "lreg_gridmodel.fit(X_train,y_train)\n",
    "y_pred21=lreg_gridmodel.predict(X_test)"
   ]
  },
  {
   "cell_type": "code",
   "execution_count": 34,
   "id": "ecf9a0ab",
   "metadata": {},
   "outputs": [
    {
     "name": "stdout",
     "output_type": "stream",
     "text": [
      "5426.593534844751\n",
      "60.43858614357732\n",
      "0.9194984730923907\n",
      "73.66541613840752\n"
     ]
    }
   ],
   "source": [
    "mse_lreg21_gridmodel = mse(y_test, y_pred21)\n",
    "mae_lreg21_gridmodel= mae(y_test, y_pred21)\n",
    "mape_lreg21_gridmodel=mape(y_test, y_pred21)\n",
    "rmse_lreg21_gridmodel =np.sqrt(mse(y_test,y_pred21))\n",
    "print(mse_lreg21_gridmodel)\n",
    "print(mae_lreg21_gridmodel)\n",
    "print(mape_lreg21_gridmodel)\n",
    "print(rmse_lreg21_gridmodel)"
   ]
  },
  {
   "cell_type": "markdown",
   "id": "f3d36e72",
   "metadata": {},
   "source": [
    "## 2-Random Forest Regressor"
   ]
  },
  {
   "cell_type": "code",
   "execution_count": 108,
   "id": "5d187763",
   "metadata": {},
   "outputs": [
    {
     "ename": "SyntaxError",
     "evalue": "incomplete input (2294556799.py, line 1)",
     "output_type": "error",
     "traceback": [
      "\u001b[1;36m  Cell \u001b[1;32mIn[108], line 1\u001b[1;36m\u001b[0m\n\u001b[1;33m    \"\"\"\"\u001b[0m\n\u001b[1;37m    ^\u001b[0m\n\u001b[1;31mSyntaxError\u001b[0m\u001b[1;31m:\u001b[0m incomplete input\n"
     ]
    }
   ],
   "source": [
    "\"\"\"\"\n",
    "forest_params={\n",
    "    \"n_estimators\":range(10,150,10),\n",
    "    \"criterion\" : [\"squared_error\",\"absolute_error\",\"friedman_mse\",\"poisson\"],\n",
    "    \"max_depth\" : range(0,3),\n",
    "    #depth none vermis ne kadar olmali hakkinda tecrubem yok\n",
    "}\n",
    "\"'\""
   ]
  },
  {
   "cell_type": "markdown",
   "id": "da7a9e7b",
   "metadata": {},
   "source": [
    "#### aslinda rangei cok daha ayrintili yapacaktik fakat internet hizimdan dolayi demo olarak yaptim. diger orneklerde bu kadar fazla parametre koymayacagim 4x5x4x3 kez calismasi bile cok uzun zaman aldi.optimal degerler yaklasik olarak internette bulunmakta\n"
   ]
  },
  {
   "cell_type": "code",
   "execution_count": 109,
   "id": "b08e9f0f",
   "metadata": {},
   "outputs": [],
   "source": [
    "forest_params={\n",
    "    \"n_estimators\":range(100,150,25),\n",
    "    \"criterion\" : [\"squared_error\",\"absolute_error\"],\n",
    "    \"max_depth\" : range(1,2)\n",
    "    \n",
    "}"
   ]
  },
  {
   "cell_type": "code",
   "execution_count": 110,
   "id": "f08e922c",
   "metadata": {},
   "outputs": [],
   "source": [
    "gridsearch_forest =gs(estimator=forest_regg,param_grid=forest_params,cv=5,scoring=\"neg_mean_squared_error\",verbose=3)"
   ]
  },
  {
   "cell_type": "code",
   "execution_count": null,
   "id": "339c95d7",
   "metadata": {},
   "outputs": [
    {
     "name": "stdout",
     "output_type": "stream",
     "text": [
      "Fitting 5 folds for each of 4 candidates, totalling 20 fits\n",
      "[CV 1/5] END criterion=squared_error, max_depth=1, n_estimators=100;, score=-719.455 total time=   0.6s\n",
      "[CV 2/5] END criterion=squared_error, max_depth=1, n_estimators=100;, score=-310.723 total time=   0.6s\n",
      "[CV 3/5] END criterion=squared_error, max_depth=1, n_estimators=100;, score=-450.897 total time=   0.6s\n",
      "[CV 4/5] END criterion=squared_error, max_depth=1, n_estimators=100;, score=-3394.973 total time=   0.6s\n",
      "[CV 5/5] END criterion=squared_error, max_depth=1, n_estimators=100;, score=-8545.331 total time=   0.6s\n",
      "[CV 1/5] END criterion=squared_error, max_depth=1, n_estimators=125;, score=-725.671 total time=   0.8s\n",
      "[CV 2/5] END criterion=squared_error, max_depth=1, n_estimators=125;, score=-299.594 total time=   0.8s\n",
      "[CV 3/5] END criterion=squared_error, max_depth=1, n_estimators=125;, score=-457.604 total time=   0.8s\n",
      "[CV 4/5] END criterion=squared_error, max_depth=1, n_estimators=125;, score=-3393.858 total time=   0.8s\n",
      "[CV 5/5] END criterion=squared_error, max_depth=1, n_estimators=125;, score=-8534.128 total time=   0.8s\n",
      "[CV 1/5] END criterion=absolute_error, max_depth=1, n_estimators=100;, score=-288.176 total time=  43.9s\n",
      "[CV 2/5] END criterion=absolute_error, max_depth=1, n_estimators=100;, score=-133.497 total time=  48.5s\n",
      "[CV 3/5] END criterion=absolute_error, max_depth=1, n_estimators=100;, score=-775.438 total time= 1.1min\n",
      "[CV 4/5] END criterion=absolute_error, max_depth=1, n_estimators=100;, score=-2975.567 total time= 1.2min\n",
      "[CV 5/5] END criterion=absolute_error, max_depth=1, n_estimators=100;, score=-11029.466 total time= 1.2min\n"
     ]
    }
   ],
   "source": [
    "gridsearch_forest.fit(X_train,y_train)"
   ]
  },
  {
   "cell_type": "code",
   "execution_count": null,
   "id": "cb5c5993",
   "metadata": {},
   "outputs": [],
   "source": [
    "best_forest=gridsearch_forest.best_params_\n",
    "print(best_forest)"
   ]
  },
  {
   "cell_type": "code",
   "execution_count": null,
   "id": "4ad9d18e",
   "metadata": {},
   "outputs": [],
   "source": [
    "forest_gridmodel=RandomForestRegressor(**best_forest)"
   ]
  },
  {
   "cell_type": "code",
   "execution_count": 65,
   "id": "cee2ae02",
   "metadata": {},
   "outputs": [],
   "source": [
    "forest_gridmodel.fit(X_train,y_train)\n",
    "y_pred22=forest_gridmodel.predict(X_test)"
   ]
  },
  {
   "cell_type": "code",
   "execution_count": null,
   "id": "d2c39bf6",
   "metadata": {},
   "outputs": [],
   "source": [
    "mse_forest_gridmodel = mse(y_test, y_pred22)\n",
    "mae_forest_gridmodel= mae(y_test, y_pred22)\n",
    "mape_forest_gridmodel=mape(y_test, y_pred22)\n",
    "rmse_forest_gridmodel =np.sqrt(mse(y_test,y_pred22))\n",
    "print(mse_forest_gridmodel)\n",
    "print(mae_forest_gridmodel)\n",
    "print(mape_forest_gridmodel)\n",
    "print(rmse_forest_gridmodel)"
   ]
  },
  {
   "cell_type": "markdown",
   "id": "39aa3167",
   "metadata": {},
   "source": [
    "## 3-SVM"
   ]
  },
  {
   "cell_type": "code",
   "execution_count": null,
   "id": "ebfd029c",
   "metadata": {},
   "outputs": [],
   "source": [
    "''''\n",
    "svm_params={\n",
    "    \"kernel\" : [\"linear\",\"poly\",\"sigmoid\",\"rbf\",],\n",
    "    \"gamma\" : [\"auto\",\"scale\"],\n",
    "    \"shrinking\" : [True,False],\n",
    "}\n",
    "''''"
   ]
  },
  {
   "cell_type": "code",
   "execution_count": 56,
   "id": "2a3bdf38",
   "metadata": {},
   "outputs": [],
   "source": [
    "\n",
    "svm_params={\n",
    "    \"kernel\" : [\"poly\",\"sigmoid\"],\n",
    "    \"shrinking\" : [True,False],\n",
    "}\n"
   ]
  },
  {
   "cell_type": "code",
   "execution_count": 57,
   "id": "915870b9",
   "metadata": {},
   "outputs": [],
   "source": [
    "svm_gridmodel =gs(estimator=sv_reg,param_grid=svm_params,cv=5,scoring=\"neg_mean_squared_error\",verbose=3)"
   ]
  },
  {
   "cell_type": "code",
   "execution_count": null,
   "id": "7d6965fb",
   "metadata": {
    "scrolled": true
   },
   "outputs": [
    {
     "name": "stdout",
     "output_type": "stream",
     "text": [
      "Fitting 5 folds for each of 4 candidates, totalling 20 fits\n",
      "[CV 1/5] END ....kernel=poly, shrinking=True;, score=-139.793 total time=  12.4s\n",
      "[CV 2/5] END ....kernel=poly, shrinking=True;, score=-137.866 total time=  12.0s\n",
      "[CV 3/5] END ....kernel=poly, shrinking=True;, score=-326.403 total time=  11.6s\n",
      "[CV 4/5] END ...kernel=poly, shrinking=True;, score=-1494.478 total time=  12.6s\n",
      "[CV 5/5] END ...kernel=poly, shrinking=True;, score=-5330.451 total time=  12.1s\n",
      "[CV 1/5] END ...kernel=poly, shrinking=False;, score=-139.791 total time=  12.9s\n",
      "[CV 2/5] END ...kernel=poly, shrinking=False;, score=-137.866 total time=  14.6s\n",
      "[CV 3/5] END ...kernel=poly, shrinking=False;, score=-326.403 total time=  14.9s\n",
      "[CV 4/5] END ..kernel=poly, shrinking=False;, score=-1494.478 total time=  14.7s\n",
      "[CV 5/5] END ..kernel=poly, shrinking=False;, score=-5330.451 total time=  14.8s\n",
      "[CV 1/5] END kernel=sigmoid, shrinking=True;, score=-188041.282 total time=  15.8s\n",
      "[CV 2/5] END kernel=sigmoid, shrinking=True;, score=-79147.546 total time=  17.6s\n",
      "[CV 3/5] END kernel=sigmoid, shrinking=True;, score=-68910.742 total time=  15.1s\n",
      "[CV 4/5] END kernel=sigmoid, shrinking=True;, score=-98410.369 total time=  17.0s\n",
      "[CV 5/5] END kernel=sigmoid, shrinking=True;, score=-323618.952 total time=  18.7s\n",
      "[CV 1/5] END kernel=sigmoid, shrinking=False;, score=-188041.282 total time=  16.9s\n",
      "[CV 2/5] END kernel=sigmoid, shrinking=False;, score=-79147.546 total time=  18.2s\n",
      "[CV 3/5] END kernel=sigmoid, shrinking=False;, score=-68910.742 total time=  18.4s\n",
      "[CV 4/5] END kernel=sigmoid, shrinking=False;, score=-98410.369 total time=  18.3s\n"
     ]
    }
   ],
   "source": [
    "svm_gridmodel.fit(X_train,y_train)"
   ]
  },
  {
   "cell_type": "code",
   "execution_count": null,
   "id": "d8169070",
   "metadata": {},
   "outputs": [],
   "source": [
    "y_pred23 =svm_gridmodel.predict(X_test)"
   ]
  },
  {
   "cell_type": "code",
   "execution_count": null,
   "id": "4d64f005",
   "metadata": {},
   "outputs": [],
   "source": [
    "mse_svm_gridmodel = mse(y_test, y_pred31)\n",
    "mae_svm_gridmodel= mae(y_test, y_pred31)\n",
    "mape_svm_gridmodel=mape(y_test, y_pred31)\n",
    "rmse_svm_gridmodel =np.sqrt(mse(y_test,y_pred31))\n",
    "print(mse_svm_gridmodel)\n",
    "print(mae_svm_gridmodel)\n",
    "print(mape_svm_gridmodel)\n",
    "print(rmse_svm_gridmodel)"
   ]
  },
  {
   "cell_type": "markdown",
   "id": "fb47a291",
   "metadata": {},
   "source": [
    "## 4-xGBoost"
   ]
  },
  {
   "cell_type": "code",
   "execution_count": null,
   "id": "47d578b5",
   "metadata": {},
   "outputs": [],
   "source": [
    "xgb_params={\n",
    "    'n_estimators': [50, 100, 200],\n",
    "    'max_depth': [3, 6, 9],\n",
    "    'learning_rate': [0.01, 0.1, 0.2],\n",
    "    'subsample': [0.8, 1.0],\n",
    "    'colsample_bytree': [0.8, 1.0]\n",
    "    \n",
    "}"
   ]
  },
  {
   "cell_type": "code",
   "execution_count": null,
   "id": "7e5882c1",
   "metadata": {},
   "outputs": [],
   "source": [
    "xgb_gridmodel=gs(estimator=xg_regg,param_grid=xgb_params,cv=5,scoring=\"neg_mean_squared_error\",verbose=3)"
   ]
  },
  {
   "cell_type": "code",
   "execution_count": null,
   "id": "a02ac4aa",
   "metadata": {},
   "outputs": [],
   "source": [
    "xgb_gridmodel.fit(X_train,y_train)"
   ]
  },
  {
   "cell_type": "code",
   "execution_count": null,
   "id": "87981a64",
   "metadata": {},
   "outputs": [],
   "source": [
    "y_pred24=xgb_gridmodel.predict(X_test)"
   ]
  },
  {
   "cell_type": "code",
   "execution_count": null,
   "id": "f83d73a8",
   "metadata": {},
   "outputs": [],
   "source": [
    "mse_xgb_gridmodel = mse(y_test, y_pred24)\n",
    "mae_xgb_gridmodel= mae(y_test, y_pred24)\n",
    "mape_xgb_gridmodel=mape(y_test, y_pred24)\n",
    "rmse_xgb_gridmodel =np.sqrt(mse(y_test,y_pred24))\n",
    "print(mse_xgb_gridmodel)\n",
    "print(mae_xgb_gridmodel)\n",
    "print(mape_xgb_gridmodel)\n",
    "print(rmse_xgb_gridmodel)"
   ]
  },
  {
   "cell_type": "markdown",
   "id": "51616712",
   "metadata": {},
   "source": [
    "## 5-Light GBM"
   ]
  },
  {
   "cell_type": "code",
   "execution_count": 58,
   "id": "88f5446f",
   "metadata": {},
   "outputs": [],
   "source": [
    "''''\n",
    "lgbm_params={\n",
    "    \"num_leaves\":range(30,50,10),\n",
    "    \"learning_rate\": [0.05, 0.1, 0.15],\n",
    "    \"n_estimators\" : range(100,50,300),\n",
    "    \"max_depth\" : range(0,20,5),\n",
    "}\n",
    "\n",
    "''''"
   ]
  },
  {
   "cell_type": "code",
   "execution_count": null,
   "id": "05d5f6a4",
   "metadata": {},
   "outputs": [],
   "source": [
    "lgbm_params = {\n",
    "    \"num_leaves\": [40, 50],\n",
    "    \"learning_rate\": [0.05],\n",
    "    \"n_estimators\": [200],\n",
    "    \"max_depth\": [15],\n",
    "}"
   ]
  },
  {
   "cell_type": "code",
   "execution_count": null,
   "id": "84b15ca6",
   "metadata": {},
   "outputs": [],
   "source": [
    "lgbm_gridmodel = gs(estimator=lgbm_regg,param_grid=lgbm_params,cv=5,scoring=\"neg_mean_absolute_error\",verbose=3)"
   ]
  },
  {
   "cell_type": "code",
   "execution_count": null,
   "id": "1cf4d37d",
   "metadata": {},
   "outputs": [],
   "source": [
    "lgbm_gridmodel.fit(X_train,y_train)"
   ]
  },
  {
   "cell_type": "code",
   "execution_count": null,
   "id": "9aee6c52",
   "metadata": {},
   "outputs": [],
   "source": [
    "y_pred25=lgbm_gridmodel.predict(X_test)"
   ]
  },
  {
   "cell_type": "code",
   "execution_count": null,
   "id": "3122e4fa",
   "metadata": {},
   "outputs": [],
   "source": [
    "mse_lgbm_gridmodel = mse(y_test, y_pred25)\n",
    "mae_lgbm_gridmodel= mae(y_test, y_pred25)\n",
    "mape_lgbm_gridmodel=mape(y_test, y_pred25)\n",
    "rmse_lgbm_gridmodel =np.sqrt(mse(y_test,y_pred25))\n",
    "print(mse_lgbm_gridmodel)\n",
    "print(mae_lgbm_gridmodel)\n",
    "print(mape_lgbm_gridmodel)\n",
    "print(rmse_lgbm_gridmodel)"
   ]
  },
  {
   "cell_type": "markdown",
   "id": "c73e71be",
   "metadata": {},
   "source": [
    "# Metrik olcum ve gridsearchCV arasindaki farklar ve grafik"
   ]
  },
  {
   "cell_type": "markdown",
   "id": "55e40e93",
   "metadata": {},
   "source": [
    "### gridsearch icerisinde scoring olarak mse kullandigimdan farki mse ile  gosterecegim"
   ]
  },
  {
   "cell_type": "markdown",
   "id": "a599be12",
   "metadata": {},
   "source": [
    "1-LINEAR REGRESSION"
   ]
  },
  {
   "cell_type": "code",
   "execution_count": 35,
   "id": "32c298d4",
   "metadata": {},
   "outputs": [
    {
     "data": {
      "text/plain": [
       "[<matplotlib.lines.Line2D at 0x1e13e9f84d0>]"
      ]
     },
     "execution_count": 35,
     "metadata": {},
     "output_type": "execute_result"
    },
    {
     "data": {
      "image/png": "[encoded data removed]",
      "text/plain": [
       "<Figure size 640x480 with 1 Axes>"
      ]
     },
     "metadata": {},
     "output_type": "display_data"
    }
   ],
   "source": [
    "# Linear regression default parameter\n",
    "plt.plot(y_pred11,color=\"blue\")"
   ]
  },
  {
   "cell_type": "code",
   "execution_count": 37,
   "id": "dd648c84",
   "metadata": {},
   "outputs": [
    {
     "data": {
      "text/plain": [
       "[<matplotlib.lines.Line2D at 0x1e1421fb510>]"
      ]
     },
     "execution_count": 37,
     "metadata": {},
     "output_type": "execute_result"
    },
    {
     "data": {
      "image/png": "[encoded data removed]",
      "text/plain": [
       "<Figure size 640x480 with 1 Axes>"
      ]
     },
     "metadata": {},
     "output_type": "display_data"
    }
   ],
   "source": [
    "# Linear regression gridsearchCV\n",
    "plt.plot(y_pred21,color=\"orange\")"
   ]
  },
  {
   "cell_type": "code",
   "execution_count": 39,
   "id": "1d751fc9",
   "metadata": {},
   "outputs": [
    {
     "ename": "NameError",
     "evalue": "name 'y_pred12' is not defined",
     "output_type": "error",
     "traceback": [
      "\u001b[1;31m--------------------------------------------\u001b[0m",
      "\u001b[1;31mNameError\u001b[0m  Traceback (most recent call last)",
      "Cell \u001b[1;32mIn[39], line 2\u001b[0m\n\u001b[0;32m      1\u001b[0m \u001b[38;5;66;03m# Random Forest Regressor default parameter\u001b[39;00m\n\u001b[1;32m----> 2\u001b[0m plt\u001b[38;5;241m.\u001b[39mplot(y_pred12,color\u001b[38;5;241m=\u001b[39m\u001b[38;5;124m\"\u001b[39m\u001b[38;5;124mblue\u001b[39m\u001b[38;5;124m\"\u001b[39m)\n",
      "\u001b[1;31mNameError\u001b[0m: name 'y_pred12' is not defined"
     ]
    }
   ],
   "source": [
    "# Random Forest Regressor default parameter\n",
    "plt.plot(y_pred12,color=\"blue\")"
   ]
  },
  {
   "cell_type": "code",
   "execution_count": null,
   "id": "983431e1",
   "metadata": {},
   "outputs": [],
   "source": [
    "# Random Forest Regressor gridsearchCV\n",
    "plt.plot(y_pred22,color=\"orange\")"
   ]
  },
  {
   "cell_type": "code",
   "execution_count": null,
   "id": "92fc24a0",
   "metadata": {},
   "outputs": [],
   "source": [
    "# SVMR Regressor default parameter\n",
    "plt.plot(y_pred31,color=\"blue\")"
   ]
  },
  {
   "cell_type": "code",
   "execution_count": null,
   "id": "c71d13fc",
   "metadata": {},
   "outputs": [],
   "source": [
    "# SVMR Regressor gridsearchCV\n",
    "plt.plot(y_pred32,color=\"orange\")"
   ]
  },
  {
   "cell_type": "code",
   "execution_count": null,
   "id": "c7b327ec",
   "metadata": {},
   "outputs": [],
   "source": [
    "# xGboost Regressor default parameter\n",
    "plt.plot(y_pred41,color=\"blue\")\n"
   ]
  },
  {
   "cell_type": "code",
   "execution_count": null,
   "id": "73079204",
   "metadata": {},
   "outputs": [],
   "source": [
    "# xGboost Regressor gridsearchCV\n",
    "plt.plot(y_pred42,color=\"orange\")\n"
   ]
  },
  {
   "cell_type": "code",
   "execution_count": 1,
   "id": "6666a771",
   "metadata": {},
   "outputs": [
    {
     "ename": "NameError",
     "evalue": "name 'plt' is not defined",
     "output_type": "error",
     "traceback": [
      "\u001b[1;31m--------------------------------------------\u001b[0m",
      "\u001b[1;31mNameError\u001b[0m  Traceback (most recent call last)",
      "Cell \u001b[1;32mIn[1], line 2\u001b[0m\n\u001b[0;32m      1\u001b[0m \u001b[38;5;66;03m# LightGradientBoost Regressor default parameter\u001b[39;00m\n\u001b[1;32m----> 2\u001b[0m plt\u001b[38;5;241m.\u001b[39mplot(y_pred51,color\u001b[38;5;241m=\u001b[39m\u001b[38;5;124m\"\u001b[39m\u001b[38;5;124mblue\u001b[39m\u001b[38;5;124m\"\u001b[39m)\n",
      "\u001b[1;31mNameError\u001b[0m: name 'plt' is not defined"
     ]
    }
   ],
   "source": [
    "# LightGradientBoost Regressor default parameter\n",
    "plt.plot(y_pred51,color=\"blue\")\n"
   ]
  },
  {
   "cell_type": "code",
   "execution_count": 38,
   "id": "a2733090",
   "metadata": {},
   "outputs": [
    {
     "ename": "NameError",
     "evalue": "name 'y_pred52' is not defined",
     "output_type": "error",
     "traceback": [
      "\u001b[1;31m--------------------------------------------\u001b[0m",
      "\u001b[1;31mNameError\u001b[0m  Traceback (most recent call last)",
      "Cell \u001b[1;32mIn[38], line 2\u001b[0m\n\u001b[0;32m      1\u001b[0m \u001b[38;5;66;03m# lightGradientBoost Regressor gridsorangeearchCV\u001b[39;00m\n\u001b[1;32m----> 2\u001b[0m plt\u001b[38;5;241m.\u001b[39mplot(y_pred52,color\u001b[38;5;241m=\u001b[39m\u001b[38;5;124m\"\u001b[39m\u001b[38;5;124morange\u001b[39m\u001b[38;5;124m\"\u001b[39m)\n",
      "\u001b[1;31mNameError\u001b[0m: name 'y_pred52' is not defined"
     ]
    }
   ],
   "source": [
    "# lightGradientBoost Regressor gridsorangeearchCV\n",
    "plt.plot(y_pred52,color=\"orange\")\n"
   ]
  },
  {
   "cell_type": "code",
   "execution_count": null,
   "id": "92f2b9ea",
   "metadata": {},
   "outputs": [],
   "source": []
  }
 ],
 "metadata": {
  "kernelspec": {
   "display_name": "Python 3 (ipykernel)",
   "language": "python",
   "name": "python3"
  },
  "language_info": {
   "codemirror_mode": {
    "name": "ipython",
    "version": 3
   },
   "file_extension": ".py",
   "mimetype": "text/x-python",
   "name": "python",
   "nbconvert_exporter": "python",
   "pygments_lexer": "ipython3",
   "version": "3.11.5"
  }
 },
 "nbformat": 4,
 "nbformat_minor": 5
}
