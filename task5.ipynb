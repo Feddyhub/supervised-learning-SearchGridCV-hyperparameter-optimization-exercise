{
 "cells": [
  {
   "cell_type": "code",
   "execution_count": 1,
   "id": "4a5c3ad9",
   "metadata": {},
   "outputs": [],
   "source": [
    "import numpy as np\n",
    "import pandas as pd\n",
    "import matplotlib.pyplot as plt"
   ]
  },
  {
   "cell_type": "code",
   "execution_count": 2,
   "id": "2c1e29f3",
   "metadata": {},
   "outputs": [],
   "source": [
    "from sklearn.metrics import mean_absolute_error as mae\n",
    "from sklearn.metrics import mean_squared_error  as mse\n",
    "from sklearn.metrics import mean_absolute_percentage_error as mape"
   ]
  },
  {
   "cell_type": "code",
   "execution_count": 3,
   "id": "b823a8b3",
   "metadata": {},
   "outputs": [],
   "source": [
    "from sklearn.model_selection import train_test_split , GridSearchCV , RandomizedSearchCV"
   ]
  },
  {
   "cell_type": "code",
   "execution_count": 4,
   "id": "c0f4d6f0",
   "metadata": {
    "scrolled": true
   },
   "outputs": [],
   "source": [
    "df = pd.read_csv(\"C:\\\\Users\\\\data2\\\\OneDrive\\\\Masaüstü\\\\codeware\\\\TASKS\\\\5task\\\\dataset.csv\")"
   ]
  },
  {
   "cell_type": "code",
   "execution_count": 5,
   "id": "442189b0",
   "metadata": {
    "scrolled": true
   },
   "outputs": [
    {
     "name": "stdout",
     "output_type": "stream",
     "text": [
      "<class 'pandas.core.frame.DataFrame'>\n",
      "RangeIndex: 11856 entries, 0 to 11855\n",
      "Data columns (total 3 columns):\n",
      " #   Column    Non-Null Count  Dtype \n",
      "---  ------    --------------  ----- \n",
      " 0   sID       11856 non-null  int64 \n",
      " 1   Datetime  11856 non-null  object\n",
      " 2   Count     11856 non-null  int64 \n",
      "dtypes: int64(2), object(1)\n",
      "memory usage: 278.0+ KB\n"
     ]
    }
   ],
   "source": [
    "df.info()"
   ]
  },
  {
   "cell_type": "code",
   "execution_count": 6,
   "id": "931b9fa7",
   "metadata": {},
   "outputs": [
    {
     "name": "stderr",
     "output_type": "stream",
     "text": [
      "C:\\Users\\data2\\AppData\\Local\\Temp\\ipykernel_19844\\3242123255.py:1: UserWarning: Parsing dates in %d-%m-%Y %H:%M format when dayfirst=False (the default) was specified. Pass `dayfirst=True` or specify a format to silence this warning.\n",
      "  df[\"Datetime\"]= pd.to_datetime(df[\"Datetime\"])\n"
     ]
    }
   ],
   "source": [
    "df[\"Datetime\"]= pd.to_datetime(df[\"Datetime\"])"
   ]
  },
  {
   "cell_type": "code",
   "execution_count": 7,
   "id": "a76d06fa",
   "metadata": {},
   "outputs": [],
   "source": [
    "df[\"year\"] = df[\"Datetime\"].dt.year\n",
    "df[\"month\"] = df[\"Datetime\"].dt.month\n",
    "df[\"day\"] = df[\"Datetime\"].dt.day\n",
    "df[\"hour\"] = df[\"Datetime\"].dt.hour"
   ]
  },
  {
   "cell_type": "code",
   "execution_count": 8,
   "id": "050c315c",
   "metadata": {},
   "outputs": [],
   "source": [
    "df=df.set_index(\"Datetime\")"
   ]
  },
  {
   "cell_type": "code",
   "execution_count": 9,
   "id": "6ff3527e",
   "metadata": {},
   "outputs": [],
   "source": [
    "p90= len(df) *(0.9)"
   ]
  },
  {
   "cell_type": "code",
   "execution_count": 10,
   "id": "68addb1c",
   "metadata": {},
   "outputs": [],
   "source": [
    "p90 = np.round(p90)"
   ]
  },
  {
   "cell_type": "code",
   "execution_count": 11,
   "id": "1aa94d90",
   "metadata": {},
   "outputs": [],
   "source": [
    "p90=p90.astype(int)"
   ]
  },
  {
   "cell_type": "code",
   "execution_count": 12,
   "id": "4035c02d",
   "metadata": {},
   "outputs": [],
   "source": [
    "train_size=df.iloc[0:p90]"
   ]
  },
  {
   "cell_type": "code",
   "execution_count": 13,
   "id": "90ef702a",
   "metadata": {},
   "outputs": [],
   "source": [
    "test_size=df.iloc[p90:]"
   ]
  },
  {
   "cell_type": "code",
   "execution_count": 14,
   "id": "6557c933",
   "metadata": {
    "scrolled": true
   },
   "outputs": [
    {
     "data": {
      "text/plain": [
       "(                       sID  Count  year  month  day  hour\n",
       " Datetime                                                 \n",
       " 2013-12-31 19:00:00  11851    286  2013     12   31    19\n",
       " 2013-12-31 20:00:00  11852    256  2013     12   31    20\n",
       " 2013-12-31 21:00:00  11853    228  2013     12   31    21\n",
       " 2013-12-31 22:00:00  11854    216  2013     12   31    22\n",
       " 2013-12-31 23:00:00  11855    246  2013     12   31    23,\n",
       "                        sID  Count  year  month  day  hour\n",
       " Datetime                                                 \n",
       " 2013-12-31 19:00:00  11851    286  2013     12   31    19\n",
       " 2013-12-31 20:00:00  11852    256  2013     12   31    20\n",
       " 2013-12-31 21:00:00  11853    228  2013     12   31    21\n",
       " 2013-12-31 22:00:00  11854    216  2013     12   31    22\n",
       " 2013-12-31 23:00:00  11855    246  2013     12   31    23)"
      ]
     },
     "execution_count": 14,
     "metadata": {},
     "output_type": "execute_result"
    }
   ],
   "source": [
    "df.tail(5)  , test_size.tail()"
   ]
  },
  {
   "cell_type": "markdown",
   "id": "fb28d839",
   "metadata": {},
   "source": [
    "# Default Degerler (hyperparameter girilmedi )"
   ]
  },
  {
   "cell_type": "code",
   "execution_count": 15,
   "id": "005b6236",
   "metadata": {},
   "outputs": [],
   "source": [
    "X_train =train_size.drop(\"Count\",axis=1)\n",
    "y_train = train_size[\"Count\"]"
   ]
  },
  {
   "cell_type": "code",
   "execution_count": 16,
   "id": "34a37773",
   "metadata": {},
   "outputs": [],
   "source": [
    "\n",
    "X_test =test_size.drop(\"Count\", axis=1)\n",
    "y_test = test_size[\"Count\"]"
   ]
  },
  {
   "cell_type": "markdown",
   "id": "5d9ffe22",
   "metadata": {},
   "source": [
    "# Linear Regression"
   ]
  },
  {
   "cell_type": "code",
   "execution_count": 17,
   "id": "6272181a",
   "metadata": {},
   "outputs": [],
   "source": [
    "from sklearn.linear_model import LinearRegression"
   ]
  },
  {
   "cell_type": "code",
   "execution_count": 18,
   "id": "b9bf0e73",
   "metadata": {},
   "outputs": [],
   "source": [
    "model = LinearRegression()"
   ]
  },
  {
   "cell_type": "code",
   "execution_count": 19,
   "id": "353fe72e",
   "metadata": {},
   "outputs": [
    {
     "data": {
      "text/html": [
       "<style>#sk-container-id-1 {color: black;}#sk-container-id-1 pre{padding: 0;}#sk-container-id-1 div.sk-toggleable {background-color: white;}#sk-container-id-1 label.sk-toggleable__label {cursor: pointer;display: block;width: 100%;margin-bottom: 0;padding: 0.3em;box-sizing: border-box;text-align: center;}#sk-container-id-1 label.sk-toggleable__label-arrow:before {content: \"▸\";float: left;margin-right: 0.25em;color: #696969;}#sk-container-id-1 label.sk-toggleable__label-arrow:hover:before {color: black;}#sk-container-id-1 div.sk-estimator:hover label.sk-toggleable__label-arrow:before {color: black;}#sk-container-id-1 div.sk-toggleable__content {max-height: 0;max-width: 0;overflow: hidden;text-align: left;background-color: #f0f8ff;}#sk-container-id-1 div.sk-toggleable__content pre {margin: 0.2em;color: black;border-radius: 0.25em;background-color: #f0f8ff;}#sk-container-id-1 input.sk-toggleable__control:checked~div.sk-toggleable__content {max-height: 200px;max-width: 100%;overflow: auto;}#sk-container-id-1 input.sk-toggleable__control:checked~label.sk-toggleable__label-arrow:before {content: \"▾\";}#sk-container-id-1 div.sk-estimator input.sk-toggleable__control:checked~label.sk-toggleable__label {background-color: #d4ebff;}#sk-container-id-1 div.sk-label input.sk-toggleable__control:checked~label.sk-toggleable__label {background-color: #d4ebff;}#sk-container-id-1 input.sk-hidden--visually {border: 0;clip: rect(1px 1px 1px 1px);clip: rect(1px, 1px, 1px, 1px);height: 1px;margin: -1px;overflow: hidden;padding: 0;position: absolute;width: 1px;}#sk-container-id-1 div.sk-estimator {font-family: monospace;background-color: #f0f8ff;border: 1px dotted black;border-radius: 0.25em;box-sizing: border-box;margin-bottom: 0.5em;}#sk-container-id-1 div.sk-estimator:hover {background-color: #d4ebff;}#sk-container-id-1 div.sk-parallel-item::after {content: \"\";width: 100%;border-bottom: 1px solid gray;flex-grow: 1;}#sk-container-id-1 div.sk-label:hover label.sk-toggleable__label {background-color: #d4ebff;}#sk-container-id-1 div.sk-serial::before {content: \"\";position: absolute;border-left: 1px solid gray;box-sizing: border-box;top: 0;bottom: 0;left: 50%;z-index: 0;}#sk-container-id-1 div.sk-serial {display: flex;flex-direction: column;align-items: center;background-color: white;padding-right: 0.2em;padding-left: 0.2em;position: relative;}#sk-container-id-1 div.sk-item {position: relative;z-index: 1;}#sk-container-id-1 div.sk-parallel {display: flex;align-items: stretch;justify-content: center;background-color: white;position: relative;}#sk-container-id-1 div.sk-item::before, #sk-container-id-1 div.sk-parallel-item::before {content: \"\";position: absolute;border-left: 1px solid gray;box-sizing: border-box;top: 0;bottom: 0;left: 50%;z-index: -1;}#sk-container-id-1 div.sk-parallel-item {display: flex;flex-direction: column;z-index: 1;position: relative;background-color: white;}#sk-container-id-1 div.sk-parallel-item:first-child::after {align-self: flex-end;width: 50%;}#sk-container-id-1 div.sk-parallel-item:last-child::after {align-self: flex-start;width: 50%;}#sk-container-id-1 div.sk-parallel-item:only-child::after {width: 0;}#sk-container-id-1 div.sk-dashed-wrapped {border: 1px dashed gray;margin: 0 0.4em 0.5em 0.4em;box-sizing: border-box;padding-bottom: 0.4em;background-color: white;}#sk-container-id-1 div.sk-label label {font-family: monospace;font-weight: bold;display: inline-block;line-height: 1.2em;}#sk-container-id-1 div.sk-label-container {text-align: center;}#sk-container-id-1 div.sk-container {/* jupyter's `normalize.less` sets `[hidden] { display: none; }` but bootstrap.min.css set `[hidden] { display: none !important; }` so we also need the `!important` here to be able to override the default hidden behavior on the sphinx rendered scikit-learn.org. See: https://github.com/scikit-learn/scikit-learn/issues/21755 */display: inline-block !important;position: relative;}#sk-container-id-1 div.sk-text-repr-fallback {display: none;}</style><div id=\"sk-container-id-1\" class=\"sk-top-container\"><div class=\"sk-text-repr-fallback\"><pre>LinearRegression()</pre><b>In a Jupyter environment, please rerun this cell to show the HTML representation or trust the notebook. <br />On GitHub, the HTML representation is unable to render, please try loading this page with nbviewer.org.</b></div><div class=\"sk-container\" hidden><div class=\"sk-item\"><div class=\"sk-estimator sk-toggleable\"><input class=\"sk-toggleable__control sk-hidden--visually\" id=\"sk-estimator-id-1\" type=\"checkbox\" checked><label for=\"sk-estimator-id-1\" class=\"sk-toggleable__label sk-toggleable__label-arrow\">LinearRegression</label><div class=\"sk-toggleable__content\"><pre>LinearRegression()</pre></div></div></div></div></div>"
      ],
      "text/plain": [
       "LinearRegression()"
      ]
     },
     "execution_count": 19,
     "metadata": {},
     "output_type": "execute_result"
    }
   ],
   "source": [
    "lreg =LinearRegression()\n",
    "lreg.fit(X_train,y_train)"
   ]
  },
  {
   "cell_type": "code",
   "execution_count": 20,
   "id": "8a10e2c8",
   "metadata": {},
   "outputs": [],
   "source": [
    "y_pred11 =lreg.predict(X_test)"
   ]
  },
  {
   "cell_type": "code",
   "execution_count": 21,
   "id": "47a9faf9",
   "metadata": {
    "scrolled": true
   },
   "outputs": [
    {
     "name": "stdout",
     "output_type": "stream",
     "text": [
      "5426.593534844751\n",
      "60.43858614357732\n",
      "0.9194984730923907\n",
      "73.66541613840752\n"
     ]
    }
   ],
   "source": [
    "mse_lreg = mse(y_test, y_pred11)\n",
    "mae_lreg= mae(y_test, y_pred11)\n",
    "mape_lreg=mape(y_test, y_pred11)\n",
    "rmse_lreg =np.sqrt(mse(y_test,y_pred11))\n",
    "print(mse_lreg)\n",
    "print(mae_lreg)\n",
    "print(mape_lreg)\n",
    "print(rmse_lreg)"
   ]
  },
  {
   "cell_type": "markdown",
   "id": "01b4cc4c",
   "metadata": {},
   "source": [
    "## Random Forest"
   ]
  },
  {
   "cell_type": "code",
   "execution_count": 22,
   "id": "947e2971",
   "metadata": {},
   "outputs": [],
   "source": [
    "from sklearn.ensemble import RandomForestRegressor"
   ]
  },
  {
   "cell_type": "code",
   "execution_count": 23,
   "id": "761974b2",
   "metadata": {},
   "outputs": [],
   "source": [
    "forest_regg=RandomForestRegressor()"
   ]
  },
  {
   "cell_type": "code",
   "execution_count": 24,
   "id": "c8cbb1f5",
   "metadata": {},
   "outputs": [
    {
     "data": {
      "text/html": [
       "<style>#sk-container-id-2 {color: black;}#sk-container-id-2 pre{padding: 0;}#sk-container-id-2 div.sk-toggleable {background-color: white;}#sk-container-id-2 label.sk-toggleable__label {cursor: pointer;display: block;width: 100%;margin-bottom: 0;padding: 0.3em;box-sizing: border-box;text-align: center;}#sk-container-id-2 label.sk-toggleable__label-arrow:before {content: \"▸\";float: left;margin-right: 0.25em;color: #696969;}#sk-container-id-2 label.sk-toggleable__label-arrow:hover:before {color: black;}#sk-container-id-2 div.sk-estimator:hover label.sk-toggleable__label-arrow:before {color: black;}#sk-container-id-2 div.sk-toggleable__content {max-height: 0;max-width: 0;overflow: hidden;text-align: left;background-color: #f0f8ff;}#sk-container-id-2 div.sk-toggleable__content pre {margin: 0.2em;color: black;border-radius: 0.25em;background-color: #f0f8ff;}#sk-container-id-2 input.sk-toggleable__control:checked~div.sk-toggleable__content {max-height: 200px;max-width: 100%;overflow: auto;}#sk-container-id-2 input.sk-toggleable__control:checked~label.sk-toggleable__label-arrow:before {content: \"▾\";}#sk-container-id-2 div.sk-estimator input.sk-toggleable__control:checked~label.sk-toggleable__label {background-color: #d4ebff;}#sk-container-id-2 div.sk-label input.sk-toggleable__control:checked~label.sk-toggleable__label {background-color: #d4ebff;}#sk-container-id-2 input.sk-hidden--visually {border: 0;clip: rect(1px 1px 1px 1px);clip: rect(1px, 1px, 1px, 1px);height: 1px;margin: -1px;overflow: hidden;padding: 0;position: absolute;width: 1px;}#sk-container-id-2 div.sk-estimator {font-family: monospace;background-color: #f0f8ff;border: 1px dotted black;border-radius: 0.25em;box-sizing: border-box;margin-bottom: 0.5em;}#sk-container-id-2 div.sk-estimator:hover {background-color: #d4ebff;}#sk-container-id-2 div.sk-parallel-item::after {content: \"\";width: 100%;border-bottom: 1px solid gray;flex-grow: 1;}#sk-container-id-2 div.sk-label:hover label.sk-toggleable__label {background-color: #d4ebff;}#sk-container-id-2 div.sk-serial::before {content: \"\";position: absolute;border-left: 1px solid gray;box-sizing: border-box;top: 0;bottom: 0;left: 50%;z-index: 0;}#sk-container-id-2 div.sk-serial {display: flex;flex-direction: column;align-items: center;background-color: white;padding-right: 0.2em;padding-left: 0.2em;position: relative;}#sk-container-id-2 div.sk-item {position: relative;z-index: 1;}#sk-container-id-2 div.sk-parallel {display: flex;align-items: stretch;justify-content: center;background-color: white;position: relative;}#sk-container-id-2 div.sk-item::before, #sk-container-id-2 div.sk-parallel-item::before {content: \"\";position: absolute;border-left: 1px solid gray;box-sizing: border-box;top: 0;bottom: 0;left: 50%;z-index: -1;}#sk-container-id-2 div.sk-parallel-item {display: flex;flex-direction: column;z-index: 1;position: relative;background-color: white;}#sk-container-id-2 div.sk-parallel-item:first-child::after {align-self: flex-end;width: 50%;}#sk-container-id-2 div.sk-parallel-item:last-child::after {align-self: flex-start;width: 50%;}#sk-container-id-2 div.sk-parallel-item:only-child::after {width: 0;}#sk-container-id-2 div.sk-dashed-wrapped {border: 1px dashed gray;margin: 0 0.4em 0.5em 0.4em;box-sizing: border-box;padding-bottom: 0.4em;background-color: white;}#sk-container-id-2 div.sk-label label {font-family: monospace;font-weight: bold;display: inline-block;line-height: 1.2em;}#sk-container-id-2 div.sk-label-container {text-align: center;}#sk-container-id-2 div.sk-container {/* jupyter's `normalize.less` sets `[hidden] { display: none; }` but bootstrap.min.css set `[hidden] { display: none !important; }` so we also need the `!important` here to be able to override the default hidden behavior on the sphinx rendered scikit-learn.org. See: https://github.com/scikit-learn/scikit-learn/issues/21755 */display: inline-block !important;position: relative;}#sk-container-id-2 div.sk-text-repr-fallback {display: none;}</style><div id=\"sk-container-id-2\" class=\"sk-top-container\"><div class=\"sk-text-repr-fallback\"><pre>RandomForestRegressor()</pre><b>In a Jupyter environment, please rerun this cell to show the HTML representation or trust the notebook. <br />On GitHub, the HTML representation is unable to render, please try loading this page with nbviewer.org.</b></div><div class=\"sk-container\" hidden><div class=\"sk-item\"><div class=\"sk-estimator sk-toggleable\"><input class=\"sk-toggleable__control sk-hidden--visually\" id=\"sk-estimator-id-2\" type=\"checkbox\" checked><label for=\"sk-estimator-id-2\" class=\"sk-toggleable__label sk-toggleable__label-arrow\">RandomForestRegressor</label><div class=\"sk-toggleable__content\"><pre>RandomForestRegressor()</pre></div></div></div></div></div>"
      ],
      "text/plain": [
       "RandomForestRegressor()"
      ]
     },
     "execution_count": 24,
     "metadata": {},
     "output_type": "execute_result"
    }
   ],
   "source": [
    "forest_regg.fit(X_train,y_train)"
   ]
  },
  {
   "cell_type": "code",
   "execution_count": 25,
   "id": "7904dfa8",
   "metadata": {},
   "outputs": [],
   "source": [
    "y_pred12 = forest_regg.predict(X_test)"
   ]
  },
  {
   "cell_type": "code",
   "execution_count": 26,
   "id": "b96645fd",
   "metadata": {},
   "outputs": [
    {
     "name": "stdout",
     "output_type": "stream",
     "text": [
      "3969.7598927487347\n",
      "46.69713322091063\n",
      "0.7413448968930917\n",
      "63.006030606194635\n"
     ]
    }
   ],
   "source": [
    "mse_forestregg = mse(y_test, y_pred12)\n",
    "mae_forestregg= mae(y_test, y_pred12)\n",
    "mape_forestregg=mape(y_test, y_pred12)\n",
    "rmse_forestregg =np.sqrt(mse(y_test,y_pred12))\n",
    "print(mse_forestregg)\n",
    "print(mae_forestregg)\n",
    "print(mape_forestregg)\n",
    "print(rmse_forestregg)"
   ]
  },
  {
   "cell_type": "markdown",
   "id": "b2880685",
   "metadata": {},
   "source": [
    "## SVM"
   ]
  },
  {
   "cell_type": "code",
   "execution_count": 27,
   "id": "5213e768",
   "metadata": {},
   "outputs": [],
   "source": [
    "from sklearn.svm import SVR"
   ]
  },
  {
   "cell_type": "code",
   "execution_count": 28,
   "id": "f327ae72",
   "metadata": {},
   "outputs": [],
   "source": [
    "sv_reg=SVR()"
   ]
  },
  {
   "cell_type": "code",
   "execution_count": 29,
   "id": "1521710c",
   "metadata": {},
   "outputs": [
    {
     "data": {
      "text/html": [
       "<style>#sk-container-id-3 {color: black;}#sk-container-id-3 pre{padding: 0;}#sk-container-id-3 div.sk-toggleable {background-color: white;}#sk-container-id-3 label.sk-toggleable__label {cursor: pointer;display: block;width: 100%;margin-bottom: 0;padding: 0.3em;box-sizing: border-box;text-align: center;}#sk-container-id-3 label.sk-toggleable__label-arrow:before {content: \"▸\";float: left;margin-right: 0.25em;color: #696969;}#sk-container-id-3 label.sk-toggleable__label-arrow:hover:before {color: black;}#sk-container-id-3 div.sk-estimator:hover label.sk-toggleable__label-arrow:before {color: black;}#sk-container-id-3 div.sk-toggleable__content {max-height: 0;max-width: 0;overflow: hidden;text-align: left;background-color: #f0f8ff;}#sk-container-id-3 div.sk-toggleable__content pre {margin: 0.2em;color: black;border-radius: 0.25em;background-color: #f0f8ff;}#sk-container-id-3 input.sk-toggleable__control:checked~div.sk-toggleable__content {max-height: 200px;max-width: 100%;overflow: auto;}#sk-container-id-3 input.sk-toggleable__control:checked~label.sk-toggleable__label-arrow:before {content: \"▾\";}#sk-container-id-3 div.sk-estimator input.sk-toggleable__control:checked~label.sk-toggleable__label {background-color: #d4ebff;}#sk-container-id-3 div.sk-label input.sk-toggleable__control:checked~label.sk-toggleable__label {background-color: #d4ebff;}#sk-container-id-3 input.sk-hidden--visually {border: 0;clip: rect(1px 1px 1px 1px);clip: rect(1px, 1px, 1px, 1px);height: 1px;margin: -1px;overflow: hidden;padding: 0;position: absolute;width: 1px;}#sk-container-id-3 div.sk-estimator {font-family: monospace;background-color: #f0f8ff;border: 1px dotted black;border-radius: 0.25em;box-sizing: border-box;margin-bottom: 0.5em;}#sk-container-id-3 div.sk-estimator:hover {background-color: #d4ebff;}#sk-container-id-3 div.sk-parallel-item::after {content: \"\";width: 100%;border-bottom: 1px solid gray;flex-grow: 1;}#sk-container-id-3 div.sk-label:hover label.sk-toggleable__label {background-color: #d4ebff;}#sk-container-id-3 div.sk-serial::before {content: \"\";position: absolute;border-left: 1px solid gray;box-sizing: border-box;top: 0;bottom: 0;left: 50%;z-index: 0;}#sk-container-id-3 div.sk-serial {display: flex;flex-direction: column;align-items: center;background-color: white;padding-right: 0.2em;padding-left: 0.2em;position: relative;}#sk-container-id-3 div.sk-item {position: relative;z-index: 1;}#sk-container-id-3 div.sk-parallel {display: flex;align-items: stretch;justify-content: center;background-color: white;position: relative;}#sk-container-id-3 div.sk-item::before, #sk-container-id-3 div.sk-parallel-item::before {content: \"\";position: absolute;border-left: 1px solid gray;box-sizing: border-box;top: 0;bottom: 0;left: 50%;z-index: -1;}#sk-container-id-3 div.sk-parallel-item {display: flex;flex-direction: column;z-index: 1;position: relative;background-color: white;}#sk-container-id-3 div.sk-parallel-item:first-child::after {align-self: flex-end;width: 50%;}#sk-container-id-3 div.sk-parallel-item:last-child::after {align-self: flex-start;width: 50%;}#sk-container-id-3 div.sk-parallel-item:only-child::after {width: 0;}#sk-container-id-3 div.sk-dashed-wrapped {border: 1px dashed gray;margin: 0 0.4em 0.5em 0.4em;box-sizing: border-box;padding-bottom: 0.4em;background-color: white;}#sk-container-id-3 div.sk-label label {font-family: monospace;font-weight: bold;display: inline-block;line-height: 1.2em;}#sk-container-id-3 div.sk-label-container {text-align: center;}#sk-container-id-3 div.sk-container {/* jupyter's `normalize.less` sets `[hidden] { display: none; }` but bootstrap.min.css set `[hidden] { display: none !important; }` so we also need the `!important` here to be able to override the default hidden behavior on the sphinx rendered scikit-learn.org. See: https://github.com/scikit-learn/scikit-learn/issues/21755 */display: inline-block !important;position: relative;}#sk-container-id-3 div.sk-text-repr-fallback {display: none;}</style><div id=\"sk-container-id-3\" class=\"sk-top-container\"><div class=\"sk-text-repr-fallback\"><pre>SVR()</pre><b>In a Jupyter environment, please rerun this cell to show the HTML representation or trust the notebook. <br />On GitHub, the HTML representation is unable to render, please try loading this page with nbviewer.org.</b></div><div class=\"sk-container\" hidden><div class=\"sk-item\"><div class=\"sk-estimator sk-toggleable\"><input class=\"sk-toggleable__control sk-hidden--visually\" id=\"sk-estimator-id-3\" type=\"checkbox\" checked><label for=\"sk-estimator-id-3\" class=\"sk-toggleable__label sk-toggleable__label-arrow\">SVR</label><div class=\"sk-toggleable__content\"><pre>SVR()</pre></div></div></div></div></div>"
      ],
      "text/plain": [
       "SVR()"
      ]
     },
     "execution_count": 29,
     "metadata": {},
     "output_type": "execute_result"
    }
   ],
   "source": [
    "sv_reg.fit(X_train,y_train)"
   ]
  },
  {
   "cell_type": "code",
   "execution_count": 30,
   "id": "b50e50fe",
   "metadata": {},
   "outputs": [],
   "source": [
    "y_pred13 =sv_reg.predict(X_test)"
   ]
  },
  {
   "cell_type": "code",
   "execution_count": 31,
   "id": "cb58ce02",
   "metadata": {},
   "outputs": [
    {
     "name": "stdout",
     "output_type": "stream",
     "text": [
      "7023.928688487347\n",
      "65.275071639749\n",
      "0.7972478404215554\n",
      "83.80888191884765\n"
     ]
    }
   ],
   "source": [
    "mse_sv_reg = mse(y_test, y_pred13)\n",
    "mae_sv_reg= mae(y_test, y_pred13)\n",
    "mape_sv_reg=mape(y_test, y_pred13)\n",
    "rmse_sv_reg =np.sqrt(mse(y_test,y_pred13))\n",
    "print(mse_sv_reg)\n",
    "print(mae_sv_reg)\n",
    "print(mape_sv_reg)\n",
    "print(rmse_sv_reg)"
   ]
  },
  {
   "cell_type": "markdown",
   "id": "acad0d29",
   "metadata": {},
   "source": [
    "## xGboost Regressor"
   ]
  },
  {
   "cell_type": "markdown",
   "id": "805b71a9",
   "metadata": {},
   "source": [
    "#### Okul zamaninda da xgboost kutuphanesini yuklemeye calismis , yuklemis ona ragmen boyle bir problem ile karsilasmistim"
   ]
  },
  {
   "cell_type": "code",
   "execution_count": 32,
   "id": "70c0d881",
   "metadata": {
    "scrolled": true
   },
   "outputs": [],
   "source": [
    "# Bunu cmd ve bash ile yuklemeye calistim en cok zamanim burada gitti :\\\\ :)\n",
    "#%pip install xgboost"
   ]
  },
  {
   "cell_type": "code",
   "execution_count": 33,
   "id": "8f54a151",
   "metadata": {
    "scrolled": true
   },
   "outputs": [],
   "source": [
    "from xgboost import XGBRegressor as xgbR"
   ]
  },
  {
   "cell_type": "code",
   "execution_count": 34,
   "id": "e4c1eff3",
   "metadata": {},
   "outputs": [],
   "source": [
    "xg_regg =xgbR()"
   ]
  },
  {
   "cell_type": "code",
   "execution_count": 35,
   "id": "d919bc01",
   "metadata": {},
   "outputs": [
    {
     "data": {
      "text/html": [
       "<style>#sk-container-id-4 {color: black;}#sk-container-id-4 pre{padding: 0;}#sk-container-id-4 div.sk-toggleable {background-color: white;}#sk-container-id-4 label.sk-toggleable__label {cursor: pointer;display: block;width: 100%;margin-bottom: 0;padding: 0.3em;box-sizing: border-box;text-align: center;}#sk-container-id-4 label.sk-toggleable__label-arrow:before {content: \"▸\";float: left;margin-right: 0.25em;color: #696969;}#sk-container-id-4 label.sk-toggleable__label-arrow:hover:before {color: black;}#sk-container-id-4 div.sk-estimator:hover label.sk-toggleable__label-arrow:before {color: black;}#sk-container-id-4 div.sk-toggleable__content {max-height: 0;max-width: 0;overflow: hidden;text-align: left;background-color: #f0f8ff;}#sk-container-id-4 div.sk-toggleable__content pre {margin: 0.2em;color: black;border-radius: 0.25em;background-color: #f0f8ff;}#sk-container-id-4 input.sk-toggleable__control:checked~div.sk-toggleable__content {max-height: 200px;max-width: 100%;overflow: auto;}#sk-container-id-4 input.sk-toggleable__control:checked~label.sk-toggleable__label-arrow:before {content: \"▾\";}#sk-container-id-4 div.sk-estimator input.sk-toggleable__control:checked~label.sk-toggleable__label {background-color: #d4ebff;}#sk-container-id-4 div.sk-label input.sk-toggleable__control:checked~label.sk-toggleable__label {background-color: #d4ebff;}#sk-container-id-4 input.sk-hidden--visually {border: 0;clip: rect(1px 1px 1px 1px);clip: rect(1px, 1px, 1px, 1px);height: 1px;margin: -1px;overflow: hidden;padding: 0;position: absolute;width: 1px;}#sk-container-id-4 div.sk-estimator {font-family: monospace;background-color: #f0f8ff;border: 1px dotted black;border-radius: 0.25em;box-sizing: border-box;margin-bottom: 0.5em;}#sk-container-id-4 div.sk-estimator:hover {background-color: #d4ebff;}#sk-container-id-4 div.sk-parallel-item::after {content: \"\";width: 100%;border-bottom: 1px solid gray;flex-grow: 1;}#sk-container-id-4 div.sk-label:hover label.sk-toggleable__label {background-color: #d4ebff;}#sk-container-id-4 div.sk-serial::before {content: \"\";position: absolute;border-left: 1px solid gray;box-sizing: border-box;top: 0;bottom: 0;left: 50%;z-index: 0;}#sk-container-id-4 div.sk-serial {display: flex;flex-direction: column;align-items: center;background-color: white;padding-right: 0.2em;padding-left: 0.2em;position: relative;}#sk-container-id-4 div.sk-item {position: relative;z-index: 1;}#sk-container-id-4 div.sk-parallel {display: flex;align-items: stretch;justify-content: center;background-color: white;position: relative;}#sk-container-id-4 div.sk-item::before, #sk-container-id-4 div.sk-parallel-item::before {content: \"\";position: absolute;border-left: 1px solid gray;box-sizing: border-box;top: 0;bottom: 0;left: 50%;z-index: -1;}#sk-container-id-4 div.sk-parallel-item {display: flex;flex-direction: column;z-index: 1;position: relative;background-color: white;}#sk-container-id-4 div.sk-parallel-item:first-child::after {align-self: flex-end;width: 50%;}#sk-container-id-4 div.sk-parallel-item:last-child::after {align-self: flex-start;width: 50%;}#sk-container-id-4 div.sk-parallel-item:only-child::after {width: 0;}#sk-container-id-4 div.sk-dashed-wrapped {border: 1px dashed gray;margin: 0 0.4em 0.5em 0.4em;box-sizing: border-box;padding-bottom: 0.4em;background-color: white;}#sk-container-id-4 div.sk-label label {font-family: monospace;font-weight: bold;display: inline-block;line-height: 1.2em;}#sk-container-id-4 div.sk-label-container {text-align: center;}#sk-container-id-4 div.sk-container {/* jupyter's `normalize.less` sets `[hidden] { display: none; }` but bootstrap.min.css set `[hidden] { display: none !important; }` so we also need the `!important` here to be able to override the default hidden behavior on the sphinx rendered scikit-learn.org. See: https://github.com/scikit-learn/scikit-learn/issues/21755 */display: inline-block !important;position: relative;}#sk-container-id-4 div.sk-text-repr-fallback {display: none;}</style><div id=\"sk-container-id-4\" class=\"sk-top-container\"><div class=\"sk-text-repr-fallback\"><pre>XGBRegressor(base_score=None, booster=None, callbacks=None,\n",
       "             colsample_bylevel=None, colsample_bynode=None,\n",
       "             colsample_bytree=None, device=None, early_stopping_rounds=None,\n",
       "             enable_categorical=False, eval_metric=None, feature_types=None,\n",
       "             gamma=None, grow_policy=None, importance_type=None,\n",
       "             interaction_constraints=None, learning_rate=None, max_bin=None,\n",
       "             max_cat_threshold=None, max_cat_to_onehot=None,\n",
       "             max_delta_step=None, max_depth=None, max_leaves=None,\n",
       "             min_child_weight=None, missing=nan, monotone_constraints=None,\n",
       "             multi_strategy=None, n_estimators=None, n_jobs=None,\n",
       "             num_parallel_tree=None, random_state=None, ...)</pre><b>In a Jupyter environment, please rerun this cell to show the HTML representation or trust the notebook. <br />On GitHub, the HTML representation is unable to render, please try loading this page with nbviewer.org.</b></div><div class=\"sk-container\" hidden><div class=\"sk-item\"><div class=\"sk-estimator sk-toggleable\"><input class=\"sk-toggleable__control sk-hidden--visually\" id=\"sk-estimator-id-4\" type=\"checkbox\" checked><label for=\"sk-estimator-id-4\" class=\"sk-toggleable__label sk-toggleable__label-arrow\">XGBRegressor</label><div class=\"sk-toggleable__content\"><pre>XGBRegressor(base_score=None, booster=None, callbacks=None,\n",
       "             colsample_bylevel=None, colsample_bynode=None,\n",
       "             colsample_bytree=None, device=None, early_stopping_rounds=None,\n",
       "             enable_categorical=False, eval_metric=None, feature_types=None,\n",
       "             gamma=None, grow_policy=None, importance_type=None,\n",
       "             interaction_constraints=None, learning_rate=None, max_bin=None,\n",
       "             max_cat_threshold=None, max_cat_to_onehot=None,\n",
       "             max_delta_step=None, max_depth=None, max_leaves=None,\n",
       "             min_child_weight=None, missing=nan, monotone_constraints=None,\n",
       "             multi_strategy=None, n_estimators=None, n_jobs=None,\n",
       "             num_parallel_tree=None, random_state=None, ...)</pre></div></div></div></div></div>"
      ],
      "text/plain": [
       "XGBRegressor(base_score=None, booster=None, callbacks=None,\n",
       "             colsample_bylevel=None, colsample_bynode=None,\n",
       "             colsample_bytree=None, device=None, early_stopping_rounds=None,\n",
       "             enable_categorical=False, eval_metric=None, feature_types=None,\n",
       "             gamma=None, grow_policy=None, importance_type=None,\n",
       "             interaction_constraints=None, learning_rate=None, max_bin=None,\n",
       "             max_cat_threshold=None, max_cat_to_onehot=None,\n",
       "             max_delta_step=None, max_depth=None, max_leaves=None,\n",
       "             min_child_weight=None, missing=nan, monotone_constraints=None,\n",
       "             multi_strategy=None, n_estimators=None, n_jobs=None,\n",
       "             num_parallel_tree=None, random_state=None, ...)"
      ]
     },
     "execution_count": 35,
     "metadata": {},
     "output_type": "execute_result"
    }
   ],
   "source": [
    "xg_regg.fit(X_train , y_train)"
   ]
  },
  {
   "cell_type": "code",
   "execution_count": 36,
   "id": "d17950d9",
   "metadata": {},
   "outputs": [],
   "source": [
    "y_pred14 =xg_regg.predict(X_test)"
   ]
  },
  {
   "cell_type": "code",
   "execution_count": 37,
   "id": "b7f4b040",
   "metadata": {},
   "outputs": [
    {
     "name": "stdout",
     "output_type": "stream",
     "text": [
      "6945.676921673017\n",
      "60.74615244680472\n",
      "0.8548266598170733\n",
      "83.34072786862986\n"
     ]
    }
   ],
   "source": [
    "mse_xg_regg = mse(y_test, y_pred14)\n",
    "mae_xg_regg= mae(y_test, y_pred14)\n",
    "mape_xg_regg=mape(y_test, y_pred14)\n",
    "rmse_xg_regg =np.sqrt(mse(y_test,y_pred14))\n",
    "print(mse_xg_regg)\n",
    "print(mae_xg_regg)\n",
    "print(mape_xg_regg)\n",
    "print(rmse_xg_regg)"
   ]
  },
  {
   "cell_type": "markdown",
   "id": "e02a303d",
   "metadata": {},
   "source": [
    "## Light GBM"
   ]
  },
  {
   "cell_type": "code",
   "execution_count": 38,
   "id": "f22cecc8",
   "metadata": {},
   "outputs": [],
   "source": [
    "#!pip install numpy scipy scikit-learn -q"
   ]
  },
  {
   "cell_type": "code",
   "execution_count": 39,
   "id": "001650eb",
   "metadata": {},
   "outputs": [],
   "source": [
    "#!pip install lightgbm -q"
   ]
  },
  {
   "cell_type": "code",
   "execution_count": 40,
   "id": "717b16c1",
   "metadata": {},
   "outputs": [],
   "source": [
    "import lightgbm as lgb"
   ]
  },
  {
   "cell_type": "code",
   "execution_count": 41,
   "id": "9bf95740",
   "metadata": {},
   "outputs": [],
   "source": [
    "lgbm_regg=lgb.LGBMRegressor()"
   ]
  },
  {
   "cell_type": "code",
   "execution_count": 42,
   "id": "ed699cdb",
   "metadata": {},
   "outputs": [
    {
     "name": "stdout",
     "output_type": "stream",
     "text": [
      "[LightGBM] [Info] Auto-choosing row-wise multi-threading, the overhead of testing was 0.001438 seconds.\n",
      "You can set `force_row_wise=true` to remove the overhead.\n",
      "And if memory is not enough, you can set `force_col_wise=true`.\n",
      "[LightGBM] [Info] Total Bins 327\n",
      "[LightGBM] [Info] Number of data points in the train set: 10670, number of used features: 5\n",
      "[LightGBM] [Info] Start training from score 50.675164\n"
     ]
    },
    {
     "data": {
      "text/html": [
       "<style>#sk-container-id-5 {color: black;}#sk-container-id-5 pre{padding: 0;}#sk-container-id-5 div.sk-toggleable {background-color: white;}#sk-container-id-5 label.sk-toggleable__label {cursor: pointer;display: block;width: 100%;margin-bottom: 0;padding: 0.3em;box-sizing: border-box;text-align: center;}#sk-container-id-5 label.sk-toggleable__label-arrow:before {content: \"▸\";float: left;margin-right: 0.25em;color: #696969;}#sk-container-id-5 label.sk-toggleable__label-arrow:hover:before {color: black;}#sk-container-id-5 div.sk-estimator:hover label.sk-toggleable__label-arrow:before {color: black;}#sk-container-id-5 div.sk-toggleable__content {max-height: 0;max-width: 0;overflow: hidden;text-align: left;background-color: #f0f8ff;}#sk-container-id-5 div.sk-toggleable__content pre {margin: 0.2em;color: black;border-radius: 0.25em;background-color: #f0f8ff;}#sk-container-id-5 input.sk-toggleable__control:checked~div.sk-toggleable__content {max-height: 200px;max-width: 100%;overflow: auto;}#sk-container-id-5 input.sk-toggleable__control:checked~label.sk-toggleable__label-arrow:before {content: \"▾\";}#sk-container-id-5 div.sk-estimator input.sk-toggleable__control:checked~label.sk-toggleable__label {background-color: #d4ebff;}#sk-container-id-5 div.sk-label input.sk-toggleable__control:checked~label.sk-toggleable__label {background-color: #d4ebff;}#sk-container-id-5 input.sk-hidden--visually {border: 0;clip: rect(1px 1px 1px 1px);clip: rect(1px, 1px, 1px, 1px);height: 1px;margin: -1px;overflow: hidden;padding: 0;position: absolute;width: 1px;}#sk-container-id-5 div.sk-estimator {font-family: monospace;background-color: #f0f8ff;border: 1px dotted black;border-radius: 0.25em;box-sizing: border-box;margin-bottom: 0.5em;}#sk-container-id-5 div.sk-estimator:hover {background-color: #d4ebff;}#sk-container-id-5 div.sk-parallel-item::after {content: \"\";width: 100%;border-bottom: 1px solid gray;flex-grow: 1;}#sk-container-id-5 div.sk-label:hover label.sk-toggleable__label {background-color: #d4ebff;}#sk-container-id-5 div.sk-serial::before {content: \"\";position: absolute;border-left: 1px solid gray;box-sizing: border-box;top: 0;bottom: 0;left: 50%;z-index: 0;}#sk-container-id-5 div.sk-serial {display: flex;flex-direction: column;align-items: center;background-color: white;padding-right: 0.2em;padding-left: 0.2em;position: relative;}#sk-container-id-5 div.sk-item {position: relative;z-index: 1;}#sk-container-id-5 div.sk-parallel {display: flex;align-items: stretch;justify-content: center;background-color: white;position: relative;}#sk-container-id-5 div.sk-item::before, #sk-container-id-5 div.sk-parallel-item::before {content: \"\";position: absolute;border-left: 1px solid gray;box-sizing: border-box;top: 0;bottom: 0;left: 50%;z-index: -1;}#sk-container-id-5 div.sk-parallel-item {display: flex;flex-direction: column;z-index: 1;position: relative;background-color: white;}#sk-container-id-5 div.sk-parallel-item:first-child::after {align-self: flex-end;width: 50%;}#sk-container-id-5 div.sk-parallel-item:last-child::after {align-self: flex-start;width: 50%;}#sk-container-id-5 div.sk-parallel-item:only-child::after {width: 0;}#sk-container-id-5 div.sk-dashed-wrapped {border: 1px dashed gray;margin: 0 0.4em 0.5em 0.4em;box-sizing: border-box;padding-bottom: 0.4em;background-color: white;}#sk-container-id-5 div.sk-label label {font-family: monospace;font-weight: bold;display: inline-block;line-height: 1.2em;}#sk-container-id-5 div.sk-label-container {text-align: center;}#sk-container-id-5 div.sk-container {/* jupyter's `normalize.less` sets `[hidden] { display: none; }` but bootstrap.min.css set `[hidden] { display: none !important; }` so we also need the `!important` here to be able to override the default hidden behavior on the sphinx rendered scikit-learn.org. See: https://github.com/scikit-learn/scikit-learn/issues/21755 */display: inline-block !important;position: relative;}#sk-container-id-5 div.sk-text-repr-fallback {display: none;}</style><div id=\"sk-container-id-5\" class=\"sk-top-container\"><div class=\"sk-text-repr-fallback\"><pre>LGBMRegressor()</pre><b>In a Jupyter environment, please rerun this cell to show the HTML representation or trust the notebook. <br />On GitHub, the HTML representation is unable to render, please try loading this page with nbviewer.org.</b></div><div class=\"sk-container\" hidden><div class=\"sk-item\"><div class=\"sk-estimator sk-toggleable\"><input class=\"sk-toggleable__control sk-hidden--visually\" id=\"sk-estimator-id-5\" type=\"checkbox\" checked><label for=\"sk-estimator-id-5\" class=\"sk-toggleable__label sk-toggleable__label-arrow\">LGBMRegressor</label><div class=\"sk-toggleable__content\"><pre>LGBMRegressor()</pre></div></div></div></div></div>"
      ],
      "text/plain": [
       "LGBMRegressor()"
      ]
     },
     "execution_count": 42,
     "metadata": {},
     "output_type": "execute_result"
    }
   ],
   "source": [
    "lgbm_regg.fit(X_train,y_train)"
   ]
  },
  {
   "cell_type": "code",
   "execution_count": 43,
   "id": "d4165bdb",
   "metadata": {},
   "outputs": [],
   "source": [
    "y_pred15 = lgbm_regg.predict(X_test)"
   ]
  },
  {
   "cell_type": "code",
   "execution_count": 44,
   "id": "806837a9",
   "metadata": {},
   "outputs": [
    {
     "name": "stdout",
     "output_type": "stream",
     "text": [
      "4936.673079424038\n",
      "50.77017881672122\n",
      "0.773287891528787\n",
      "70.26146226363382\n"
     ]
    }
   ],
   "source": [
    "mse_lgbm_regg = mse(y_test, y_pred15)\n",
    "mae_lgbm_regg= mae(y_test, y_pred15)\n",
    "mape_lgbm_regg=mape(y_test, y_pred15)\n",
    "rmse_lgbm_regg =np.sqrt(mse(y_test,y_pred15))\n",
    "print(mse_lgbm_regg)\n",
    "print(mae_lgbm_regg)\n",
    "print(mape_lgbm_regg)\n",
    "print(rmse_lgbm_regg)"
   ]
  },
  {
   "cell_type": "markdown",
   "id": "f9f39ff6",
   "metadata": {},
   "source": [
    "# BEST hyperparameter :\n",
    "### GridSearchCV ve RandomizedSearchCV "
   ]
  },
  {
   "cell_type": "markdown",
   "id": "860d0b33",
   "metadata": {},
   "source": [
    "# GridSearchCV"
   ]
  },
  {
   "cell_type": "code",
   "execution_count": 45,
   "id": "26035513",
   "metadata": {},
   "outputs": [],
   "source": [
    "from sklearn.model_selection import GridSearchCV as gs, RandomizedSearchCV as rs"
   ]
  },
  {
   "cell_type": "markdown",
   "id": "f4799526",
   "metadata": {},
   "source": [
    "# 1-Linear Regression"
   ]
  },
  {
   "cell_type": "markdown",
   "id": "5cf222ca",
   "metadata": {},
   "source": [
    "#1- oncelikle kullandigin modelin hyperparametre alacagi deger araliklarini ogren (scikit-learn veya () icine shift+tab bas )"
   ]
  },
  {
   "cell_type": "markdown",
   "id": "f6d7826f",
   "metadata": {},
   "source": [
    "#2- best paramdan once bir fit etmek gerekir ki best parametreleri bulsun"
   ]
  },
  {
   "cell_type": "code",
   "execution_count": 46,
   "id": "383afe02",
   "metadata": {},
   "outputs": [
    {
     "data": {
      "text/plain": [
       "dict"
      ]
     },
     "execution_count": 46,
     "metadata": {},
     "output_type": "execute_result"
    }
   ],
   "source": [
    "lreg_params= {\n",
    "    \"fit_intercept\" : [True,False],\n",
    "    \"copy_X\": [True,False],\n",
    "    \"n_jobs\" : [None,1,-1]\n",
    "}\n",
    "type(lreg_params)"
   ]
  },
  {
   "cell_type": "code",
   "execution_count": 47,
   "id": "80d8f8b9",
   "metadata": {},
   "outputs": [
    {
     "data": {
      "text/html": [
       "<style>#sk-container-id-6 {color: black;}#sk-container-id-6 pre{padding: 0;}#sk-container-id-6 div.sk-toggleable {background-color: white;}#sk-container-id-6 label.sk-toggleable__label {cursor: pointer;display: block;width: 100%;margin-bottom: 0;padding: 0.3em;box-sizing: border-box;text-align: center;}#sk-container-id-6 label.sk-toggleable__label-arrow:before {content: \"▸\";float: left;margin-right: 0.25em;color: #696969;}#sk-container-id-6 label.sk-toggleable__label-arrow:hover:before {color: black;}#sk-container-id-6 div.sk-estimator:hover label.sk-toggleable__label-arrow:before {color: black;}#sk-container-id-6 div.sk-toggleable__content {max-height: 0;max-width: 0;overflow: hidden;text-align: left;background-color: #f0f8ff;}#sk-container-id-6 div.sk-toggleable__content pre {margin: 0.2em;color: black;border-radius: 0.25em;background-color: #f0f8ff;}#sk-container-id-6 input.sk-toggleable__control:checked~div.sk-toggleable__content {max-height: 200px;max-width: 100%;overflow: auto;}#sk-container-id-6 input.sk-toggleable__control:checked~label.sk-toggleable__label-arrow:before {content: \"▾\";}#sk-container-id-6 div.sk-estimator input.sk-toggleable__control:checked~label.sk-toggleable__label {background-color: #d4ebff;}#sk-container-id-6 div.sk-label input.sk-toggleable__control:checked~label.sk-toggleable__label {background-color: #d4ebff;}#sk-container-id-6 input.sk-hidden--visually {border: 0;clip: rect(1px 1px 1px 1px);clip: rect(1px, 1px, 1px, 1px);height: 1px;margin: -1px;overflow: hidden;padding: 0;position: absolute;width: 1px;}#sk-container-id-6 div.sk-estimator {font-family: monospace;background-color: #f0f8ff;border: 1px dotted black;border-radius: 0.25em;box-sizing: border-box;margin-bottom: 0.5em;}#sk-container-id-6 div.sk-estimator:hover {background-color: #d4ebff;}#sk-container-id-6 div.sk-parallel-item::after {content: \"\";width: 100%;border-bottom: 1px solid gray;flex-grow: 1;}#sk-container-id-6 div.sk-label:hover label.sk-toggleable__label {background-color: #d4ebff;}#sk-container-id-6 div.sk-serial::before {content: \"\";position: absolute;border-left: 1px solid gray;box-sizing: border-box;top: 0;bottom: 0;left: 50%;z-index: 0;}#sk-container-id-6 div.sk-serial {display: flex;flex-direction: column;align-items: center;background-color: white;padding-right: 0.2em;padding-left: 0.2em;position: relative;}#sk-container-id-6 div.sk-item {position: relative;z-index: 1;}#sk-container-id-6 div.sk-parallel {display: flex;align-items: stretch;justify-content: center;background-color: white;position: relative;}#sk-container-id-6 div.sk-item::before, #sk-container-id-6 div.sk-parallel-item::before {content: \"\";position: absolute;border-left: 1px solid gray;box-sizing: border-box;top: 0;bottom: 0;left: 50%;z-index: -1;}#sk-container-id-6 div.sk-parallel-item {display: flex;flex-direction: column;z-index: 1;position: relative;background-color: white;}#sk-container-id-6 div.sk-parallel-item:first-child::after {align-self: flex-end;width: 50%;}#sk-container-id-6 div.sk-parallel-item:last-child::after {align-self: flex-start;width: 50%;}#sk-container-id-6 div.sk-parallel-item:only-child::after {width: 0;}#sk-container-id-6 div.sk-dashed-wrapped {border: 1px dashed gray;margin: 0 0.4em 0.5em 0.4em;box-sizing: border-box;padding-bottom: 0.4em;background-color: white;}#sk-container-id-6 div.sk-label label {font-family: monospace;font-weight: bold;display: inline-block;line-height: 1.2em;}#sk-container-id-6 div.sk-label-container {text-align: center;}#sk-container-id-6 div.sk-container {/* jupyter's `normalize.less` sets `[hidden] { display: none; }` but bootstrap.min.css set `[hidden] { display: none !important; }` so we also need the `!important` here to be able to override the default hidden behavior on the sphinx rendered scikit-learn.org. See: https://github.com/scikit-learn/scikit-learn/issues/21755 */display: inline-block !important;position: relative;}#sk-container-id-6 div.sk-text-repr-fallback {display: none;}</style><div id=\"sk-container-id-6\" class=\"sk-top-container\"><div class=\"sk-text-repr-fallback\"><pre>GridSearchCV(cv=10, estimator=LinearRegression(),\n",
       "             param_grid={&#x27;copy_X&#x27;: [True, False],\n",
       "                         &#x27;fit_intercept&#x27;: [True, False],\n",
       "                         &#x27;n_jobs&#x27;: [None, 1, -1]},\n",
       "             scoring=&#x27;neg_mean_squared_error&#x27;)</pre><b>In a Jupyter environment, please rerun this cell to show the HTML representation or trust the notebook. <br />On GitHub, the HTML representation is unable to render, please try loading this page with nbviewer.org.</b></div><div class=\"sk-container\" hidden><div class=\"sk-item sk-dashed-wrapped\"><div class=\"sk-label-container\"><div class=\"sk-label sk-toggleable\"><input class=\"sk-toggleable__control sk-hidden--visually\" id=\"sk-estimator-id-6\" type=\"checkbox\" ><label for=\"sk-estimator-id-6\" class=\"sk-toggleable__label sk-toggleable__label-arrow\">GridSearchCV</label><div class=\"sk-toggleable__content\"><pre>GridSearchCV(cv=10, estimator=LinearRegression(),\n",
       "             param_grid={&#x27;copy_X&#x27;: [True, False],\n",
       "                         &#x27;fit_intercept&#x27;: [True, False],\n",
       "                         &#x27;n_jobs&#x27;: [None, 1, -1]},\n",
       "             scoring=&#x27;neg_mean_squared_error&#x27;)</pre></div></div></div><div class=\"sk-parallel\"><div class=\"sk-parallel-item\"><div class=\"sk-item\"><div class=\"sk-label-container\"><div class=\"sk-label sk-toggleable\"><input class=\"sk-toggleable__control sk-hidden--visually\" id=\"sk-estimator-id-7\" type=\"checkbox\" ><label for=\"sk-estimator-id-7\" class=\"sk-toggleable__label sk-toggleable__label-arrow\">estimator: LinearRegression</label><div class=\"sk-toggleable__content\"><pre>LinearRegression()</pre></div></div></div><div class=\"sk-serial\"><div class=\"sk-item\"><div class=\"sk-estimator sk-toggleable\"><input class=\"sk-toggleable__control sk-hidden--visually\" id=\"sk-estimator-id-8\" type=\"checkbox\" ><label for=\"sk-estimator-id-8\" class=\"sk-toggleable__label sk-toggleable__label-arrow\">LinearRegression</label><div class=\"sk-toggleable__content\"><pre>LinearRegression()</pre></div></div></div></div></div></div></div></div></div></div>"
      ],
      "text/plain": [
       "GridSearchCV(cv=10, estimator=LinearRegression(),\n",
       "             param_grid={'copy_X': [True, False],\n",
       "                         'fit_intercept': [True, False],\n",
       "                         'n_jobs': [None, 1, -1]},\n",
       "             scoring='neg_mean_squared_error')"
      ]
     },
     "execution_count": 47,
     "metadata": {},
     "output_type": "execute_result"
    }
   ],
   "source": [
    "gridsearch_model = gs(estimator=lreg, param_grid=lreg_params, cv=10, scoring=\"neg_mean_squared_error\")\n",
    "gridsearch_model.fit(X_train, y_train)"
   ]
  },
  {
   "cell_type": "code",
   "execution_count": 48,
   "id": "e0a433f3",
   "metadata": {},
   "outputs": [],
   "source": [
    "best_lr= gridsearch_model.best_params_"
   ]
  },
  {
   "cell_type": "code",
   "execution_count": 49,
   "id": "c5b24c3b",
   "metadata": {},
   "outputs": [],
   "source": [
    "# ** yapisi sozluk icindeki key value degerlerini sirasi ile disari doker\n",
    "lreg_gridmodel = LinearRegression(**best_lr)"
   ]
  },
  {
   "cell_type": "code",
   "execution_count": 50,
   "id": "8d5fbaee",
   "metadata": {},
   "outputs": [],
   "source": [
    "lreg_gridmodel.fit(X_train,y_train)\n",
    "y_pred21=lreg_gridmodel.predict(X_test)"
   ]
  },
  {
   "cell_type": "code",
   "execution_count": 51,
   "id": "ecf9a0ab",
   "metadata": {},
   "outputs": [
    {
     "name": "stdout",
     "output_type": "stream",
     "text": [
      "5426.593534844751\n",
      "60.43858614357732\n",
      "0.9194984730923907\n",
      "73.66541613840752\n"
     ]
    }
   ],
   "source": [
    "mse_lreg21_gridmodel = mse(y_test, y_pred21)\n",
    "mae_lreg21_gridmodel= mae(y_test, y_pred21)\n",
    "mape_lreg21_gridmodel=mape(y_test, y_pred21)\n",
    "rmse_lreg21_gridmodel =np.sqrt(mse(y_test,y_pred21))\n",
    "print(mse_lreg21_gridmodel)\n",
    "print(mae_lreg21_gridmodel)\n",
    "print(mape_lreg21_gridmodel)\n",
    "print(rmse_lreg21_gridmodel)"
   ]
  },
  {
   "cell_type": "markdown",
   "id": "f3d36e72",
   "metadata": {},
   "source": [
    "## 2-Random Forest Regressor"
   ]
  },
  {
   "cell_type": "code",
   "execution_count": 52,
   "id": "5d187763",
   "metadata": {},
   "outputs": [
    {
     "ename": "SyntaxError",
     "evalue": "incomplete input (2294556799.py, line 1)",
     "output_type": "error",
     "traceback": [
      "\u001b[1;36m  Cell \u001b[1;32mIn[52], line 1\u001b[1;36m\u001b[0m\n\u001b[1;33m    \"\"\"\"\u001b[0m\n\u001b[1;37m    ^\u001b[0m\n\u001b[1;31mSyntaxError\u001b[0m\u001b[1;31m:\u001b[0m incomplete input\n"
     ]
    }
   ],
   "source": [
    "\"\"\"\"\n",
    "forest_params={\n",
    "    \"n_estimators\":range(10,150,10),\n",
    "    \"criterion\" : [\"squared_error\",\"absolute_error\",\"friedman_mse\",\"poisson\"],\n",
    "    \"max_depth\" : range(0,3),\n",
    "    #depth none vermis ne kadar olmali hakkinda tecrubem yok\n",
    "}\n",
    "\"'\""
   ]
  },
  {
   "cell_type": "markdown",
   "id": "da7a9e7b",
   "metadata": {},
   "source": [
    "#### aslinda rangei cok daha ayrintili yapacaktik fakat internet hizimdan dolayi demo olarak yaptim. diger orneklerde bu kadar fazla parametre koymayacagim 4x5x4x3 kez calismasi bile cok uzun zaman aldi.optimal degerler yaklasik olarak internette bulunmakta\n"
   ]
  },
  {
   "cell_type": "code",
   "execution_count": 53,
   "id": "b08e9f0f",
   "metadata": {},
   "outputs": [],
   "source": [
    "forest_params={\n",
    "    \"n_estimators\":range(100,150,25),\n",
    "    \"criterion\" : [\"squared_error\",\"absolute_error\"],\n",
    "    \"max_depth\" : range(1,2)\n",
    "    \n",
    "}"
   ]
  },
  {
   "cell_type": "code",
   "execution_count": 54,
   "id": "f08e922c",
   "metadata": {},
   "outputs": [],
   "source": [
    "gridsearch_forest =gs(estimator=forest_regg,param_grid=forest_params,cv=5,scoring=\"neg_mean_squared_error\",verbose=3)"
   ]
  },
  {
   "cell_type": "code",
   "execution_count": 55,
   "id": "339c95d7",
   "metadata": {},
   "outputs": [
    {
     "name": "stdout",
     "output_type": "stream",
     "text": [
      "Fitting 5 folds for each of 4 candidates, totalling 20 fits\n",
      "[CV 1/5] END criterion=squared_error, max_depth=1, n_estimators=100;, score=-717.495 total time=   0.3s\n",
      "[CV 2/5] END criterion=squared_error, max_depth=1, n_estimators=100;, score=-316.413 total time=   0.3s\n",
      "[CV 3/5] END criterion=squared_error, max_depth=1, n_estimators=100;, score=-462.328 total time=   0.3s\n",
      "[CV 4/5] END criterion=squared_error, max_depth=1, n_estimators=100;, score=-3403.099 total time=   0.4s\n",
      "[CV 5/5] END criterion=squared_error, max_depth=1, n_estimators=100;, score=-8528.446 total time=   0.4s\n",
      "[CV 1/5] END criterion=squared_error, max_depth=1, n_estimators=125;, score=-719.488 total time=   0.5s\n",
      "[CV 2/5] END criterion=squared_error, max_depth=1, n_estimators=125;, score=-309.683 total time=   0.5s\n",
      "[CV 3/5] END criterion=squared_error, max_depth=1, n_estimators=125;, score=-458.939 total time=   0.5s\n",
      "[CV 4/5] END criterion=squared_error, max_depth=1, n_estimators=125;, score=-3401.539 total time=   0.5s\n",
      "[CV 5/5] END criterion=squared_error, max_depth=1, n_estimators=125;, score=-8516.147 total time=   0.5s\n",
      "[CV 1/5] END criterion=absolute_error, max_depth=1, n_estimators=100;, score=-287.215 total time=  32.6s\n",
      "[CV 2/5] END criterion=absolute_error, max_depth=1, n_estimators=100;, score=-134.363 total time=  38.7s\n",
      "[CV 3/5] END criterion=absolute_error, max_depth=1, n_estimators=100;, score=-775.438 total time=  46.7s\n",
      "[CV 4/5] END criterion=absolute_error, max_depth=1, n_estimators=100;, score=-2964.578 total time=  48.6s\n",
      "[CV 5/5] END criterion=absolute_error, max_depth=1, n_estimators=100;, score=-10808.027 total time=  48.9s\n",
      "[CV 1/5] END criterion=absolute_error, max_depth=1, n_estimators=125;, score=-286.257 total time=  55.0s\n",
      "[CV 2/5] END criterion=absolute_error, max_depth=1, n_estimators=125;, score=-133.910 total time= 1.0min\n",
      "[CV 3/5] END criterion=absolute_error, max_depth=1, n_estimators=125;, score=-774.442 total time= 1.0min\n",
      "[CV 4/5] END criterion=absolute_error, max_depth=1, n_estimators=125;, score=-2977.497 total time= 1.0min\n",
      "[CV 5/5] END criterion=absolute_error, max_depth=1, n_estimators=125;, score=-10950.489 total time=  59.1s\n"
     ]
    },
    {
     "data": {
      "text/html": [
       "<style>#sk-container-id-7 {color: black;}#sk-container-id-7 pre{padding: 0;}#sk-container-id-7 div.sk-toggleable {background-color: white;}#sk-container-id-7 label.sk-toggleable__label {cursor: pointer;display: block;width: 100%;margin-bottom: 0;padding: 0.3em;box-sizing: border-box;text-align: center;}#sk-container-id-7 label.sk-toggleable__label-arrow:before {content: \"▸\";float: left;margin-right: 0.25em;color: #696969;}#sk-container-id-7 label.sk-toggleable__label-arrow:hover:before {color: black;}#sk-container-id-7 div.sk-estimator:hover label.sk-toggleable__label-arrow:before {color: black;}#sk-container-id-7 div.sk-toggleable__content {max-height: 0;max-width: 0;overflow: hidden;text-align: left;background-color: #f0f8ff;}#sk-container-id-7 div.sk-toggleable__content pre {margin: 0.2em;color: black;border-radius: 0.25em;background-color: #f0f8ff;}#sk-container-id-7 input.sk-toggleable__control:checked~div.sk-toggleable__content {max-height: 200px;max-width: 100%;overflow: auto;}#sk-container-id-7 input.sk-toggleable__control:checked~label.sk-toggleable__label-arrow:before {content: \"▾\";}#sk-container-id-7 div.sk-estimator input.sk-toggleable__control:checked~label.sk-toggleable__label {background-color: #d4ebff;}#sk-container-id-7 div.sk-label input.sk-toggleable__control:checked~label.sk-toggleable__label {background-color: #d4ebff;}#sk-container-id-7 input.sk-hidden--visually {border: 0;clip: rect(1px 1px 1px 1px);clip: rect(1px, 1px, 1px, 1px);height: 1px;margin: -1px;overflow: hidden;padding: 0;position: absolute;width: 1px;}#sk-container-id-7 div.sk-estimator {font-family: monospace;background-color: #f0f8ff;border: 1px dotted black;border-radius: 0.25em;box-sizing: border-box;margin-bottom: 0.5em;}#sk-container-id-7 div.sk-estimator:hover {background-color: #d4ebff;}#sk-container-id-7 div.sk-parallel-item::after {content: \"\";width: 100%;border-bottom: 1px solid gray;flex-grow: 1;}#sk-container-id-7 div.sk-label:hover label.sk-toggleable__label {background-color: #d4ebff;}#sk-container-id-7 div.sk-serial::before {content: \"\";position: absolute;border-left: 1px solid gray;box-sizing: border-box;top: 0;bottom: 0;left: 50%;z-index: 0;}#sk-container-id-7 div.sk-serial {display: flex;flex-direction: column;align-items: center;background-color: white;padding-right: 0.2em;padding-left: 0.2em;position: relative;}#sk-container-id-7 div.sk-item {position: relative;z-index: 1;}#sk-container-id-7 div.sk-parallel {display: flex;align-items: stretch;justify-content: center;background-color: white;position: relative;}#sk-container-id-7 div.sk-item::before, #sk-container-id-7 div.sk-parallel-item::before {content: \"\";position: absolute;border-left: 1px solid gray;box-sizing: border-box;top: 0;bottom: 0;left: 50%;z-index: -1;}#sk-container-id-7 div.sk-parallel-item {display: flex;flex-direction: column;z-index: 1;position: relative;background-color: white;}#sk-container-id-7 div.sk-parallel-item:first-child::after {align-self: flex-end;width: 50%;}#sk-container-id-7 div.sk-parallel-item:last-child::after {align-self: flex-start;width: 50%;}#sk-container-id-7 div.sk-parallel-item:only-child::after {width: 0;}#sk-container-id-7 div.sk-dashed-wrapped {border: 1px dashed gray;margin: 0 0.4em 0.5em 0.4em;box-sizing: border-box;padding-bottom: 0.4em;background-color: white;}#sk-container-id-7 div.sk-label label {font-family: monospace;font-weight: bold;display: inline-block;line-height: 1.2em;}#sk-container-id-7 div.sk-label-container {text-align: center;}#sk-container-id-7 div.sk-container {/* jupyter's `normalize.less` sets `[hidden] { display: none; }` but bootstrap.min.css set `[hidden] { display: none !important; }` so we also need the `!important` here to be able to override the default hidden behavior on the sphinx rendered scikit-learn.org. See: https://github.com/scikit-learn/scikit-learn/issues/21755 */display: inline-block !important;position: relative;}#sk-container-id-7 div.sk-text-repr-fallback {display: none;}</style><div id=\"sk-container-id-7\" class=\"sk-top-container\"><div class=\"sk-text-repr-fallback\"><pre>GridSearchCV(cv=5, estimator=RandomForestRegressor(),\n",
       "             param_grid={&#x27;criterion&#x27;: [&#x27;squared_error&#x27;, &#x27;absolute_error&#x27;],\n",
       "                         &#x27;max_depth&#x27;: range(1, 2),\n",
       "                         &#x27;n_estimators&#x27;: range(100, 150, 25)},\n",
       "             scoring=&#x27;neg_mean_squared_error&#x27;, verbose=3)</pre><b>In a Jupyter environment, please rerun this cell to show the HTML representation or trust the notebook. <br />On GitHub, the HTML representation is unable to render, please try loading this page with nbviewer.org.</b></div><div class=\"sk-container\" hidden><div class=\"sk-item sk-dashed-wrapped\"><div class=\"sk-label-container\"><div class=\"sk-label sk-toggleable\"><input class=\"sk-toggleable__control sk-hidden--visually\" id=\"sk-estimator-id-9\" type=\"checkbox\" ><label for=\"sk-estimator-id-9\" class=\"sk-toggleable__label sk-toggleable__label-arrow\">GridSearchCV</label><div class=\"sk-toggleable__content\"><pre>GridSearchCV(cv=5, estimator=RandomForestRegressor(),\n",
       "             param_grid={&#x27;criterion&#x27;: [&#x27;squared_error&#x27;, &#x27;absolute_error&#x27;],\n",
       "                         &#x27;max_depth&#x27;: range(1, 2),\n",
       "                         &#x27;n_estimators&#x27;: range(100, 150, 25)},\n",
       "             scoring=&#x27;neg_mean_squared_error&#x27;, verbose=3)</pre></div></div></div><div class=\"sk-parallel\"><div class=\"sk-parallel-item\"><div class=\"sk-item\"><div class=\"sk-label-container\"><div class=\"sk-label sk-toggleable\"><input class=\"sk-toggleable__control sk-hidden--visually\" id=\"sk-estimator-id-10\" type=\"checkbox\" ><label for=\"sk-estimator-id-10\" class=\"sk-toggleable__label sk-toggleable__label-arrow\">estimator: RandomForestRegressor</label><div class=\"sk-toggleable__content\"><pre>RandomForestRegressor()</pre></div></div></div><div class=\"sk-serial\"><div class=\"sk-item\"><div class=\"sk-estimator sk-toggleable\"><input class=\"sk-toggleable__control sk-hidden--visually\" id=\"sk-estimator-id-11\" type=\"checkbox\" ><label for=\"sk-estimator-id-11\" class=\"sk-toggleable__label sk-toggleable__label-arrow\">RandomForestRegressor</label><div class=\"sk-toggleable__content\"><pre>RandomForestRegressor()</pre></div></div></div></div></div></div></div></div></div></div>"
      ],
      "text/plain": [
       "GridSearchCV(cv=5, estimator=RandomForestRegressor(),\n",
       "             param_grid={'criterion': ['squared_error', 'absolute_error'],\n",
       "                         'max_depth': range(1, 2),\n",
       "                         'n_estimators': range(100, 150, 25)},\n",
       "             scoring='neg_mean_squared_error', verbose=3)"
      ]
     },
     "execution_count": 55,
     "metadata": {},
     "output_type": "execute_result"
    }
   ],
   "source": [
    "gridsearch_forest.fit(X_train,y_train)"
   ]
  },
  {
   "cell_type": "code",
   "execution_count": 64,
   "id": "cb5c5993",
   "metadata": {},
   "outputs": [
    {
     "name": "stdout",
     "output_type": "stream",
     "text": [
      "{'criterion': 'squared_error', 'max_depth': 1, 'n_estimators': 125}\n"
     ]
    }
   ],
   "source": [
    "best_forest=gridsearch_forest.best_params_\n",
    "print(best_forest)"
   ]
  },
  {
   "cell_type": "code",
   "execution_count": 65,
   "id": "4ad9d18e",
   "metadata": {},
   "outputs": [],
   "source": [
    "forest_gridmodel=RandomForestRegressor(**best_forest)"
   ]
  },
  {
   "cell_type": "code",
   "execution_count": 66,
   "id": "cee2ae02",
   "metadata": {},
   "outputs": [],
   "source": [
    "forest_gridmodel.fit(X_train,y_train)\n",
    "y_pred22=forest_gridmodel.predict(X_test)"
   ]
  },
  {
   "cell_type": "code",
   "execution_count": 67,
   "id": "d2c39bf6",
   "metadata": {},
   "outputs": [
    {
     "name": "stdout",
     "output_type": "stream",
     "text": [
      "7739.636191104318\n",
      "67.17247658115976\n",
      "0.7544439559676306\n",
      "87.9752021373314\n"
     ]
    }
   ],
   "source": [
    "mse_forest_gridmodel = mse(y_test, y_pred22)\n",
    "mae_forest_gridmodel= mae(y_test, y_pred22)\n",
    "mape_forest_gridmodel=mape(y_test, y_pred22)\n",
    "rmse_forest_gridmodel =np.sqrt(mse(y_test,y_pred22))\n",
    "print(mse_forest_gridmodel)\n",
    "print(mae_forest_gridmodel)\n",
    "print(mape_forest_gridmodel)\n",
    "print(rmse_forest_gridmodel)"
   ]
  },
  {
   "cell_type": "markdown",
   "id": "39aa3167",
   "metadata": {},
   "source": [
    "## 3-SVM"
   ]
  },
  {
   "cell_type": "code",
   "execution_count": 68,
   "id": "ebfd029c",
   "metadata": {
    "scrolled": true
   },
   "outputs": [
    {
     "ename": "SyntaxError",
     "evalue": "unterminated string literal (detected at line 7) (3832109157.py, line 7)",
     "output_type": "error",
     "traceback": [
      "\u001b[1;36m  Cell \u001b[1;32mIn[68], line 7\u001b[1;36m\u001b[0m\n\u001b[1;33m    ''''\u001b[0m\n\u001b[1;37m       ^\u001b[0m\n\u001b[1;31mSyntaxError\u001b[0m\u001b[1;31m:\u001b[0m unterminated string literal (detected at line 7)\n"
     ]
    }
   ],
   "source": [
    "''''\n",
    "svm_params={\n",
    "    \"kernel\" : [\"linear\",\"poly\",\"sigmoid\",\"rbf\",],\n",
    "    \"gamma\" : [\"auto\",\"scale\"],\n",
    "    \"shrinking\" : [True,False],\n",
    "}\n",
    "''''"
   ]
  },
  {
   "cell_type": "code",
   "execution_count": 69,
   "id": "2a3bdf38",
   "metadata": {},
   "outputs": [],
   "source": [
    "\n",
    "svm_params={\n",
    "    \"kernel\" : [\"poly\",\"sigmoid\"],\n",
    "    \"shrinking\" : [True,False],\n",
    "}\n"
   ]
  },
  {
   "cell_type": "code",
   "execution_count": 70,
   "id": "915870b9",
   "metadata": {},
   "outputs": [],
   "source": [
    "svm_gridmodel =gs(estimator=sv_reg,param_grid=svm_params,cv=5,scoring=\"neg_mean_squared_error\",verbose=3)"
   ]
  },
  {
   "cell_type": "code",
   "execution_count": 71,
   "id": "7d6965fb",
   "metadata": {},
   "outputs": [
    {
     "name": "stdout",
     "output_type": "stream",
     "text": [
      "Fitting 5 folds for each of 4 candidates, totalling 20 fits\n",
      "[CV 1/5] END ....kernel=poly, shrinking=True;, score=-139.793 total time=   5.5s\n",
      "[CV 2/5] END ....kernel=poly, shrinking=True;, score=-137.866 total time=   5.6s\n",
      "[CV 3/5] END ....kernel=poly, shrinking=True;, score=-326.403 total time=   5.6s\n",
      "[CV 4/5] END ...kernel=poly, shrinking=True;, score=-1494.478 total time=   5.7s\n",
      "[CV 5/5] END ...kernel=poly, shrinking=True;, score=-5330.451 total time=   5.6s\n",
      "[CV 1/5] END ...kernel=poly, shrinking=False;, score=-139.791 total time=   5.9s\n",
      "[CV 2/5] END ...kernel=poly, shrinking=False;, score=-137.866 total time=   6.4s\n",
      "[CV 3/5] END ...kernel=poly, shrinking=False;, score=-326.403 total time=   5.8s\n",
      "[CV 4/5] END ..kernel=poly, shrinking=False;, score=-1494.478 total time=   6.1s\n",
      "[CV 5/5] END ..kernel=poly, shrinking=False;, score=-5330.451 total time=   6.5s\n",
      "[CV 1/5] END kernel=sigmoid, shrinking=True;, score=-188041.282 total time=   6.4s\n",
      "[CV 2/5] END kernel=sigmoid, shrinking=True;, score=-79147.546 total time=   6.4s\n",
      "[CV 3/5] END kernel=sigmoid, shrinking=True;, score=-68910.742 total time=   6.2s\n",
      "[CV 4/5] END kernel=sigmoid, shrinking=True;, score=-98410.369 total time=   6.5s\n",
      "[CV 5/5] END kernel=sigmoid, shrinking=True;, score=-323618.952 total time=   6.8s\n",
      "[CV 1/5] END kernel=sigmoid, shrinking=False;, score=-188041.282 total time=   6.7s\n",
      "[CV 2/5] END kernel=sigmoid, shrinking=False;, score=-79147.546 total time=   6.7s\n",
      "[CV 3/5] END kernel=sigmoid, shrinking=False;, score=-68910.742 total time=   6.6s\n",
      "[CV 4/5] END kernel=sigmoid, shrinking=False;, score=-98410.369 total time=   7.0s\n",
      "[CV 5/5] END kernel=sigmoid, shrinking=False;, score=-323618.952 total time=   7.4s\n"
     ]
    },
    {
     "data": {
      "text/html": [
       "<style>#sk-container-id-8 {color: black;}#sk-container-id-8 pre{padding: 0;}#sk-container-id-8 div.sk-toggleable {background-color: white;}#sk-container-id-8 label.sk-toggleable__label {cursor: pointer;display: block;width: 100%;margin-bottom: 0;padding: 0.3em;box-sizing: border-box;text-align: center;}#sk-container-id-8 label.sk-toggleable__label-arrow:before {content: \"▸\";float: left;margin-right: 0.25em;color: #696969;}#sk-container-id-8 label.sk-toggleable__label-arrow:hover:before {color: black;}#sk-container-id-8 div.sk-estimator:hover label.sk-toggleable__label-arrow:before {color: black;}#sk-container-id-8 div.sk-toggleable__content {max-height: 0;max-width: 0;overflow: hidden;text-align: left;background-color: #f0f8ff;}#sk-container-id-8 div.sk-toggleable__content pre {margin: 0.2em;color: black;border-radius: 0.25em;background-color: #f0f8ff;}#sk-container-id-8 input.sk-toggleable__control:checked~div.sk-toggleable__content {max-height: 200px;max-width: 100%;overflow: auto;}#sk-container-id-8 input.sk-toggleable__control:checked~label.sk-toggleable__label-arrow:before {content: \"▾\";}#sk-container-id-8 div.sk-estimator input.sk-toggleable__control:checked~label.sk-toggleable__label {background-color: #d4ebff;}#sk-container-id-8 div.sk-label input.sk-toggleable__control:checked~label.sk-toggleable__label {background-color: #d4ebff;}#sk-container-id-8 input.sk-hidden--visually {border: 0;clip: rect(1px 1px 1px 1px);clip: rect(1px, 1px, 1px, 1px);height: 1px;margin: -1px;overflow: hidden;padding: 0;position: absolute;width: 1px;}#sk-container-id-8 div.sk-estimator {font-family: monospace;background-color: #f0f8ff;border: 1px dotted black;border-radius: 0.25em;box-sizing: border-box;margin-bottom: 0.5em;}#sk-container-id-8 div.sk-estimator:hover {background-color: #d4ebff;}#sk-container-id-8 div.sk-parallel-item::after {content: \"\";width: 100%;border-bottom: 1px solid gray;flex-grow: 1;}#sk-container-id-8 div.sk-label:hover label.sk-toggleable__label {background-color: #d4ebff;}#sk-container-id-8 div.sk-serial::before {content: \"\";position: absolute;border-left: 1px solid gray;box-sizing: border-box;top: 0;bottom: 0;left: 50%;z-index: 0;}#sk-container-id-8 div.sk-serial {display: flex;flex-direction: column;align-items: center;background-color: white;padding-right: 0.2em;padding-left: 0.2em;position: relative;}#sk-container-id-8 div.sk-item {position: relative;z-index: 1;}#sk-container-id-8 div.sk-parallel {display: flex;align-items: stretch;justify-content: center;background-color: white;position: relative;}#sk-container-id-8 div.sk-item::before, #sk-container-id-8 div.sk-parallel-item::before {content: \"\";position: absolute;border-left: 1px solid gray;box-sizing: border-box;top: 0;bottom: 0;left: 50%;z-index: -1;}#sk-container-id-8 div.sk-parallel-item {display: flex;flex-direction: column;z-index: 1;position: relative;background-color: white;}#sk-container-id-8 div.sk-parallel-item:first-child::after {align-self: flex-end;width: 50%;}#sk-container-id-8 div.sk-parallel-item:last-child::after {align-self: flex-start;width: 50%;}#sk-container-id-8 div.sk-parallel-item:only-child::after {width: 0;}#sk-container-id-8 div.sk-dashed-wrapped {border: 1px dashed gray;margin: 0 0.4em 0.5em 0.4em;box-sizing: border-box;padding-bottom: 0.4em;background-color: white;}#sk-container-id-8 div.sk-label label {font-family: monospace;font-weight: bold;display: inline-block;line-height: 1.2em;}#sk-container-id-8 div.sk-label-container {text-align: center;}#sk-container-id-8 div.sk-container {/* jupyter's `normalize.less` sets `[hidden] { display: none; }` but bootstrap.min.css set `[hidden] { display: none !important; }` so we also need the `!important` here to be able to override the default hidden behavior on the sphinx rendered scikit-learn.org. See: https://github.com/scikit-learn/scikit-learn/issues/21755 */display: inline-block !important;position: relative;}#sk-container-id-8 div.sk-text-repr-fallback {display: none;}</style><div id=\"sk-container-id-8\" class=\"sk-top-container\"><div class=\"sk-text-repr-fallback\"><pre>GridSearchCV(cv=5, estimator=SVR(),\n",
       "             param_grid={&#x27;kernel&#x27;: [&#x27;poly&#x27;, &#x27;sigmoid&#x27;],\n",
       "                         &#x27;shrinking&#x27;: [True, False]},\n",
       "             scoring=&#x27;neg_mean_squared_error&#x27;, verbose=3)</pre><b>In a Jupyter environment, please rerun this cell to show the HTML representation or trust the notebook. <br />On GitHub, the HTML representation is unable to render, please try loading this page with nbviewer.org.</b></div><div class=\"sk-container\" hidden><div class=\"sk-item sk-dashed-wrapped\"><div class=\"sk-label-container\"><div class=\"sk-label sk-toggleable\"><input class=\"sk-toggleable__control sk-hidden--visually\" id=\"sk-estimator-id-12\" type=\"checkbox\" ><label for=\"sk-estimator-id-12\" class=\"sk-toggleable__label sk-toggleable__label-arrow\">GridSearchCV</label><div class=\"sk-toggleable__content\"><pre>GridSearchCV(cv=5, estimator=SVR(),\n",
       "             param_grid={&#x27;kernel&#x27;: [&#x27;poly&#x27;, &#x27;sigmoid&#x27;],\n",
       "                         &#x27;shrinking&#x27;: [True, False]},\n",
       "             scoring=&#x27;neg_mean_squared_error&#x27;, verbose=3)</pre></div></div></div><div class=\"sk-parallel\"><div class=\"sk-parallel-item\"><div class=\"sk-item\"><div class=\"sk-label-container\"><div class=\"sk-label sk-toggleable\"><input class=\"sk-toggleable__control sk-hidden--visually\" id=\"sk-estimator-id-13\" type=\"checkbox\" ><label for=\"sk-estimator-id-13\" class=\"sk-toggleable__label sk-toggleable__label-arrow\">estimator: SVR</label><div class=\"sk-toggleable__content\"><pre>SVR()</pre></div></div></div><div class=\"sk-serial\"><div class=\"sk-item\"><div class=\"sk-estimator sk-toggleable\"><input class=\"sk-toggleable__control sk-hidden--visually\" id=\"sk-estimator-id-14\" type=\"checkbox\" ><label for=\"sk-estimator-id-14\" class=\"sk-toggleable__label sk-toggleable__label-arrow\">SVR</label><div class=\"sk-toggleable__content\"><pre>SVR()</pre></div></div></div></div></div></div></div></div></div></div>"
      ],
      "text/plain": [
       "GridSearchCV(cv=5, estimator=SVR(),\n",
       "             param_grid={'kernel': ['poly', 'sigmoid'],\n",
       "                         'shrinking': [True, False]},\n",
       "             scoring='neg_mean_squared_error', verbose=3)"
      ]
     },
     "execution_count": 71,
     "metadata": {},
     "output_type": "execute_result"
    }
   ],
   "source": [
    "svm_gridmodel.fit(X_train,y_train)"
   ]
  },
  {
   "cell_type": "code",
   "execution_count": 72,
   "id": "d8169070",
   "metadata": {},
   "outputs": [],
   "source": [
    "best = svm_gridmodel.best_params_"
   ]
  },
  {
   "cell_type": "code",
   "execution_count": 73,
   "id": "caf5d4bb",
   "metadata": {},
   "outputs": [],
   "source": [
    "svm_gridmodel=SVR(**best)"
   ]
  },
  {
   "cell_type": "markdown",
   "id": "427260a9",
   "metadata": {},
   "source": [
    "### Best bulduktan sonra tekrar fit etmek gerekir"
   ]
  },
  {
   "cell_type": "code",
   "execution_count": 74,
   "id": "eec7abce",
   "metadata": {},
   "outputs": [
    {
     "data": {
      "text/html": [
       "<style>#sk-container-id-9 {color: black;}#sk-container-id-9 pre{padding: 0;}#sk-container-id-9 div.sk-toggleable {background-color: white;}#sk-container-id-9 label.sk-toggleable__label {cursor: pointer;display: block;width: 100%;margin-bottom: 0;padding: 0.3em;box-sizing: border-box;text-align: center;}#sk-container-id-9 label.sk-toggleable__label-arrow:before {content: \"▸\";float: left;margin-right: 0.25em;color: #696969;}#sk-container-id-9 label.sk-toggleable__label-arrow:hover:before {color: black;}#sk-container-id-9 div.sk-estimator:hover label.sk-toggleable__label-arrow:before {color: black;}#sk-container-id-9 div.sk-toggleable__content {max-height: 0;max-width: 0;overflow: hidden;text-align: left;background-color: #f0f8ff;}#sk-container-id-9 div.sk-toggleable__content pre {margin: 0.2em;color: black;border-radius: 0.25em;background-color: #f0f8ff;}#sk-container-id-9 input.sk-toggleable__control:checked~div.sk-toggleable__content {max-height: 200px;max-width: 100%;overflow: auto;}#sk-container-id-9 input.sk-toggleable__control:checked~label.sk-toggleable__label-arrow:before {content: \"▾\";}#sk-container-id-9 div.sk-estimator input.sk-toggleable__control:checked~label.sk-toggleable__label {background-color: #d4ebff;}#sk-container-id-9 div.sk-label input.sk-toggleable__control:checked~label.sk-toggleable__label {background-color: #d4ebff;}#sk-container-id-9 input.sk-hidden--visually {border: 0;clip: rect(1px 1px 1px 1px);clip: rect(1px, 1px, 1px, 1px);height: 1px;margin: -1px;overflow: hidden;padding: 0;position: absolute;width: 1px;}#sk-container-id-9 div.sk-estimator {font-family: monospace;background-color: #f0f8ff;border: 1px dotted black;border-radius: 0.25em;box-sizing: border-box;margin-bottom: 0.5em;}#sk-container-id-9 div.sk-estimator:hover {background-color: #d4ebff;}#sk-container-id-9 div.sk-parallel-item::after {content: \"\";width: 100%;border-bottom: 1px solid gray;flex-grow: 1;}#sk-container-id-9 div.sk-label:hover label.sk-toggleable__label {background-color: #d4ebff;}#sk-container-id-9 div.sk-serial::before {content: \"\";position: absolute;border-left: 1px solid gray;box-sizing: border-box;top: 0;bottom: 0;left: 50%;z-index: 0;}#sk-container-id-9 div.sk-serial {display: flex;flex-direction: column;align-items: center;background-color: white;padding-right: 0.2em;padding-left: 0.2em;position: relative;}#sk-container-id-9 div.sk-item {position: relative;z-index: 1;}#sk-container-id-9 div.sk-parallel {display: flex;align-items: stretch;justify-content: center;background-color: white;position: relative;}#sk-container-id-9 div.sk-item::before, #sk-container-id-9 div.sk-parallel-item::before {content: \"\";position: absolute;border-left: 1px solid gray;box-sizing: border-box;top: 0;bottom: 0;left: 50%;z-index: -1;}#sk-container-id-9 div.sk-parallel-item {display: flex;flex-direction: column;z-index: 1;position: relative;background-color: white;}#sk-container-id-9 div.sk-parallel-item:first-child::after {align-self: flex-end;width: 50%;}#sk-container-id-9 div.sk-parallel-item:last-child::after {align-self: flex-start;width: 50%;}#sk-container-id-9 div.sk-parallel-item:only-child::after {width: 0;}#sk-container-id-9 div.sk-dashed-wrapped {border: 1px dashed gray;margin: 0 0.4em 0.5em 0.4em;box-sizing: border-box;padding-bottom: 0.4em;background-color: white;}#sk-container-id-9 div.sk-label label {font-family: monospace;font-weight: bold;display: inline-block;line-height: 1.2em;}#sk-container-id-9 div.sk-label-container {text-align: center;}#sk-container-id-9 div.sk-container {/* jupyter's `normalize.less` sets `[hidden] { display: none; }` but bootstrap.min.css set `[hidden] { display: none !important; }` so we also need the `!important` here to be able to override the default hidden behavior on the sphinx rendered scikit-learn.org. See: https://github.com/scikit-learn/scikit-learn/issues/21755 */display: inline-block !important;position: relative;}#sk-container-id-9 div.sk-text-repr-fallback {display: none;}</style><div id=\"sk-container-id-9\" class=\"sk-top-container\"><div class=\"sk-text-repr-fallback\"><pre>SVR(kernel=&#x27;poly&#x27;, shrinking=False)</pre><b>In a Jupyter environment, please rerun this cell to show the HTML representation or trust the notebook. <br />On GitHub, the HTML representation is unable to render, please try loading this page with nbviewer.org.</b></div><div class=\"sk-container\" hidden><div class=\"sk-item\"><div class=\"sk-estimator sk-toggleable\"><input class=\"sk-toggleable__control sk-hidden--visually\" id=\"sk-estimator-id-15\" type=\"checkbox\" checked><label for=\"sk-estimator-id-15\" class=\"sk-toggleable__label sk-toggleable__label-arrow\">SVR</label><div class=\"sk-toggleable__content\"><pre>SVR(kernel=&#x27;poly&#x27;, shrinking=False)</pre></div></div></div></div></div>"
      ],
      "text/plain": [
       "SVR(kernel='poly', shrinking=False)"
      ]
     },
     "execution_count": 74,
     "metadata": {},
     "output_type": "execute_result"
    }
   ],
   "source": [
    "svm_gridmodel.fit(X_train,y_train)"
   ]
  },
  {
   "cell_type": "code",
   "execution_count": 75,
   "id": "d4de7ec5",
   "metadata": {},
   "outputs": [],
   "source": [
    "y_pred23 = svm_gridmodel.predict(X_test)"
   ]
  },
  {
   "cell_type": "code",
   "execution_count": 76,
   "id": "4d64f005",
   "metadata": {},
   "outputs": [
    {
     "name": "stdout",
     "output_type": "stream",
     "text": [
      "6411.864826690116\n",
      "67.1095530827248\n",
      "1.0382235983152346\n",
      "80.07412082995427\n"
     ]
    }
   ],
   "source": [
    "mse_svm_gridmodel = mse(y_test, y_pred23)\n",
    "mae_svm_gridmodel= mae(y_test, y_pred23)\n",
    "mape_svm_gridmodel=mape(y_test, y_pred23)\n",
    "rmse_svm_gridmodel =np.sqrt(mse(y_test,y_pred23))\n",
    "print(mse_svm_gridmodel)\n",
    "print(mae_svm_gridmodel)\n",
    "print(mape_svm_gridmodel)\n",
    "print(rmse_svm_gridmodel)"
   ]
  },
  {
   "cell_type": "markdown",
   "id": "fb47a291",
   "metadata": {},
   "source": [
    "## 4-xGBoost"
   ]
  },
  {
   "cell_type": "code",
   "execution_count": 77,
   "id": "47d578b5",
   "metadata": {},
   "outputs": [],
   "source": [
    "xgb_params={\n",
    "    'n_estimators': [50, 100, 200],\n",
    "    'max_depth': [3, 6, 9],\n",
    "    'learning_rate': [0.01, 0.1, 0.2],\n",
    "    'subsample': [0.8, 1.0],\n",
    "    'colsample_bytree': [0.8, 1.0]\n",
    "    \n",
    "}"
   ]
  },
  {
   "cell_type": "code",
   "execution_count": 78,
   "id": "7e5882c1",
   "metadata": {},
   "outputs": [],
   "source": [
    "xgb_gridmodel=gs(estimator=xg_regg,param_grid=xgb_params,cv=5,scoring=\"neg_mean_squared_error\",verbose=3)"
   ]
  },
  {
   "cell_type": "code",
   "execution_count": 79,
   "id": "a02ac4aa",
   "metadata": {},
   "outputs": [
    {
     "name": "stdout",
     "output_type": "stream",
     "text": [
      "Fitting 5 folds for each of 108 candidates, totalling 540 fits\n",
      "[CV 1/5] END colsample_bytree=0.8, learning_rate=0.01, max_depth=3, n_estimators=50, subsample=0.8;, score=-1263.769 total time=   0.0s\n",
      "[CV 2/5] END colsample_bytree=0.8, learning_rate=0.01, max_depth=3, n_estimators=50, subsample=0.8;, score=-960.898 total time=   0.0s\n",
      "[CV 3/5] END colsample_bytree=0.8, learning_rate=0.01, max_depth=3, n_estimators=50, subsample=0.8;, score=-438.906 total time=   0.0s\n",
      "[CV 4/5] END colsample_bytree=0.8, learning_rate=0.01, max_depth=3, n_estimators=50, subsample=0.8;, score=-1245.332 total time=   0.0s\n",
      "[CV 5/5] END colsample_bytree=0.8, learning_rate=0.01, max_depth=3, n_estimators=50, subsample=0.8;, score=-10376.353 total time=   0.0s\n",
      "[CV 1/5] END colsample_bytree=0.8, learning_rate=0.01, max_depth=3, n_estimators=50, subsample=1.0;, score=-1267.038 total time=   0.0s\n",
      "[CV 2/5] END colsample_bytree=0.8, learning_rate=0.01, max_depth=3, n_estimators=50, subsample=1.0;, score=-963.993 total time=   0.0s\n",
      "[CV 3/5] END colsample_bytree=0.8, learning_rate=0.01, max_depth=3, n_estimators=50, subsample=1.0;, score=-438.555 total time=   0.0s\n",
      "[CV 4/5] END colsample_bytree=0.8, learning_rate=0.01, max_depth=3, n_estimators=50, subsample=1.0;, score=-1247.460 total time=   0.0s\n",
      "[CV 5/5] END colsample_bytree=0.8, learning_rate=0.01, max_depth=3, n_estimators=50, subsample=1.0;, score=-10370.623 total time=   0.0s\n",
      "[CV 1/5] END colsample_bytree=0.8, learning_rate=0.01, max_depth=3, n_estimators=100, subsample=0.8;, score=-662.233 total time=   0.1s\n",
      "[CV 2/5] END colsample_bytree=0.8, learning_rate=0.01, max_depth=3, n_estimators=100, subsample=0.8;, score=-524.906 total time=   0.1s\n",
      "[CV 3/5] END colsample_bytree=0.8, learning_rate=0.01, max_depth=3, n_estimators=100, subsample=0.8;, score=-334.433 total time=   0.1s\n",
      "[CV 4/5] END colsample_bytree=0.8, learning_rate=0.01, max_depth=3, n_estimators=100, subsample=0.8;, score=-1738.599 total time=   0.1s\n",
      "[CV 5/5] END colsample_bytree=0.8, learning_rate=0.01, max_depth=3, n_estimators=100, subsample=0.8;, score=-7907.124 total time=   0.1s\n",
      "[CV 1/5] END colsample_bytree=0.8, learning_rate=0.01, max_depth=3, n_estimators=100, subsample=1.0;, score=-666.240 total time=   0.0s\n",
      "[CV 2/5] END colsample_bytree=0.8, learning_rate=0.01, max_depth=3, n_estimators=100, subsample=1.0;, score=-536.533 total time=   0.0s\n",
      "[CV 3/5] END colsample_bytree=0.8, learning_rate=0.01, max_depth=3, n_estimators=100, subsample=1.0;, score=-334.785 total time=   0.1s\n",
      "[CV 4/5] END colsample_bytree=0.8, learning_rate=0.01, max_depth=3, n_estimators=100, subsample=1.0;, score=-1651.117 total time=   0.0s\n",
      "[CV 5/5] END colsample_bytree=0.8, learning_rate=0.01, max_depth=3, n_estimators=100, subsample=1.0;, score=-7860.299 total time=   0.0s\n",
      "[CV 1/5] END colsample_bytree=0.8, learning_rate=0.01, max_depth=3, n_estimators=200, subsample=0.8;, score=-266.944 total time=   0.2s\n",
      "[CV 2/5] END colsample_bytree=0.8, learning_rate=0.01, max_depth=3, n_estimators=200, subsample=0.8;, score=-246.229 total time=   0.2s\n",
      "[CV 3/5] END colsample_bytree=0.8, learning_rate=0.01, max_depth=3, n_estimators=200, subsample=0.8;, score=-338.474 total time=   0.2s\n",
      "[CV 4/5] END colsample_bytree=0.8, learning_rate=0.01, max_depth=3, n_estimators=200, subsample=0.8;, score=-2127.701 total time=   0.2s\n",
      "[CV 5/5] END colsample_bytree=0.8, learning_rate=0.01, max_depth=3, n_estimators=200, subsample=0.8;, score=-5623.199 total time=   0.2s\n",
      "[CV 1/5] END colsample_bytree=0.8, learning_rate=0.01, max_depth=3, n_estimators=200, subsample=1.0;, score=-270.923 total time=   0.1s\n",
      "[CV 2/5] END colsample_bytree=0.8, learning_rate=0.01, max_depth=3, n_estimators=200, subsample=1.0;, score=-251.452 total time=   0.1s\n",
      "[CV 3/5] END colsample_bytree=0.8, learning_rate=0.01, max_depth=3, n_estimators=200, subsample=1.0;, score=-334.122 total time=   0.1s\n",
      "[CV 4/5] END colsample_bytree=0.8, learning_rate=0.01, max_depth=3, n_estimators=200, subsample=1.0;, score=-1819.670 total time=   0.1s\n",
      "[CV 5/5] END colsample_bytree=0.8, learning_rate=0.01, max_depth=3, n_estimators=200, subsample=1.0;, score=-5702.629 total time=   0.2s\n",
      "[CV 1/5] END colsample_bytree=0.8, learning_rate=0.01, max_depth=6, n_estimators=50, subsample=0.8;, score=-1122.611 total time=   0.0s\n",
      "[CV 2/5] END colsample_bytree=0.8, learning_rate=0.01, max_depth=6, n_estimators=50, subsample=0.8;, score=-927.112 total time=   0.0s\n",
      "[CV 3/5] END colsample_bytree=0.8, learning_rate=0.01, max_depth=6, n_estimators=50, subsample=0.8;, score=-441.776 total time=   0.0s\n",
      "[CV 4/5] END colsample_bytree=0.8, learning_rate=0.01, max_depth=6, n_estimators=50, subsample=0.8;, score=-1270.925 total time=   0.0s\n",
      "[CV 5/5] END colsample_bytree=0.8, learning_rate=0.01, max_depth=6, n_estimators=50, subsample=0.8;, score=-9324.271 total time=   0.0s\n",
      "[CV 1/5] END colsample_bytree=0.8, learning_rate=0.01, max_depth=6, n_estimators=50, subsample=1.0;, score=-1136.230 total time=   0.0s\n",
      "[CV 2/5] END colsample_bytree=0.8, learning_rate=0.01, max_depth=6, n_estimators=50, subsample=1.0;, score=-932.407 total time=   0.0s\n",
      "[CV 3/5] END colsample_bytree=0.8, learning_rate=0.01, max_depth=6, n_estimators=50, subsample=1.0;, score=-439.859 total time=   0.0s\n",
      "[CV 4/5] END colsample_bytree=0.8, learning_rate=0.01, max_depth=6, n_estimators=50, subsample=1.0;, score=-1254.144 total time=   0.0s\n",
      "[CV 5/5] END colsample_bytree=0.8, learning_rate=0.01, max_depth=6, n_estimators=50, subsample=1.0;, score=-9547.776 total time=   0.0s\n",
      "[CV 1/5] END colsample_bytree=0.8, learning_rate=0.01, max_depth=6, n_estimators=100, subsample=0.8;, score=-540.290 total time=   0.1s\n",
      "[CV 2/5] END colsample_bytree=0.8, learning_rate=0.01, max_depth=6, n_estimators=100, subsample=0.8;, score=-515.758 total time=   0.1s\n",
      "[CV 3/5] END colsample_bytree=0.8, learning_rate=0.01, max_depth=6, n_estimators=100, subsample=0.8;, score=-316.157 total time=   0.1s\n",
      "[CV 4/5] END colsample_bytree=0.8, learning_rate=0.01, max_depth=6, n_estimators=100, subsample=0.8;, score=-1935.593 total time=   0.2s\n",
      "[CV 5/5] END colsample_bytree=0.8, learning_rate=0.01, max_depth=6, n_estimators=100, subsample=0.8;, score=-6800.958 total time=   0.2s\n",
      "[CV 1/5] END colsample_bytree=0.8, learning_rate=0.01, max_depth=6, n_estimators=100, subsample=1.0;, score=-532.608 total time=   0.1s\n",
      "[CV 2/5] END colsample_bytree=0.8, learning_rate=0.01, max_depth=6, n_estimators=100, subsample=1.0;, score=-522.388 total time=   0.1s\n",
      "[CV 3/5] END colsample_bytree=0.8, learning_rate=0.01, max_depth=6, n_estimators=100, subsample=1.0;, score=-313.614 total time=   0.1s\n",
      "[CV 4/5] END colsample_bytree=0.8, learning_rate=0.01, max_depth=6, n_estimators=100, subsample=1.0;, score=-1734.859 total time=   0.1s\n",
      "[CV 5/5] END colsample_bytree=0.8, learning_rate=0.01, max_depth=6, n_estimators=100, subsample=1.0;, score=-6809.411 total time=   0.1s\n",
      "[CV 1/5] END colsample_bytree=0.8, learning_rate=0.01, max_depth=6, n_estimators=200, subsample=0.8;, score=-226.048 total time=   0.4s\n",
      "[CV 2/5] END colsample_bytree=0.8, learning_rate=0.01, max_depth=6, n_estimators=200, subsample=0.8;, score=-272.094 total time=   0.4s\n",
      "[CV 3/5] END colsample_bytree=0.8, learning_rate=0.01, max_depth=6, n_estimators=200, subsample=0.8;, score=-329.104 total time=   0.3s\n",
      "[CV 4/5] END colsample_bytree=0.8, learning_rate=0.01, max_depth=6, n_estimators=200, subsample=0.8;, score=-3457.436 total time=   0.3s\n",
      "[CV 5/5] END colsample_bytree=0.8, learning_rate=0.01, max_depth=6, n_estimators=200, subsample=0.8;, score=-5030.514 total time=   0.4s\n",
      "[CV 1/5] END colsample_bytree=0.8, learning_rate=0.01, max_depth=6, n_estimators=200, subsample=1.0;, score=-211.438 total time=   0.3s\n",
      "[CV 2/5] END colsample_bytree=0.8, learning_rate=0.01, max_depth=6, n_estimators=200, subsample=1.0;, score=-279.999 total time=   0.4s\n",
      "[CV 3/5] END colsample_bytree=0.8, learning_rate=0.01, max_depth=6, n_estimators=200, subsample=1.0;, score=-332.829 total time=   0.3s\n",
      "[CV 4/5] END colsample_bytree=0.8, learning_rate=0.01, max_depth=6, n_estimators=200, subsample=1.0;, score=-2988.887 total time=   0.3s\n",
      "[CV 5/5] END colsample_bytree=0.8, learning_rate=0.01, max_depth=6, n_estimators=200, subsample=1.0;, score=-5072.382 total time=   0.4s\n"
     ]
    },
    {
     "name": "stdout",
     "output_type": "stream",
     "text": [
      "[CV 1/5] END colsample_bytree=0.8, learning_rate=0.01, max_depth=9, n_estimators=50, subsample=0.8;, score=-1138.256 total time=   0.2s\n",
      "[CV 2/5] END colsample_bytree=0.8, learning_rate=0.01, max_depth=9, n_estimators=50, subsample=0.8;, score=-994.598 total time=   0.1s\n",
      "[CV 3/5] END colsample_bytree=0.8, learning_rate=0.01, max_depth=9, n_estimators=50, subsample=0.8;, score=-460.170 total time=   0.2s\n",
      "[CV 4/5] END colsample_bytree=0.8, learning_rate=0.01, max_depth=9, n_estimators=50, subsample=0.8;, score=-1653.327 total time=   0.2s\n",
      "[CV 5/5] END colsample_bytree=0.8, learning_rate=0.01, max_depth=9, n_estimators=50, subsample=0.8;, score=-9045.130 total time=   0.2s\n",
      "[CV 1/5] END colsample_bytree=0.8, learning_rate=0.01, max_depth=9, n_estimators=50, subsample=1.0;, score=-1140.700 total time=   0.2s\n",
      "[CV 2/5] END colsample_bytree=0.8, learning_rate=0.01, max_depth=9, n_estimators=50, subsample=1.0;, score=-1001.664 total time=   0.2s\n",
      "[CV 3/5] END colsample_bytree=0.8, learning_rate=0.01, max_depth=9, n_estimators=50, subsample=1.0;, score=-452.492 total time=   0.2s\n",
      "[CV 4/5] END colsample_bytree=0.8, learning_rate=0.01, max_depth=9, n_estimators=50, subsample=1.0;, score=-1495.712 total time=   0.2s\n",
      "[CV 5/5] END colsample_bytree=0.8, learning_rate=0.01, max_depth=9, n_estimators=50, subsample=1.0;, score=-8815.286 total time=   0.2s\n",
      "[CV 1/5] END colsample_bytree=0.8, learning_rate=0.01, max_depth=9, n_estimators=100, subsample=0.8;, score=-603.534 total time=   0.4s\n",
      "[CV 2/5] END colsample_bytree=0.8, learning_rate=0.01, max_depth=9, n_estimators=100, subsample=0.8;, score=-609.034 total time=   0.4s\n",
      "[CV 3/5] END colsample_bytree=0.8, learning_rate=0.01, max_depth=9, n_estimators=100, subsample=0.8;, score=-331.151 total time=   0.4s\n",
      "[CV 4/5] END colsample_bytree=0.8, learning_rate=0.01, max_depth=9, n_estimators=100, subsample=0.8;, score=-2649.971 total time=   0.4s\n",
      "[CV 5/5] END colsample_bytree=0.8, learning_rate=0.01, max_depth=9, n_estimators=100, subsample=0.8;, score=-6693.880 total time=   0.4s\n",
      "[CV 1/5] END colsample_bytree=0.8, learning_rate=0.01, max_depth=9, n_estimators=100, subsample=1.0;, score=-570.594 total time=   0.4s\n",
      "[CV 2/5] END colsample_bytree=0.8, learning_rate=0.01, max_depth=9, n_estimators=100, subsample=1.0;, score=-626.748 total time=   0.4s\n",
      "[CV 3/5] END colsample_bytree=0.8, learning_rate=0.01, max_depth=9, n_estimators=100, subsample=1.0;, score=-331.600 total time=   0.4s\n",
      "[CV 4/5] END colsample_bytree=0.8, learning_rate=0.01, max_depth=9, n_estimators=100, subsample=1.0;, score=-2331.735 total time=   0.4s\n",
      "[CV 5/5] END colsample_bytree=0.8, learning_rate=0.01, max_depth=9, n_estimators=100, subsample=1.0;, score=-6552.078 total time=   0.4s\n",
      "[CV 1/5] END colsample_bytree=0.8, learning_rate=0.01, max_depth=9, n_estimators=200, subsample=0.8;, score=-283.378 total time=   0.9s\n",
      "[CV 2/5] END colsample_bytree=0.8, learning_rate=0.01, max_depth=9, n_estimators=200, subsample=0.8;, score=-365.275 total time=   0.9s\n",
      "[CV 3/5] END colsample_bytree=0.8, learning_rate=0.01, max_depth=9, n_estimators=200, subsample=0.8;, score=-323.759 total time=   0.9s\n",
      "[CV 4/5] END colsample_bytree=0.8, learning_rate=0.01, max_depth=9, n_estimators=200, subsample=0.8;, score=-5113.739 total time=   0.8s\n",
      "[CV 5/5] END colsample_bytree=0.8, learning_rate=0.01, max_depth=9, n_estimators=200, subsample=0.8;, score=-5203.402 total time=   0.9s\n",
      "[CV 1/5] END colsample_bytree=0.8, learning_rate=0.01, max_depth=9, n_estimators=200, subsample=1.0;, score=-270.661 total time=   0.9s\n",
      "[CV 2/5] END colsample_bytree=0.8, learning_rate=0.01, max_depth=9, n_estimators=200, subsample=1.0;, score=-398.585 total time=   0.9s\n",
      "[CV 3/5] END colsample_bytree=0.8, learning_rate=0.01, max_depth=9, n_estimators=200, subsample=1.0;, score=-327.746 total time=   0.8s\n",
      "[CV 4/5] END colsample_bytree=0.8, learning_rate=0.01, max_depth=9, n_estimators=200, subsample=1.0;, score=-4351.065 total time=   0.8s\n",
      "[CV 5/5] END colsample_bytree=0.8, learning_rate=0.01, max_depth=9, n_estimators=200, subsample=1.0;, score=-5183.611 total time=   0.9s\n",
      "[CV 1/5] END colsample_bytree=0.8, learning_rate=0.1, max_depth=3, n_estimators=50, subsample=0.8;, score=-162.392 total time=   0.0s\n",
      "[CV 2/5] END colsample_bytree=0.8, learning_rate=0.1, max_depth=3, n_estimators=50, subsample=0.8;, score=-154.180 total time=   0.0s\n",
      "[CV 3/5] END colsample_bytree=0.8, learning_rate=0.1, max_depth=3, n_estimators=50, subsample=0.8;, score=-351.737 total time=   0.0s\n",
      "[CV 4/5] END colsample_bytree=0.8, learning_rate=0.1, max_depth=3, n_estimators=50, subsample=0.8;, score=-1457.944 total time=   0.0s\n",
      "[CV 5/5] END colsample_bytree=0.8, learning_rate=0.1, max_depth=3, n_estimators=50, subsample=0.8;, score=-3921.918 total time=   0.0s\n",
      "[CV 1/5] END colsample_bytree=0.8, learning_rate=0.1, max_depth=3, n_estimators=50, subsample=1.0;, score=-164.004 total time=   0.0s\n",
      "[CV 2/5] END colsample_bytree=0.8, learning_rate=0.1, max_depth=3, n_estimators=50, subsample=1.0;, score=-165.778 total time=   0.0s\n",
      "[CV 3/5] END colsample_bytree=0.8, learning_rate=0.1, max_depth=3, n_estimators=50, subsample=1.0;, score=-354.287 total time=   0.0s\n",
      "[CV 4/5] END colsample_bytree=0.8, learning_rate=0.1, max_depth=3, n_estimators=50, subsample=1.0;, score=-1424.439 total time=   0.0s\n",
      "[CV 5/5] END colsample_bytree=0.8, learning_rate=0.1, max_depth=3, n_estimators=50, subsample=1.0;, score=-4063.204 total time=   0.0s\n",
      "[CV 1/5] END colsample_bytree=0.8, learning_rate=0.1, max_depth=3, n_estimators=100, subsample=0.8;, score=-154.578 total time=   0.0s\n",
      "[CV 2/5] END colsample_bytree=0.8, learning_rate=0.1, max_depth=3, n_estimators=100, subsample=0.8;, score=-153.797 total time=   0.1s\n",
      "[CV 3/5] END colsample_bytree=0.8, learning_rate=0.1, max_depth=3, n_estimators=100, subsample=0.8;, score=-359.678 total time=   0.1s\n",
      "[CV 4/5] END colsample_bytree=0.8, learning_rate=0.1, max_depth=3, n_estimators=100, subsample=0.8;, score=-1459.563 total time=   0.0s\n",
      "[CV 5/5] END colsample_bytree=0.8, learning_rate=0.1, max_depth=3, n_estimators=100, subsample=0.8;, score=-4085.301 total time=   0.0s\n",
      "[CV 1/5] END colsample_bytree=0.8, learning_rate=0.1, max_depth=3, n_estimators=100, subsample=1.0;, score=-165.105 total time=   0.0s\n",
      "[CV 2/5] END colsample_bytree=0.8, learning_rate=0.1, max_depth=3, n_estimators=100, subsample=1.0;, score=-160.107 total time=   0.1s\n",
      "[CV 3/5] END colsample_bytree=0.8, learning_rate=0.1, max_depth=3, n_estimators=100, subsample=1.0;, score=-363.163 total time=   0.0s\n",
      "[CV 4/5] END colsample_bytree=0.8, learning_rate=0.1, max_depth=3, n_estimators=100, subsample=1.0;, score=-1463.369 total time=   0.0s\n",
      "[CV 5/5] END colsample_bytree=0.8, learning_rate=0.1, max_depth=3, n_estimators=100, subsample=1.0;, score=-4000.855 total time=   0.0s\n",
      "[CV 1/5] END colsample_bytree=0.8, learning_rate=0.1, max_depth=3, n_estimators=200, subsample=0.8;, score=-146.297 total time=   0.2s\n",
      "[CV 2/5] END colsample_bytree=0.8, learning_rate=0.1, max_depth=3, n_estimators=200, subsample=0.8;, score=-235.175 total time=   0.1s\n",
      "[CV 3/5] END colsample_bytree=0.8, learning_rate=0.1, max_depth=3, n_estimators=200, subsample=0.8;, score=-371.864 total time=   0.2s\n",
      "[CV 4/5] END colsample_bytree=0.8, learning_rate=0.1, max_depth=3, n_estimators=200, subsample=0.8;, score=-3453.280 total time=   0.2s\n",
      "[CV 5/5] END colsample_bytree=0.8, learning_rate=0.1, max_depth=3, n_estimators=200, subsample=0.8;, score=-4516.447 total time=   0.2s\n",
      "[CV 1/5] END colsample_bytree=0.8, learning_rate=0.1, max_depth=3, n_estimators=200, subsample=1.0;, score=-157.143 total time=   0.2s\n",
      "[CV 2/5] END colsample_bytree=0.8, learning_rate=0.1, max_depth=3, n_estimators=200, subsample=1.0;, score=-386.391 total time=   0.2s\n",
      "[CV 3/5] END colsample_bytree=0.8, learning_rate=0.1, max_depth=3, n_estimators=200, subsample=1.0;, score=-375.375 total time=   0.2s\n",
      "[CV 4/5] END colsample_bytree=0.8, learning_rate=0.1, max_depth=3, n_estimators=200, subsample=1.0;, score=-5743.899 total time=   0.2s\n",
      "[CV 5/5] END colsample_bytree=0.8, learning_rate=0.1, max_depth=3, n_estimators=200, subsample=1.0;, score=-4115.727 total time=   0.2s\n",
      "[CV 1/5] END colsample_bytree=0.8, learning_rate=0.1, max_depth=6, n_estimators=50, subsample=0.8;, score=-181.564 total time=   0.0s\n"
     ]
    },
    {
     "name": "stdout",
     "output_type": "stream",
     "text": [
      "[CV 2/5] END colsample_bytree=0.8, learning_rate=0.1, max_depth=6, n_estimators=50, subsample=0.8;, score=-234.287 total time=   0.1s\n",
      "[CV 3/5] END colsample_bytree=0.8, learning_rate=0.1, max_depth=6, n_estimators=50, subsample=0.8;, score=-369.118 total time=   0.0s\n",
      "[CV 4/5] END colsample_bytree=0.8, learning_rate=0.1, max_depth=6, n_estimators=50, subsample=0.8;, score=-4424.855 total time=   0.1s\n",
      "[CV 5/5] END colsample_bytree=0.8, learning_rate=0.1, max_depth=6, n_estimators=50, subsample=0.8;, score=-4269.158 total time=   0.0s\n",
      "[CV 1/5] END colsample_bytree=0.8, learning_rate=0.1, max_depth=6, n_estimators=50, subsample=1.0;, score=-152.091 total time=   0.1s\n",
      "[CV 2/5] END colsample_bytree=0.8, learning_rate=0.1, max_depth=6, n_estimators=50, subsample=1.0;, score=-234.996 total time=   0.0s\n",
      "[CV 3/5] END colsample_bytree=0.8, learning_rate=0.1, max_depth=6, n_estimators=50, subsample=1.0;, score=-388.517 total time=   0.0s\n",
      "[CV 4/5] END colsample_bytree=0.8, learning_rate=0.1, max_depth=6, n_estimators=50, subsample=1.0;, score=-5648.553 total time=   0.0s\n",
      "[CV 5/5] END colsample_bytree=0.8, learning_rate=0.1, max_depth=6, n_estimators=50, subsample=1.0;, score=-4239.273 total time=   0.0s\n",
      "[CV 1/5] END colsample_bytree=0.8, learning_rate=0.1, max_depth=6, n_estimators=100, subsample=0.8;, score=-180.839 total time=   0.1s\n",
      "[CV 2/5] END colsample_bytree=0.8, learning_rate=0.1, max_depth=6, n_estimators=100, subsample=0.8;, score=-256.752 total time=   0.1s\n",
      "[CV 3/5] END colsample_bytree=0.8, learning_rate=0.1, max_depth=6, n_estimators=100, subsample=0.8;, score=-385.670 total time=   0.1s\n",
      "[CV 4/5] END colsample_bytree=0.8, learning_rate=0.1, max_depth=6, n_estimators=100, subsample=0.8;, score=-5717.717 total time=   0.1s\n",
      "[CV 5/5] END colsample_bytree=0.8, learning_rate=0.1, max_depth=6, n_estimators=100, subsample=0.8;, score=-4441.201 total time=   0.2s\n",
      "[CV 1/5] END colsample_bytree=0.8, learning_rate=0.1, max_depth=6, n_estimators=100, subsample=1.0;, score=-143.637 total time=   0.1s\n",
      "[CV 2/5] END colsample_bytree=0.8, learning_rate=0.1, max_depth=6, n_estimators=100, subsample=1.0;, score=-234.897 total time=   0.1s\n",
      "[CV 3/5] END colsample_bytree=0.8, learning_rate=0.1, max_depth=6, n_estimators=100, subsample=1.0;, score=-432.533 total time=   0.1s\n",
      "[CV 4/5] END colsample_bytree=0.8, learning_rate=0.1, max_depth=6, n_estimators=100, subsample=1.0;, score=-6146.098 total time=   0.1s\n",
      "[CV 5/5] END colsample_bytree=0.8, learning_rate=0.1, max_depth=6, n_estimators=100, subsample=1.0;, score=-4356.926 total time=   0.1s\n",
      "[CV 1/5] END colsample_bytree=0.8, learning_rate=0.1, max_depth=6, n_estimators=200, subsample=0.8;, score=-185.516 total time=   0.3s\n",
      "[CV 2/5] END colsample_bytree=0.8, learning_rate=0.1, max_depth=6, n_estimators=200, subsample=0.8;, score=-357.726 total time=   0.3s\n",
      "[CV 3/5] END colsample_bytree=0.8, learning_rate=0.1, max_depth=6, n_estimators=200, subsample=0.8;, score=-401.712 total time=   0.4s\n",
      "[CV 4/5] END colsample_bytree=0.8, learning_rate=0.1, max_depth=6, n_estimators=200, subsample=0.8;, score=-8943.333 total time=   0.4s\n",
      "[CV 5/5] END colsample_bytree=0.8, learning_rate=0.1, max_depth=6, n_estimators=200, subsample=0.8;, score=-4663.596 total time=   0.4s\n",
      "[CV 1/5] END colsample_bytree=0.8, learning_rate=0.1, max_depth=6, n_estimators=200, subsample=1.0;, score=-163.747 total time=   0.3s\n",
      "[CV 2/5] END colsample_bytree=0.8, learning_rate=0.1, max_depth=6, n_estimators=200, subsample=1.0;, score=-337.310 total time=   0.3s\n",
      "[CV 3/5] END colsample_bytree=0.8, learning_rate=0.1, max_depth=6, n_estimators=200, subsample=1.0;, score=-439.872 total time=   0.3s\n",
      "[CV 4/5] END colsample_bytree=0.8, learning_rate=0.1, max_depth=6, n_estimators=200, subsample=1.0;, score=-8167.313 total time=   0.3s\n",
      "[CV 5/5] END colsample_bytree=0.8, learning_rate=0.1, max_depth=6, n_estimators=200, subsample=1.0;, score=-4490.206 total time=   0.3s\n",
      "[CV 1/5] END colsample_bytree=0.8, learning_rate=0.1, max_depth=9, n_estimators=50, subsample=0.8;, score=-193.817 total time=   0.2s\n",
      "[CV 2/5] END colsample_bytree=0.8, learning_rate=0.1, max_depth=9, n_estimators=50, subsample=0.8;, score=-346.551 total time=   0.2s\n",
      "[CV 3/5] END colsample_bytree=0.8, learning_rate=0.1, max_depth=9, n_estimators=50, subsample=0.8;, score=-380.549 total time=   0.2s\n",
      "[CV 4/5] END colsample_bytree=0.8, learning_rate=0.1, max_depth=9, n_estimators=50, subsample=0.8;, score=-10722.179 total time=   0.2s\n",
      "[CV 5/5] END colsample_bytree=0.8, learning_rate=0.1, max_depth=9, n_estimators=50, subsample=0.8;, score=-5035.821 total time=   0.2s\n",
      "[CV 1/5] END colsample_bytree=0.8, learning_rate=0.1, max_depth=9, n_estimators=50, subsample=1.0;, score=-196.107 total time=   0.2s\n",
      "[CV 2/5] END colsample_bytree=0.8, learning_rate=0.1, max_depth=9, n_estimators=50, subsample=1.0;, score=-342.236 total time=   0.2s\n",
      "[CV 3/5] END colsample_bytree=0.8, learning_rate=0.1, max_depth=9, n_estimators=50, subsample=1.0;, score=-400.397 total time=   0.2s\n",
      "[CV 4/5] END colsample_bytree=0.8, learning_rate=0.1, max_depth=9, n_estimators=50, subsample=1.0;, score=-10431.261 total time=   0.2s\n",
      "[CV 5/5] END colsample_bytree=0.8, learning_rate=0.1, max_depth=9, n_estimators=50, subsample=1.0;, score=-4962.047 total time=   0.2s\n",
      "[CV 1/5] END colsample_bytree=0.8, learning_rate=0.1, max_depth=9, n_estimators=100, subsample=0.8;, score=-194.193 total time=   0.4s\n",
      "[CV 2/5] END colsample_bytree=0.8, learning_rate=0.1, max_depth=9, n_estimators=100, subsample=0.8;, score=-376.150 total time=   0.4s\n",
      "[CV 3/5] END colsample_bytree=0.8, learning_rate=0.1, max_depth=9, n_estimators=100, subsample=0.8;, score=-406.589 total time=   0.4s\n",
      "[CV 4/5] END colsample_bytree=0.8, learning_rate=0.1, max_depth=9, n_estimators=100, subsample=0.8;, score=-12551.611 total time=   0.3s\n",
      "[CV 5/5] END colsample_bytree=0.8, learning_rate=0.1, max_depth=9, n_estimators=100, subsample=0.8;, score=-5342.093 total time=   0.4s\n",
      "[CV 1/5] END colsample_bytree=0.8, learning_rate=0.1, max_depth=9, n_estimators=100, subsample=1.0;, score=-207.973 total time=   0.3s\n",
      "[CV 2/5] END colsample_bytree=0.8, learning_rate=0.1, max_depth=9, n_estimators=100, subsample=1.0;, score=-354.249 total time=   0.4s\n",
      "[CV 3/5] END colsample_bytree=0.8, learning_rate=0.1, max_depth=9, n_estimators=100, subsample=1.0;, score=-413.777 total time=   0.4s\n",
      "[CV 4/5] END colsample_bytree=0.8, learning_rate=0.1, max_depth=9, n_estimators=100, subsample=1.0;, score=-11721.864 total time=   0.4s\n",
      "[CV 5/5] END colsample_bytree=0.8, learning_rate=0.1, max_depth=9, n_estimators=100, subsample=1.0;, score=-5133.258 total time=   0.5s\n",
      "[CV 1/5] END colsample_bytree=0.8, learning_rate=0.1, max_depth=9, n_estimators=200, subsample=0.8;, score=-207.949 total time=   0.9s\n",
      "[CV 2/5] END colsample_bytree=0.8, learning_rate=0.1, max_depth=9, n_estimators=200, subsample=0.8;, score=-466.026 total time=   0.8s\n",
      "[CV 3/5] END colsample_bytree=0.8, learning_rate=0.1, max_depth=9, n_estimators=200, subsample=0.8;, score=-432.880 total time=   0.8s\n",
      "[CV 4/5] END colsample_bytree=0.8, learning_rate=0.1, max_depth=9, n_estimators=200, subsample=0.8;, score=-12928.705 total time=   0.8s\n",
      "[CV 5/5] END colsample_bytree=0.8, learning_rate=0.1, max_depth=9, n_estimators=200, subsample=0.8;, score=-5478.837 total time=   0.9s\n",
      "[CV 1/5] END colsample_bytree=0.8, learning_rate=0.1, max_depth=9, n_estimators=200, subsample=1.0;, score=-239.922 total time=   0.8s\n",
      "[CV 2/5] END colsample_bytree=0.8, learning_rate=0.1, max_depth=9, n_estimators=200, subsample=1.0;, score=-406.023 total time=   0.7s\n",
      "[CV 3/5] END colsample_bytree=0.8, learning_rate=0.1, max_depth=9, n_estimators=200, subsample=1.0;, score=-464.035 total time=   0.7s\n",
      "[CV 4/5] END colsample_bytree=0.8, learning_rate=0.1, max_depth=9, n_estimators=200, subsample=1.0;, score=-12288.092 total time=   0.8s\n",
      "[CV 5/5] END colsample_bytree=0.8, learning_rate=0.1, max_depth=9, n_estimators=200, subsample=1.0;, score=-5177.268 total time=   0.8s\n",
      "[CV 1/5] END colsample_bytree=0.8, learning_rate=0.2, max_depth=3, n_estimators=50, subsample=0.8;, score=-146.210 total time=   0.0s\n",
      "[CV 2/5] END colsample_bytree=0.8, learning_rate=0.2, max_depth=3, n_estimators=50, subsample=0.8;, score=-169.110 total time=   0.0s\n"
     ]
    },
    {
     "name": "stdout",
     "output_type": "stream",
     "text": [
      "[CV 3/5] END colsample_bytree=0.8, learning_rate=0.2, max_depth=3, n_estimators=50, subsample=0.8;, score=-366.686 total time=   0.0s\n",
      "[CV 4/5] END colsample_bytree=0.8, learning_rate=0.2, max_depth=3, n_estimators=50, subsample=0.8;, score=-3712.826 total time=   0.0s\n",
      "[CV 5/5] END colsample_bytree=0.8, learning_rate=0.2, max_depth=3, n_estimators=50, subsample=0.8;, score=-3634.820 total time=   0.0s\n",
      "[CV 1/5] END colsample_bytree=0.8, learning_rate=0.2, max_depth=3, n_estimators=50, subsample=1.0;, score=-146.962 total time=   0.0s\n",
      "[CV 2/5] END colsample_bytree=0.8, learning_rate=0.2, max_depth=3, n_estimators=50, subsample=1.0;, score=-163.938 total time=   0.0s\n",
      "[CV 3/5] END colsample_bytree=0.8, learning_rate=0.2, max_depth=3, n_estimators=50, subsample=1.0;, score=-342.584 total time=   0.0s\n",
      "[CV 4/5] END colsample_bytree=0.8, learning_rate=0.2, max_depth=3, n_estimators=50, subsample=1.0;, score=-2395.215 total time=   0.0s\n",
      "[CV 5/5] END colsample_bytree=0.8, learning_rate=0.2, max_depth=3, n_estimators=50, subsample=1.0;, score=-4225.933 total time=   0.0s\n",
      "[CV 1/5] END colsample_bytree=0.8, learning_rate=0.2, max_depth=3, n_estimators=100, subsample=0.8;, score=-142.323 total time=   0.1s\n",
      "[CV 2/5] END colsample_bytree=0.8, learning_rate=0.2, max_depth=3, n_estimators=100, subsample=0.8;, score=-172.037 total time=   0.0s\n",
      "[CV 3/5] END colsample_bytree=0.8, learning_rate=0.2, max_depth=3, n_estimators=100, subsample=0.8;, score=-380.113 total time=   0.0s\n",
      "[CV 4/5] END colsample_bytree=0.8, learning_rate=0.2, max_depth=3, n_estimators=100, subsample=0.8;, score=-3329.101 total time=   0.0s\n",
      "[CV 5/5] END colsample_bytree=0.8, learning_rate=0.2, max_depth=3, n_estimators=100, subsample=0.8;, score=-4143.009 total time=   0.0s\n",
      "[CV 1/5] END colsample_bytree=0.8, learning_rate=0.2, max_depth=3, n_estimators=100, subsample=1.0;, score=-144.543 total time=   0.0s\n",
      "[CV 2/5] END colsample_bytree=0.8, learning_rate=0.2, max_depth=3, n_estimators=100, subsample=1.0;, score=-290.404 total time=   0.0s\n",
      "[CV 3/5] END colsample_bytree=0.8, learning_rate=0.2, max_depth=3, n_estimators=100, subsample=1.0;, score=-357.586 total time=   0.0s\n",
      "[CV 4/5] END colsample_bytree=0.8, learning_rate=0.2, max_depth=3, n_estimators=100, subsample=1.0;, score=-3881.800 total time=   0.0s\n",
      "[CV 5/5] END colsample_bytree=0.8, learning_rate=0.2, max_depth=3, n_estimators=100, subsample=1.0;, score=-4258.889 total time=   0.0s\n",
      "[CV 1/5] END colsample_bytree=0.8, learning_rate=0.2, max_depth=3, n_estimators=200, subsample=0.8;, score=-142.296 total time=   0.1s\n",
      "[CV 2/5] END colsample_bytree=0.8, learning_rate=0.2, max_depth=3, n_estimators=200, subsample=0.8;, score=-209.156 total time=   0.2s\n",
      "[CV 3/5] END colsample_bytree=0.8, learning_rate=0.2, max_depth=3, n_estimators=200, subsample=0.8;, score=-393.961 total time=   0.2s\n",
      "[CV 4/5] END colsample_bytree=0.8, learning_rate=0.2, max_depth=3, n_estimators=200, subsample=0.8;, score=-4887.045 total time=   0.2s\n",
      "[CV 5/5] END colsample_bytree=0.8, learning_rate=0.2, max_depth=3, n_estimators=200, subsample=0.8;, score=-4505.840 total time=   0.2s\n",
      "[CV 1/5] END colsample_bytree=0.8, learning_rate=0.2, max_depth=3, n_estimators=200, subsample=1.0;, score=-152.054 total time=   0.1s\n",
      "[CV 2/5] END colsample_bytree=0.8, learning_rate=0.2, max_depth=3, n_estimators=200, subsample=1.0;, score=-433.590 total time=   0.1s\n",
      "[CV 3/5] END colsample_bytree=0.8, learning_rate=0.2, max_depth=3, n_estimators=200, subsample=1.0;, score=-371.929 total time=   0.1s\n",
      "[CV 4/5] END colsample_bytree=0.8, learning_rate=0.2, max_depth=3, n_estimators=200, subsample=1.0;, score=-6139.891 total time=   0.1s\n",
      "[CV 5/5] END colsample_bytree=0.8, learning_rate=0.2, max_depth=3, n_estimators=200, subsample=1.0;, score=-4464.686 total time=   0.1s\n",
      "[CV 1/5] END colsample_bytree=0.8, learning_rate=0.2, max_depth=6, n_estimators=50, subsample=0.8;, score=-187.728 total time=   0.0s\n",
      "[CV 2/5] END colsample_bytree=0.8, learning_rate=0.2, max_depth=6, n_estimators=50, subsample=0.8;, score=-302.232 total time=   0.0s\n",
      "[CV 3/5] END colsample_bytree=0.8, learning_rate=0.2, max_depth=6, n_estimators=50, subsample=0.8;, score=-382.342 total time=   0.0s\n",
      "[CV 4/5] END colsample_bytree=0.8, learning_rate=0.2, max_depth=6, n_estimators=50, subsample=0.8;, score=-8115.876 total time=   0.0s\n",
      "[CV 5/5] END colsample_bytree=0.8, learning_rate=0.2, max_depth=6, n_estimators=50, subsample=0.8;, score=-4774.575 total time=   0.0s\n",
      "[CV 1/5] END colsample_bytree=0.8, learning_rate=0.2, max_depth=6, n_estimators=50, subsample=1.0;, score=-213.761 total time=   0.0s\n",
      "[CV 2/5] END colsample_bytree=0.8, learning_rate=0.2, max_depth=6, n_estimators=50, subsample=1.0;, score=-246.563 total time=   0.0s\n",
      "[CV 3/5] END colsample_bytree=0.8, learning_rate=0.2, max_depth=6, n_estimators=50, subsample=1.0;, score=-410.941 total time=   0.0s\n",
      "[CV 4/5] END colsample_bytree=0.8, learning_rate=0.2, max_depth=6, n_estimators=50, subsample=1.0;, score=-7215.107 total time=   0.0s\n",
      "[CV 5/5] END colsample_bytree=0.8, learning_rate=0.2, max_depth=6, n_estimators=50, subsample=1.0;, score=-4419.969 total time=   0.0s\n",
      "[CV 1/5] END colsample_bytree=0.8, learning_rate=0.2, max_depth=6, n_estimators=100, subsample=0.8;, score=-198.589 total time=   0.2s\n",
      "[CV 2/5] END colsample_bytree=0.8, learning_rate=0.2, max_depth=6, n_estimators=100, subsample=0.8;, score=-346.788 total time=   0.2s\n",
      "[CV 3/5] END colsample_bytree=0.8, learning_rate=0.2, max_depth=6, n_estimators=100, subsample=0.8;, score=-409.201 total time=   0.2s\n",
      "[CV 4/5] END colsample_bytree=0.8, learning_rate=0.2, max_depth=6, n_estimators=100, subsample=0.8;, score=-9460.906 total time=   0.2s\n",
      "[CV 5/5] END colsample_bytree=0.8, learning_rate=0.2, max_depth=6, n_estimators=100, subsample=0.8;, score=-5154.260 total time=   0.2s\n",
      "[CV 1/5] END colsample_bytree=0.8, learning_rate=0.2, max_depth=6, n_estimators=100, subsample=1.0;, score=-239.503 total time=   0.2s\n",
      "[CV 2/5] END colsample_bytree=0.8, learning_rate=0.2, max_depth=6, n_estimators=100, subsample=1.0;, score=-320.456 total time=   0.2s\n",
      "[CV 3/5] END colsample_bytree=0.8, learning_rate=0.2, max_depth=6, n_estimators=100, subsample=1.0;, score=-456.874 total time=   0.2s\n",
      "[CV 4/5] END colsample_bytree=0.8, learning_rate=0.2, max_depth=6, n_estimators=100, subsample=1.0;, score=-9562.767 total time=   0.2s\n",
      "[CV 5/5] END colsample_bytree=0.8, learning_rate=0.2, max_depth=6, n_estimators=100, subsample=1.0;, score=-4490.679 total time=   0.2s\n",
      "[CV 1/5] END colsample_bytree=0.8, learning_rate=0.2, max_depth=6, n_estimators=200, subsample=0.8;, score=-214.281 total time=   0.4s\n",
      "[CV 2/5] END colsample_bytree=0.8, learning_rate=0.2, max_depth=6, n_estimators=200, subsample=0.8;, score=-476.018 total time=   0.4s\n",
      "[CV 3/5] END colsample_bytree=0.8, learning_rate=0.2, max_depth=6, n_estimators=200, subsample=0.8;, score=-469.476 total time=   0.4s\n",
      "[CV 4/5] END colsample_bytree=0.8, learning_rate=0.2, max_depth=6, n_estimators=200, subsample=0.8;, score=-10827.617 total time=   0.4s\n",
      "[CV 5/5] END colsample_bytree=0.8, learning_rate=0.2, max_depth=6, n_estimators=200, subsample=0.8;, score=-5518.419 total time=   0.4s\n",
      "[CV 1/5] END colsample_bytree=0.8, learning_rate=0.2, max_depth=6, n_estimators=200, subsample=1.0;, score=-318.169 total time=   0.3s\n",
      "[CV 2/5] END colsample_bytree=0.8, learning_rate=0.2, max_depth=6, n_estimators=200, subsample=1.0;, score=-454.166 total time=   0.3s\n",
      "[CV 3/5] END colsample_bytree=0.8, learning_rate=0.2, max_depth=6, n_estimators=200, subsample=1.0;, score=-555.347 total time=   0.3s\n",
      "[CV 4/5] END colsample_bytree=0.8, learning_rate=0.2, max_depth=6, n_estimators=200, subsample=1.0;, score=-10103.139 total time=   0.3s\n",
      "[CV 5/5] END colsample_bytree=0.8, learning_rate=0.2, max_depth=6, n_estimators=200, subsample=1.0;, score=-4559.694 total time=   0.3s\n",
      "[CV 1/5] END colsample_bytree=0.8, learning_rate=0.2, max_depth=9, n_estimators=50, subsample=0.8;, score=-226.449 total time=   0.2s\n",
      "[CV 2/5] END colsample_bytree=0.8, learning_rate=0.2, max_depth=9, n_estimators=50, subsample=0.8;, score=-375.759 total time=   0.1s\n",
      "[CV 3/5] END colsample_bytree=0.8, learning_rate=0.2, max_depth=9, n_estimators=50, subsample=0.8;, score=-403.644 total time=   0.1s\n"
     ]
    },
    {
     "name": "stdout",
     "output_type": "stream",
     "text": [
      "[CV 4/5] END colsample_bytree=0.8, learning_rate=0.2, max_depth=9, n_estimators=50, subsample=0.8;, score=-13229.983 total time=   0.1s\n",
      "[CV 5/5] END colsample_bytree=0.8, learning_rate=0.2, max_depth=9, n_estimators=50, subsample=0.8;, score=-5283.975 total time=   0.2s\n",
      "[CV 1/5] END colsample_bytree=0.8, learning_rate=0.2, max_depth=9, n_estimators=50, subsample=1.0;, score=-226.847 total time=   0.1s\n",
      "[CV 2/5] END colsample_bytree=0.8, learning_rate=0.2, max_depth=9, n_estimators=50, subsample=1.0;, score=-413.904 total time=   0.2s\n",
      "[CV 3/5] END colsample_bytree=0.8, learning_rate=0.2, max_depth=9, n_estimators=50, subsample=1.0;, score=-423.266 total time=   0.1s\n",
      "[CV 4/5] END colsample_bytree=0.8, learning_rate=0.2, max_depth=9, n_estimators=50, subsample=1.0;, score=-11412.252 total time=   0.1s\n",
      "[CV 5/5] END colsample_bytree=0.8, learning_rate=0.2, max_depth=9, n_estimators=50, subsample=1.0;, score=-5042.369 total time=   0.2s\n",
      "[CV 1/5] END colsample_bytree=0.8, learning_rate=0.2, max_depth=9, n_estimators=100, subsample=0.8;, score=-242.946 total time=   0.4s\n",
      "[CV 2/5] END colsample_bytree=0.8, learning_rate=0.2, max_depth=9, n_estimators=100, subsample=0.8;, score=-440.311 total time=   0.3s\n",
      "[CV 3/5] END colsample_bytree=0.8, learning_rate=0.2, max_depth=9, n_estimators=100, subsample=0.8;, score=-417.166 total time=   0.4s\n",
      "[CV 4/5] END colsample_bytree=0.8, learning_rate=0.2, max_depth=9, n_estimators=100, subsample=0.8;, score=-14069.989 total time=   0.4s\n",
      "[CV 5/5] END colsample_bytree=0.8, learning_rate=0.2, max_depth=9, n_estimators=100, subsample=0.8;, score=-5407.944 total time=   0.4s\n",
      "[CV 1/5] END colsample_bytree=0.8, learning_rate=0.2, max_depth=9, n_estimators=100, subsample=1.0;, score=-246.587 total time=   0.3s\n",
      "[CV 2/5] END colsample_bytree=0.8, learning_rate=0.2, max_depth=9, n_estimators=100, subsample=1.0;, score=-527.438 total time=   0.3s\n",
      "[CV 3/5] END colsample_bytree=0.8, learning_rate=0.2, max_depth=9, n_estimators=100, subsample=1.0;, score=-440.331 total time=   0.4s\n",
      "[CV 4/5] END colsample_bytree=0.8, learning_rate=0.2, max_depth=9, n_estimators=100, subsample=1.0;, score=-12976.077 total time=   0.3s\n",
      "[CV 5/5] END colsample_bytree=0.8, learning_rate=0.2, max_depth=9, n_estimators=100, subsample=1.0;, score=-5218.140 total time=   0.3s\n",
      "[CV 1/5] END colsample_bytree=0.8, learning_rate=0.2, max_depth=9, n_estimators=200, subsample=0.8;, score=-287.088 total time=   0.9s\n",
      "[CV 2/5] END colsample_bytree=0.8, learning_rate=0.2, max_depth=9, n_estimators=200, subsample=0.8;, score=-507.188 total time=   0.9s\n",
      "[CV 3/5] END colsample_bytree=0.8, learning_rate=0.2, max_depth=9, n_estimators=200, subsample=0.8;, score=-432.973 total time=   0.8s\n",
      "[CV 4/5] END colsample_bytree=0.8, learning_rate=0.2, max_depth=9, n_estimators=200, subsample=0.8;, score=-13779.350 total time=   0.8s\n",
      "[CV 5/5] END colsample_bytree=0.8, learning_rate=0.2, max_depth=9, n_estimators=200, subsample=0.8;, score=-5417.097 total time=   0.8s\n",
      "[CV 1/5] END colsample_bytree=0.8, learning_rate=0.2, max_depth=9, n_estimators=200, subsample=1.0;, score=-270.547 total time=   0.7s\n",
      "[CV 2/5] END colsample_bytree=0.8, learning_rate=0.2, max_depth=9, n_estimators=200, subsample=1.0;, score=-580.929 total time=   0.7s\n",
      "[CV 3/5] END colsample_bytree=0.8, learning_rate=0.2, max_depth=9, n_estimators=200, subsample=1.0;, score=-466.665 total time=   0.7s\n",
      "[CV 4/5] END colsample_bytree=0.8, learning_rate=0.2, max_depth=9, n_estimators=200, subsample=1.0;, score=-13207.392 total time=   0.7s\n",
      "[CV 5/5] END colsample_bytree=0.8, learning_rate=0.2, max_depth=9, n_estimators=200, subsample=1.0;, score=-5281.161 total time=   0.7s\n",
      "[CV 1/5] END colsample_bytree=1.0, learning_rate=0.01, max_depth=3, n_estimators=50, subsample=0.8;, score=-1264.857 total time=   0.0s\n",
      "[CV 2/5] END colsample_bytree=1.0, learning_rate=0.01, max_depth=3, n_estimators=50, subsample=0.8;, score=-948.564 total time=   0.0s\n",
      "[CV 3/5] END colsample_bytree=1.0, learning_rate=0.01, max_depth=3, n_estimators=50, subsample=0.8;, score=-431.213 total time=   0.0s\n",
      "[CV 4/5] END colsample_bytree=1.0, learning_rate=0.01, max_depth=3, n_estimators=50, subsample=0.8;, score=-1246.499 total time=   0.0s\n",
      "[CV 5/5] END colsample_bytree=1.0, learning_rate=0.01, max_depth=3, n_estimators=50, subsample=0.8;, score=-10179.696 total time=   0.0s\n",
      "[CV 1/5] END colsample_bytree=1.0, learning_rate=0.01, max_depth=3, n_estimators=50, subsample=1.0;, score=-1272.364 total time=   0.0s\n",
      "[CV 2/5] END colsample_bytree=1.0, learning_rate=0.01, max_depth=3, n_estimators=50, subsample=1.0;, score=-952.241 total time=   0.0s\n",
      "[CV 3/5] END colsample_bytree=1.0, learning_rate=0.01, max_depth=3, n_estimators=50, subsample=1.0;, score=-430.936 total time=   0.0s\n",
      "[CV 4/5] END colsample_bytree=1.0, learning_rate=0.01, max_depth=3, n_estimators=50, subsample=1.0;, score=-1246.554 total time=   0.0s\n",
      "[CV 5/5] END colsample_bytree=1.0, learning_rate=0.01, max_depth=3, n_estimators=50, subsample=1.0;, score=-10173.826 total time=   0.0s\n",
      "[CV 1/5] END colsample_bytree=1.0, learning_rate=0.01, max_depth=3, n_estimators=100, subsample=0.8;, score=-672.006 total time=   0.0s\n",
      "[CV 2/5] END colsample_bytree=1.0, learning_rate=0.01, max_depth=3, n_estimators=100, subsample=0.8;, score=-514.934 total time=   0.0s\n",
      "[CV 3/5] END colsample_bytree=1.0, learning_rate=0.01, max_depth=3, n_estimators=100, subsample=0.8;, score=-341.872 total time=   0.0s\n",
      "[CV 4/5] END colsample_bytree=1.0, learning_rate=0.01, max_depth=3, n_estimators=100, subsample=0.8;, score=-1712.239 total time=   0.0s\n",
      "[CV 5/5] END colsample_bytree=1.0, learning_rate=0.01, max_depth=3, n_estimators=100, subsample=0.8;, score=-7792.214 total time=   0.0s\n",
      "[CV 1/5] END colsample_bytree=1.0, learning_rate=0.01, max_depth=3, n_estimators=100, subsample=1.0;, score=-675.596 total time=   0.1s\n",
      "[CV 2/5] END colsample_bytree=1.0, learning_rate=0.01, max_depth=3, n_estimators=100, subsample=1.0;, score=-528.341 total time=   0.0s\n",
      "[CV 3/5] END colsample_bytree=1.0, learning_rate=0.01, max_depth=3, n_estimators=100, subsample=1.0;, score=-341.578 total time=   0.0s\n",
      "[CV 4/5] END colsample_bytree=1.0, learning_rate=0.01, max_depth=3, n_estimators=100, subsample=1.0;, score=-1625.643 total time=   0.0s\n",
      "[CV 5/5] END colsample_bytree=1.0, learning_rate=0.01, max_depth=3, n_estimators=100, subsample=1.0;, score=-7733.957 total time=   0.0s\n",
      "[CV 1/5] END colsample_bytree=1.0, learning_rate=0.01, max_depth=3, n_estimators=200, subsample=0.8;, score=-275.360 total time=   0.2s\n",
      "[CV 2/5] END colsample_bytree=1.0, learning_rate=0.01, max_depth=3, n_estimators=200, subsample=0.8;, score=-232.107 total time=   0.2s\n",
      "[CV 3/5] END colsample_bytree=1.0, learning_rate=0.01, max_depth=3, n_estimators=200, subsample=0.8;, score=-366.120 total time=   0.2s\n",
      "[CV 4/5] END colsample_bytree=1.0, learning_rate=0.01, max_depth=3, n_estimators=200, subsample=0.8;, score=-3609.632 total time=   0.1s\n",
      "[CV 5/5] END colsample_bytree=1.0, learning_rate=0.01, max_depth=3, n_estimators=200, subsample=0.8;, score=-5519.546 total time=   0.1s\n",
      "[CV 1/5] END colsample_bytree=1.0, learning_rate=0.01, max_depth=3, n_estimators=200, subsample=1.0;, score=-280.774 total time=   0.1s\n",
      "[CV 2/5] END colsample_bytree=1.0, learning_rate=0.01, max_depth=3, n_estimators=200, subsample=1.0;, score=-240.812 total time=   0.1s\n",
      "[CV 3/5] END colsample_bytree=1.0, learning_rate=0.01, max_depth=3, n_estimators=200, subsample=1.0;, score=-371.620 total time=   0.1s\n",
      "[CV 4/5] END colsample_bytree=1.0, learning_rate=0.01, max_depth=3, n_estimators=200, subsample=1.0;, score=-3210.605 total time=   0.1s\n",
      "[CV 5/5] END colsample_bytree=1.0, learning_rate=0.01, max_depth=3, n_estimators=200, subsample=1.0;, score=-5612.661 total time=   0.1s\n",
      "[CV 1/5] END colsample_bytree=1.0, learning_rate=0.01, max_depth=6, n_estimators=50, subsample=0.8;, score=-1129.564 total time=   0.0s\n",
      "[CV 2/5] END colsample_bytree=1.0, learning_rate=0.01, max_depth=6, n_estimators=50, subsample=0.8;, score=-927.547 total time=   0.0s\n",
      "[CV 3/5] END colsample_bytree=1.0, learning_rate=0.01, max_depth=6, n_estimators=50, subsample=0.8;, score=-441.628 total time=   0.1s\n",
      "[CV 4/5] END colsample_bytree=1.0, learning_rate=0.01, max_depth=6, n_estimators=50, subsample=0.8;, score=-1435.311 total time=   0.0s\n",
      "[CV 5/5] END colsample_bytree=1.0, learning_rate=0.01, max_depth=6, n_estimators=50, subsample=0.8;, score=-9378.092 total time=   0.0s\n"
     ]
    },
    {
     "name": "stdout",
     "output_type": "stream",
     "text": [
      "[CV 1/5] END colsample_bytree=1.0, learning_rate=0.01, max_depth=6, n_estimators=50, subsample=1.0;, score=-1131.004 total time=   0.0s\n",
      "[CV 2/5] END colsample_bytree=1.0, learning_rate=0.01, max_depth=6, n_estimators=50, subsample=1.0;, score=-933.515 total time=   0.0s\n",
      "[CV 3/5] END colsample_bytree=1.0, learning_rate=0.01, max_depth=6, n_estimators=50, subsample=1.0;, score=-440.264 total time=   0.0s\n",
      "[CV 4/5] END colsample_bytree=1.0, learning_rate=0.01, max_depth=6, n_estimators=50, subsample=1.0;, score=-1464.746 total time=   0.0s\n",
      "[CV 5/5] END colsample_bytree=1.0, learning_rate=0.01, max_depth=6, n_estimators=50, subsample=1.0;, score=-9135.126 total time=   0.0s\n",
      "[CV 1/5] END colsample_bytree=1.0, learning_rate=0.01, max_depth=6, n_estimators=100, subsample=0.8;, score=-533.312 total time=   0.2s\n",
      "[CV 2/5] END colsample_bytree=1.0, learning_rate=0.01, max_depth=6, n_estimators=100, subsample=0.8;, score=-515.638 total time=   0.1s\n",
      "[CV 3/5] END colsample_bytree=1.0, learning_rate=0.01, max_depth=6, n_estimators=100, subsample=0.8;, score=-324.040 total time=   0.1s\n",
      "[CV 4/5] END colsample_bytree=1.0, learning_rate=0.01, max_depth=6, n_estimators=100, subsample=0.8;, score=-2607.353 total time=   0.1s\n",
      "[CV 5/5] END colsample_bytree=1.0, learning_rate=0.01, max_depth=6, n_estimators=100, subsample=0.8;, score=-6618.422 total time=   0.1s\n",
      "[CV 1/5] END colsample_bytree=1.0, learning_rate=0.01, max_depth=6, n_estimators=100, subsample=1.0;, score=-528.133 total time=   0.2s\n",
      "[CV 2/5] END colsample_bytree=1.0, learning_rate=0.01, max_depth=6, n_estimators=100, subsample=1.0;, score=-519.528 total time=   0.1s\n",
      "[CV 3/5] END colsample_bytree=1.0, learning_rate=0.01, max_depth=6, n_estimators=100, subsample=1.0;, score=-322.084 total time=   0.1s\n",
      "[CV 4/5] END colsample_bytree=1.0, learning_rate=0.01, max_depth=6, n_estimators=100, subsample=1.0;, score=-2583.962 total time=   0.1s\n",
      "[CV 5/5] END colsample_bytree=1.0, learning_rate=0.01, max_depth=6, n_estimators=100, subsample=1.0;, score=-6260.552 total time=   0.2s\n",
      "[CV 1/5] END colsample_bytree=1.0, learning_rate=0.01, max_depth=6, n_estimators=200, subsample=0.8;, score=-220.231 total time=   0.4s\n",
      "[CV 2/5] END colsample_bytree=1.0, learning_rate=0.01, max_depth=6, n_estimators=200, subsample=0.8;, score=-296.001 total time=   0.4s\n",
      "[CV 3/5] END colsample_bytree=1.0, learning_rate=0.01, max_depth=6, n_estimators=200, subsample=0.8;, score=-350.551 total time=   0.4s\n",
      "[CV 4/5] END colsample_bytree=1.0, learning_rate=0.01, max_depth=6, n_estimators=200, subsample=0.8;, score=-5593.613 total time=   0.4s\n",
      "[CV 5/5] END colsample_bytree=1.0, learning_rate=0.01, max_depth=6, n_estimators=200, subsample=0.8;, score=-5075.515 total time=   0.5s\n",
      "[CV 1/5] END colsample_bytree=1.0, learning_rate=0.01, max_depth=6, n_estimators=200, subsample=1.0;, score=-210.378 total time=   0.4s\n",
      "[CV 2/5] END colsample_bytree=1.0, learning_rate=0.01, max_depth=6, n_estimators=200, subsample=1.0;, score=-311.353 total time=   0.4s\n",
      "[CV 3/5] END colsample_bytree=1.0, learning_rate=0.01, max_depth=6, n_estimators=200, subsample=1.0;, score=-356.405 total time=   0.4s\n",
      "[CV 4/5] END colsample_bytree=1.0, learning_rate=0.01, max_depth=6, n_estimators=200, subsample=1.0;, score=-5651.205 total time=   0.4s\n",
      "[CV 5/5] END colsample_bytree=1.0, learning_rate=0.01, max_depth=6, n_estimators=200, subsample=1.0;, score=-4827.230 total time=   0.4s\n",
      "[CV 1/5] END colsample_bytree=1.0, learning_rate=0.01, max_depth=9, n_estimators=50, subsample=0.8;, score=-1132.194 total time=   0.2s\n",
      "[CV 2/5] END colsample_bytree=1.0, learning_rate=0.01, max_depth=9, n_estimators=50, subsample=0.8;, score=-1011.105 total time=   0.2s\n",
      "[CV 3/5] END colsample_bytree=1.0, learning_rate=0.01, max_depth=9, n_estimators=50, subsample=0.8;, score=-458.113 total time=   0.2s\n",
      "[CV 4/5] END colsample_bytree=1.0, learning_rate=0.01, max_depth=9, n_estimators=50, subsample=0.8;, score=-1716.615 total time=   0.2s\n",
      "[CV 5/5] END colsample_bytree=1.0, learning_rate=0.01, max_depth=9, n_estimators=50, subsample=0.8;, score=-9086.148 total time=   0.2s\n",
      "[CV 1/5] END colsample_bytree=1.0, learning_rate=0.01, max_depth=9, n_estimators=50, subsample=1.0;, score=-1136.548 total time=   0.2s\n",
      "[CV 2/5] END colsample_bytree=1.0, learning_rate=0.01, max_depth=9, n_estimators=50, subsample=1.0;, score=-979.675 total time=   0.2s\n",
      "[CV 3/5] END colsample_bytree=1.0, learning_rate=0.01, max_depth=9, n_estimators=50, subsample=1.0;, score=-450.924 total time=   0.2s\n",
      "[CV 4/5] END colsample_bytree=1.0, learning_rate=0.01, max_depth=9, n_estimators=50, subsample=1.0;, score=-1688.728 total time=   0.2s\n",
      "[CV 5/5] END colsample_bytree=1.0, learning_rate=0.01, max_depth=9, n_estimators=50, subsample=1.0;, score=-8844.807 total time=   0.2s\n",
      "[CV 1/5] END colsample_bytree=1.0, learning_rate=0.01, max_depth=9, n_estimators=100, subsample=0.8;, score=-585.408 total time=   0.5s\n",
      "[CV 2/5] END colsample_bytree=1.0, learning_rate=0.01, max_depth=9, n_estimators=100, subsample=0.8;, score=-626.940 total time=   0.4s\n",
      "[CV 3/5] END colsample_bytree=1.0, learning_rate=0.01, max_depth=9, n_estimators=100, subsample=0.8;, score=-333.323 total time=   0.4s\n",
      "[CV 4/5] END colsample_bytree=1.0, learning_rate=0.01, max_depth=9, n_estimators=100, subsample=0.8;, score=-3238.150 total time=   0.4s\n",
      "[CV 5/5] END colsample_bytree=1.0, learning_rate=0.01, max_depth=9, n_estimators=100, subsample=0.8;, score=-6990.851 total time=   0.5s\n",
      "[CV 1/5] END colsample_bytree=1.0, learning_rate=0.01, max_depth=9, n_estimators=100, subsample=1.0;, score=-588.567 total time=   0.5s\n",
      "[CV 2/5] END colsample_bytree=1.0, learning_rate=0.01, max_depth=9, n_estimators=100, subsample=1.0;, score=-605.426 total time=   0.5s\n",
      "[CV 3/5] END colsample_bytree=1.0, learning_rate=0.01, max_depth=9, n_estimators=100, subsample=1.0;, score=-339.903 total time=   0.5s\n",
      "[CV 4/5] END colsample_bytree=1.0, learning_rate=0.01, max_depth=9, n_estimators=100, subsample=1.0;, score=-2943.567 total time=   0.4s\n",
      "[CV 5/5] END colsample_bytree=1.0, learning_rate=0.01, max_depth=9, n_estimators=100, subsample=1.0;, score=-6936.585 total time=   0.5s\n",
      "[CV 1/5] END colsample_bytree=1.0, learning_rate=0.01, max_depth=9, n_estimators=200, subsample=0.8;, score=-281.282 total time=   1.0s\n",
      "[CV 2/5] END colsample_bytree=1.0, learning_rate=0.01, max_depth=9, n_estimators=200, subsample=0.8;, score=-407.995 total time=   1.0s\n",
      "[CV 3/5] END colsample_bytree=1.0, learning_rate=0.01, max_depth=9, n_estimators=200, subsample=0.8;, score=-347.409 total time=   1.0s\n",
      "[CV 4/5] END colsample_bytree=1.0, learning_rate=0.01, max_depth=9, n_estimators=200, subsample=0.8;, score=-7877.150 total time=   1.0s\n",
      "[CV 5/5] END colsample_bytree=1.0, learning_rate=0.01, max_depth=9, n_estimators=200, subsample=0.8;, score=-5776.423 total time=   1.1s\n",
      "[CV 1/5] END colsample_bytree=1.0, learning_rate=0.01, max_depth=9, n_estimators=200, subsample=1.0;, score=-271.361 total time=   1.0s\n",
      "[CV 2/5] END colsample_bytree=1.0, learning_rate=0.01, max_depth=9, n_estimators=200, subsample=1.0;, score=-435.784 total time=   1.0s\n",
      "[CV 3/5] END colsample_bytree=1.0, learning_rate=0.01, max_depth=9, n_estimators=200, subsample=1.0;, score=-357.018 total time=   1.1s\n",
      "[CV 4/5] END colsample_bytree=1.0, learning_rate=0.01, max_depth=9, n_estimators=200, subsample=1.0;, score=-7965.134 total time=   1.0s\n",
      "[CV 5/5] END colsample_bytree=1.0, learning_rate=0.01, max_depth=9, n_estimators=200, subsample=1.0;, score=-5815.464 total time=   1.0s\n",
      "[CV 1/5] END colsample_bytree=1.0, learning_rate=0.1, max_depth=3, n_estimators=50, subsample=0.8;, score=-163.462 total time=   0.0s\n",
      "[CV 2/5] END colsample_bytree=1.0, learning_rate=0.1, max_depth=3, n_estimators=50, subsample=0.8;, score=-154.472 total time=   0.0s\n",
      "[CV 3/5] END colsample_bytree=1.0, learning_rate=0.1, max_depth=3, n_estimators=50, subsample=0.8;, score=-391.880 total time=   0.0s\n",
      "[CV 4/5] END colsample_bytree=1.0, learning_rate=0.1, max_depth=3, n_estimators=50, subsample=0.8;, score=-4077.431 total time=   0.0s\n",
      "[CV 5/5] END colsample_bytree=1.0, learning_rate=0.1, max_depth=3, n_estimators=50, subsample=0.8;, score=-3984.419 total time=   0.0s\n",
      "[CV 1/5] END colsample_bytree=1.0, learning_rate=0.1, max_depth=3, n_estimators=50, subsample=1.0;, score=-161.819 total time=   0.0s\n",
      "[CV 2/5] END colsample_bytree=1.0, learning_rate=0.1, max_depth=3, n_estimators=50, subsample=1.0;, score=-188.139 total time=   0.0s\n",
      "[CV 3/5] END colsample_bytree=1.0, learning_rate=0.1, max_depth=3, n_estimators=50, subsample=1.0;, score=-377.739 total time=   0.0s\n"
     ]
    },
    {
     "name": "stdout",
     "output_type": "stream",
     "text": [
      "[CV 4/5] END colsample_bytree=1.0, learning_rate=0.1, max_depth=3, n_estimators=50, subsample=1.0;, score=-4508.823 total time=   0.0s\n",
      "[CV 5/5] END colsample_bytree=1.0, learning_rate=0.1, max_depth=3, n_estimators=50, subsample=1.0;, score=-3944.944 total time=   0.0s\n",
      "[CV 1/5] END colsample_bytree=1.0, learning_rate=0.1, max_depth=3, n_estimators=100, subsample=0.8;, score=-145.814 total time=   0.0s\n",
      "[CV 2/5] END colsample_bytree=1.0, learning_rate=0.1, max_depth=3, n_estimators=100, subsample=0.8;, score=-215.303 total time=   0.1s\n",
      "[CV 3/5] END colsample_bytree=1.0, learning_rate=0.1, max_depth=3, n_estimators=100, subsample=0.8;, score=-386.983 total time=   0.0s\n",
      "[CV 4/5] END colsample_bytree=1.0, learning_rate=0.1, max_depth=3, n_estimators=100, subsample=0.8;, score=-4850.919 total time=   0.0s\n",
      "[CV 5/5] END colsample_bytree=1.0, learning_rate=0.1, max_depth=3, n_estimators=100, subsample=0.8;, score=-4325.646 total time=   0.0s\n",
      "[CV 1/5] END colsample_bytree=1.0, learning_rate=0.1, max_depth=3, n_estimators=100, subsample=1.0;, score=-147.166 total time=   0.0s\n",
      "[CV 2/5] END colsample_bytree=1.0, learning_rate=0.1, max_depth=3, n_estimators=100, subsample=1.0;, score=-181.404 total time=   0.1s\n",
      "[CV 3/5] END colsample_bytree=1.0, learning_rate=0.1, max_depth=3, n_estimators=100, subsample=1.0;, score=-372.756 total time=   0.0s\n",
      "[CV 4/5] END colsample_bytree=1.0, learning_rate=0.1, max_depth=3, n_estimators=100, subsample=1.0;, score=-4543.686 total time=   0.0s\n",
      "[CV 5/5] END colsample_bytree=1.0, learning_rate=0.1, max_depth=3, n_estimators=100, subsample=1.0;, score=-4029.596 total time=   0.0s\n",
      "[CV 1/5] END colsample_bytree=1.0, learning_rate=0.1, max_depth=3, n_estimators=200, subsample=0.8;, score=-137.776 total time=   0.2s\n",
      "[CV 2/5] END colsample_bytree=1.0, learning_rate=0.1, max_depth=3, n_estimators=200, subsample=0.8;, score=-283.578 total time=   0.1s\n",
      "[CV 3/5] END colsample_bytree=1.0, learning_rate=0.1, max_depth=3, n_estimators=200, subsample=0.8;, score=-405.136 total time=   0.2s\n",
      "[CV 4/5] END colsample_bytree=1.0, learning_rate=0.1, max_depth=3, n_estimators=200, subsample=0.8;, score=-5734.352 total time=   0.1s\n",
      "[CV 5/5] END colsample_bytree=1.0, learning_rate=0.1, max_depth=3, n_estimators=200, subsample=0.8;, score=-4453.864 total time=   0.2s\n",
      "[CV 1/5] END colsample_bytree=1.0, learning_rate=0.1, max_depth=3, n_estimators=200, subsample=1.0;, score=-141.952 total time=   0.1s\n",
      "[CV 2/5] END colsample_bytree=1.0, learning_rate=0.1, max_depth=3, n_estimators=200, subsample=1.0;, score=-412.121 total time=   0.1s\n",
      "[CV 3/5] END colsample_bytree=1.0, learning_rate=0.1, max_depth=3, n_estimators=200, subsample=1.0;, score=-390.199 total time=   0.1s\n",
      "[CV 4/5] END colsample_bytree=1.0, learning_rate=0.1, max_depth=3, n_estimators=200, subsample=1.0;, score=-9155.722 total time=   0.1s\n",
      "[CV 5/5] END colsample_bytree=1.0, learning_rate=0.1, max_depth=3, n_estimators=200, subsample=1.0;, score=-4350.012 total time=   0.2s\n",
      "[CV 1/5] END colsample_bytree=1.0, learning_rate=0.1, max_depth=6, n_estimators=50, subsample=0.8;, score=-160.368 total time=   0.0s\n",
      "[CV 2/5] END colsample_bytree=1.0, learning_rate=0.1, max_depth=6, n_estimators=50, subsample=0.8;, score=-266.578 total time=   0.0s\n",
      "[CV 3/5] END colsample_bytree=1.0, learning_rate=0.1, max_depth=6, n_estimators=50, subsample=0.8;, score=-403.996 total time=   0.0s\n",
      "[CV 4/5] END colsample_bytree=1.0, learning_rate=0.1, max_depth=6, n_estimators=50, subsample=0.8;, score=-6281.165 total time=   0.0s\n",
      "[CV 5/5] END colsample_bytree=1.0, learning_rate=0.1, max_depth=6, n_estimators=50, subsample=0.8;, score=-4497.983 total time=   0.0s\n",
      "[CV 1/5] END colsample_bytree=1.0, learning_rate=0.1, max_depth=6, n_estimators=50, subsample=1.0;, score=-148.446 total time=   0.0s\n",
      "[CV 2/5] END colsample_bytree=1.0, learning_rate=0.1, max_depth=6, n_estimators=50, subsample=1.0;, score=-347.102 total time=   0.0s\n",
      "[CV 3/5] END colsample_bytree=1.0, learning_rate=0.1, max_depth=6, n_estimators=50, subsample=1.0;, score=-409.305 total time=   0.0s\n",
      "[CV 4/5] END colsample_bytree=1.0, learning_rate=0.1, max_depth=6, n_estimators=50, subsample=1.0;, score=-8886.186 total time=   0.0s\n",
      "[CV 5/5] END colsample_bytree=1.0, learning_rate=0.1, max_depth=6, n_estimators=50, subsample=1.0;, score=-4467.756 total time=   0.0s\n",
      "[CV 1/5] END colsample_bytree=1.0, learning_rate=0.1, max_depth=6, n_estimators=100, subsample=0.8;, score=-153.200 total time=   0.1s\n",
      "[CV 2/5] END colsample_bytree=1.0, learning_rate=0.1, max_depth=6, n_estimators=100, subsample=0.8;, score=-361.789 total time=   0.2s\n",
      "[CV 3/5] END colsample_bytree=1.0, learning_rate=0.1, max_depth=6, n_estimators=100, subsample=0.8;, score=-406.545 total time=   0.1s\n",
      "[CV 4/5] END colsample_bytree=1.0, learning_rate=0.1, max_depth=6, n_estimators=100, subsample=0.8;, score=-8438.861 total time=   0.2s\n",
      "[CV 5/5] END colsample_bytree=1.0, learning_rate=0.1, max_depth=6, n_estimators=100, subsample=0.8;, score=-4683.924 total time=   0.1s\n",
      "[CV 1/5] END colsample_bytree=1.0, learning_rate=0.1, max_depth=6, n_estimators=100, subsample=1.0;, score=-148.772 total time=   0.1s\n",
      "[CV 2/5] END colsample_bytree=1.0, learning_rate=0.1, max_depth=6, n_estimators=100, subsample=1.0;, score=-468.185 total time=   0.1s\n",
      "[CV 3/5] END colsample_bytree=1.0, learning_rate=0.1, max_depth=6, n_estimators=100, subsample=1.0;, score=-419.926 total time=   0.1s\n",
      "[CV 4/5] END colsample_bytree=1.0, learning_rate=0.1, max_depth=6, n_estimators=100, subsample=1.0;, score=-11335.250 total time=   0.1s\n",
      "[CV 5/5] END colsample_bytree=1.0, learning_rate=0.1, max_depth=6, n_estimators=100, subsample=1.0;, score=-4417.104 total time=   0.1s\n",
      "[CV 1/5] END colsample_bytree=1.0, learning_rate=0.1, max_depth=6, n_estimators=200, subsample=0.8;, score=-161.555 total time=   0.4s\n",
      "[CV 2/5] END colsample_bytree=1.0, learning_rate=0.1, max_depth=6, n_estimators=200, subsample=0.8;, score=-429.308 total time=   0.4s\n",
      "[CV 3/5] END colsample_bytree=1.0, learning_rate=0.1, max_depth=6, n_estimators=200, subsample=0.8;, score=-453.826 total time=   0.4s\n",
      "[CV 4/5] END colsample_bytree=1.0, learning_rate=0.1, max_depth=6, n_estimators=200, subsample=0.8;, score=-9196.872 total time=   0.4s\n",
      "[CV 5/5] END colsample_bytree=1.0, learning_rate=0.1, max_depth=6, n_estimators=200, subsample=0.8;, score=-4892.944 total time=   0.4s\n",
      "[CV 1/5] END colsample_bytree=1.0, learning_rate=0.1, max_depth=6, n_estimators=200, subsample=1.0;, score=-187.974 total time=   0.4s\n",
      "[CV 2/5] END colsample_bytree=1.0, learning_rate=0.1, max_depth=6, n_estimators=200, subsample=1.0;, score=-592.883 total time=   0.4s\n",
      "[CV 3/5] END colsample_bytree=1.0, learning_rate=0.1, max_depth=6, n_estimators=200, subsample=1.0;, score=-450.035 total time=   0.4s\n",
      "[CV 4/5] END colsample_bytree=1.0, learning_rate=0.1, max_depth=6, n_estimators=200, subsample=1.0;, score=-10096.212 total time=   0.4s\n",
      "[CV 5/5] END colsample_bytree=1.0, learning_rate=0.1, max_depth=6, n_estimators=200, subsample=1.0;, score=-4466.778 total time=   0.4s\n",
      "[CV 1/5] END colsample_bytree=1.0, learning_rate=0.1, max_depth=9, n_estimators=50, subsample=0.8;, score=-200.804 total time=   0.1s\n",
      "[CV 2/5] END colsample_bytree=1.0, learning_rate=0.1, max_depth=9, n_estimators=50, subsample=0.8;, score=-383.193 total time=   0.2s\n",
      "[CV 3/5] END colsample_bytree=1.0, learning_rate=0.1, max_depth=9, n_estimators=50, subsample=0.8;, score=-423.668 total time=   0.2s\n",
      "[CV 4/5] END colsample_bytree=1.0, learning_rate=0.1, max_depth=9, n_estimators=50, subsample=0.8;, score=-14951.827 total time=   0.1s\n",
      "[CV 5/5] END colsample_bytree=1.0, learning_rate=0.1, max_depth=9, n_estimators=50, subsample=0.8;, score=-5474.250 total time=   0.1s\n",
      "[CV 1/5] END colsample_bytree=1.0, learning_rate=0.1, max_depth=9, n_estimators=50, subsample=1.0;, score=-171.380 total time=   0.2s\n",
      "[CV 2/5] END colsample_bytree=1.0, learning_rate=0.1, max_depth=9, n_estimators=50, subsample=1.0;, score=-366.336 total time=   0.1s\n",
      "[CV 3/5] END colsample_bytree=1.0, learning_rate=0.1, max_depth=9, n_estimators=50, subsample=1.0;, score=-436.756 total time=   0.1s\n",
      "[CV 4/5] END colsample_bytree=1.0, learning_rate=0.1, max_depth=9, n_estimators=50, subsample=1.0;, score=-14525.648 total time=   0.2s\n"
     ]
    },
    {
     "name": "stdout",
     "output_type": "stream",
     "text": [
      "[CV 5/5] END colsample_bytree=1.0, learning_rate=0.1, max_depth=9, n_estimators=50, subsample=1.0;, score=-5493.138 total time=   0.1s\n",
      "[CV 1/5] END colsample_bytree=1.0, learning_rate=0.1, max_depth=9, n_estimators=100, subsample=0.8;, score=-197.439 total time=   0.3s\n",
      "[CV 2/5] END colsample_bytree=1.0, learning_rate=0.1, max_depth=9, n_estimators=100, subsample=0.8;, score=-412.791 total time=   0.3s\n",
      "[CV 3/5] END colsample_bytree=1.0, learning_rate=0.1, max_depth=9, n_estimators=100, subsample=0.8;, score=-453.254 total time=   0.3s\n",
      "[CV 4/5] END colsample_bytree=1.0, learning_rate=0.1, max_depth=9, n_estimators=100, subsample=0.8;, score=-15898.637 total time=   0.4s\n",
      "[CV 5/5] END colsample_bytree=1.0, learning_rate=0.1, max_depth=9, n_estimators=100, subsample=0.8;, score=-5648.172 total time=   0.3s\n",
      "[CV 1/5] END colsample_bytree=1.0, learning_rate=0.1, max_depth=9, n_estimators=100, subsample=1.0;, score=-173.437 total time=   0.3s\n",
      "[CV 2/5] END colsample_bytree=1.0, learning_rate=0.1, max_depth=9, n_estimators=100, subsample=1.0;, score=-399.357 total time=   0.3s\n",
      "[CV 3/5] END colsample_bytree=1.0, learning_rate=0.1, max_depth=9, n_estimators=100, subsample=1.0;, score=-462.169 total time=   0.3s\n",
      "[CV 4/5] END colsample_bytree=1.0, learning_rate=0.1, max_depth=9, n_estimators=100, subsample=1.0;, score=-15266.676 total time=   0.3s\n",
      "[CV 5/5] END colsample_bytree=1.0, learning_rate=0.1, max_depth=9, n_estimators=100, subsample=1.0;, score=-5627.523 total time=   0.3s\n",
      "[CV 1/5] END colsample_bytree=1.0, learning_rate=0.1, max_depth=9, n_estimators=200, subsample=0.8;, score=-207.256 total time=   0.8s\n",
      "[CV 2/5] END colsample_bytree=1.0, learning_rate=0.1, max_depth=9, n_estimators=200, subsample=0.8;, score=-468.814 total time=   0.6s\n",
      "[CV 3/5] END colsample_bytree=1.0, learning_rate=0.1, max_depth=9, n_estimators=200, subsample=0.8;, score=-474.432 total time=   0.8s\n",
      "[CV 4/5] END colsample_bytree=1.0, learning_rate=0.1, max_depth=9, n_estimators=200, subsample=0.8;, score=-16500.362 total time=   0.9s\n",
      "[CV 5/5] END colsample_bytree=1.0, learning_rate=0.1, max_depth=9, n_estimators=200, subsample=0.8;, score=-5615.753 total time=   0.9s\n",
      "[CV 1/5] END colsample_bytree=1.0, learning_rate=0.1, max_depth=9, n_estimators=200, subsample=1.0;, score=-200.866 total time=   0.8s\n",
      "[CV 2/5] END colsample_bytree=1.0, learning_rate=0.1, max_depth=9, n_estimators=200, subsample=1.0;, score=-488.696 total time=   0.8s\n",
      "[CV 3/5] END colsample_bytree=1.0, learning_rate=0.1, max_depth=9, n_estimators=200, subsample=1.0;, score=-496.207 total time=   0.8s\n",
      "[CV 4/5] END colsample_bytree=1.0, learning_rate=0.1, max_depth=9, n_estimators=200, subsample=1.0;, score=-15654.521 total time=   0.9s\n",
      "[CV 5/5] END colsample_bytree=1.0, learning_rate=0.1, max_depth=9, n_estimators=200, subsample=1.0;, score=-5653.180 total time=   0.9s\n",
      "[CV 1/5] END colsample_bytree=1.0, learning_rate=0.2, max_depth=3, n_estimators=50, subsample=0.8;, score=-147.871 total time=   0.0s\n",
      "[CV 2/5] END colsample_bytree=1.0, learning_rate=0.2, max_depth=3, n_estimators=50, subsample=0.8;, score=-171.353 total time=   0.0s\n",
      "[CV 3/5] END colsample_bytree=1.0, learning_rate=0.2, max_depth=3, n_estimators=50, subsample=0.8;, score=-405.554 total time=   0.0s\n",
      "[CV 4/5] END colsample_bytree=1.0, learning_rate=0.2, max_depth=3, n_estimators=50, subsample=0.8;, score=-5492.664 total time=   0.0s\n",
      "[CV 5/5] END colsample_bytree=1.0, learning_rate=0.2, max_depth=3, n_estimators=50, subsample=0.8;, score=-4180.906 total time=   0.0s\n",
      "[CV 1/5] END colsample_bytree=1.0, learning_rate=0.2, max_depth=3, n_estimators=50, subsample=1.0;, score=-142.484 total time=   0.0s\n",
      "[CV 2/5] END colsample_bytree=1.0, learning_rate=0.2, max_depth=3, n_estimators=50, subsample=1.0;, score=-239.812 total time=   0.0s\n",
      "[CV 3/5] END colsample_bytree=1.0, learning_rate=0.2, max_depth=3, n_estimators=50, subsample=1.0;, score=-413.114 total time=   0.0s\n",
      "[CV 4/5] END colsample_bytree=1.0, learning_rate=0.2, max_depth=3, n_estimators=50, subsample=1.0;, score=-5180.322 total time=   0.0s\n",
      "[CV 5/5] END colsample_bytree=1.0, learning_rate=0.2, max_depth=3, n_estimators=50, subsample=1.0;, score=-4316.038 total time=   0.0s\n",
      "[CV 1/5] END colsample_bytree=1.0, learning_rate=0.2, max_depth=3, n_estimators=100, subsample=0.8;, score=-142.899 total time=   0.0s\n",
      "[CV 2/5] END colsample_bytree=1.0, learning_rate=0.2, max_depth=3, n_estimators=100, subsample=0.8;, score=-247.043 total time=   0.0s\n",
      "[CV 3/5] END colsample_bytree=1.0, learning_rate=0.2, max_depth=3, n_estimators=100, subsample=0.8;, score=-405.744 total time=   0.0s\n",
      "[CV 4/5] END colsample_bytree=1.0, learning_rate=0.2, max_depth=3, n_estimators=100, subsample=0.8;, score=-10651.076 total time=   0.1s\n",
      "[CV 5/5] END colsample_bytree=1.0, learning_rate=0.2, max_depth=3, n_estimators=100, subsample=0.8;, score=-4442.899 total time=   0.1s\n",
      "[CV 1/5] END colsample_bytree=1.0, learning_rate=0.2, max_depth=3, n_estimators=100, subsample=1.0;, score=-136.696 total time=   0.1s\n",
      "[CV 2/5] END colsample_bytree=1.0, learning_rate=0.2, max_depth=3, n_estimators=100, subsample=1.0;, score=-350.280 total time=   0.1s\n",
      "[CV 3/5] END colsample_bytree=1.0, learning_rate=0.2, max_depth=3, n_estimators=100, subsample=1.0;, score=-414.560 total time=   0.1s\n",
      "[CV 4/5] END colsample_bytree=1.0, learning_rate=0.2, max_depth=3, n_estimators=100, subsample=1.0;, score=-7940.846 total time=   0.0s\n",
      "[CV 5/5] END colsample_bytree=1.0, learning_rate=0.2, max_depth=3, n_estimators=100, subsample=1.0;, score=-4445.834 total time=   0.0s\n",
      "[CV 1/5] END colsample_bytree=1.0, learning_rate=0.2, max_depth=3, n_estimators=200, subsample=0.8;, score=-138.806 total time=   0.2s\n",
      "[CV 2/5] END colsample_bytree=1.0, learning_rate=0.2, max_depth=3, n_estimators=200, subsample=0.8;, score=-246.020 total time=   0.2s\n",
      "[CV 3/5] END colsample_bytree=1.0, learning_rate=0.2, max_depth=3, n_estimators=200, subsample=0.8;, score=-419.213 total time=   0.2s\n",
      "[CV 4/5] END colsample_bytree=1.0, learning_rate=0.2, max_depth=3, n_estimators=200, subsample=0.8;, score=-9614.668 total time=   0.2s\n",
      "[CV 5/5] END colsample_bytree=1.0, learning_rate=0.2, max_depth=3, n_estimators=200, subsample=0.8;, score=-4928.869 total time=   0.2s\n",
      "[CV 1/5] END colsample_bytree=1.0, learning_rate=0.2, max_depth=3, n_estimators=200, subsample=1.0;, score=-135.401 total time=   0.2s\n",
      "[CV 2/5] END colsample_bytree=1.0, learning_rate=0.2, max_depth=3, n_estimators=200, subsample=1.0;, score=-356.474 total time=   0.2s\n",
      "[CV 3/5] END colsample_bytree=1.0, learning_rate=0.2, max_depth=3, n_estimators=200, subsample=1.0;, score=-434.491 total time=   0.2s\n",
      "[CV 4/5] END colsample_bytree=1.0, learning_rate=0.2, max_depth=3, n_estimators=200, subsample=1.0;, score=-7769.604 total time=   0.1s\n",
      "[CV 5/5] END colsample_bytree=1.0, learning_rate=0.2, max_depth=3, n_estimators=200, subsample=1.0;, score=-4820.626 total time=   0.2s\n",
      "[CV 1/5] END colsample_bytree=1.0, learning_rate=0.2, max_depth=6, n_estimators=50, subsample=0.8;, score=-145.571 total time=   0.0s\n",
      "[CV 2/5] END colsample_bytree=1.0, learning_rate=0.2, max_depth=6, n_estimators=50, subsample=0.8;, score=-462.125 total time=   0.1s\n",
      "[CV 3/5] END colsample_bytree=1.0, learning_rate=0.2, max_depth=6, n_estimators=50, subsample=0.8;, score=-418.996 total time=   0.1s\n",
      "[CV 4/5] END colsample_bytree=1.0, learning_rate=0.2, max_depth=6, n_estimators=50, subsample=0.8;, score=-9804.070 total time=   0.0s\n",
      "[CV 5/5] END colsample_bytree=1.0, learning_rate=0.2, max_depth=6, n_estimators=50, subsample=0.8;, score=-4470.810 total time=   0.1s\n",
      "[CV 1/5] END colsample_bytree=1.0, learning_rate=0.2, max_depth=6, n_estimators=50, subsample=1.0;, score=-156.680 total time=   0.0s\n",
      "[CV 2/5] END colsample_bytree=1.0, learning_rate=0.2, max_depth=6, n_estimators=50, subsample=1.0;, score=-391.697 total time=   0.0s\n",
      "[CV 3/5] END colsample_bytree=1.0, learning_rate=0.2, max_depth=6, n_estimators=50, subsample=1.0;, score=-410.453 total time=   0.0s\n",
      "[CV 4/5] END colsample_bytree=1.0, learning_rate=0.2, max_depth=6, n_estimators=50, subsample=1.0;, score=-9414.291 total time=   0.1s\n",
      "[CV 5/5] END colsample_bytree=1.0, learning_rate=0.2, max_depth=6, n_estimators=50, subsample=1.0;, score=-4267.017 total time=   0.0s\n"
     ]
    },
    {
     "name": "stdout",
     "output_type": "stream",
     "text": [
      "[CV 1/5] END colsample_bytree=1.0, learning_rate=0.2, max_depth=6, n_estimators=100, subsample=0.8;, score=-155.843 total time=   0.2s\n",
      "[CV 2/5] END colsample_bytree=1.0, learning_rate=0.2, max_depth=6, n_estimators=100, subsample=0.8;, score=-504.391 total time=   0.2s\n",
      "[CV 3/5] END colsample_bytree=1.0, learning_rate=0.2, max_depth=6, n_estimators=100, subsample=0.8;, score=-463.981 total time=   0.2s\n",
      "[CV 4/5] END colsample_bytree=1.0, learning_rate=0.2, max_depth=6, n_estimators=100, subsample=0.8;, score=-10763.265 total time=   0.2s\n",
      "[CV 5/5] END colsample_bytree=1.0, learning_rate=0.2, max_depth=6, n_estimators=100, subsample=0.8;, score=-4586.561 total time=   0.2s\n",
      "[CV 1/5] END colsample_bytree=1.0, learning_rate=0.2, max_depth=6, n_estimators=100, subsample=1.0;, score=-176.200 total time=   0.2s\n",
      "[CV 2/5] END colsample_bytree=1.0, learning_rate=0.2, max_depth=6, n_estimators=100, subsample=1.0;, score=-614.119 total time=   0.2s\n",
      "[CV 3/5] END colsample_bytree=1.0, learning_rate=0.2, max_depth=6, n_estimators=100, subsample=1.0;, score=-437.448 total time=   0.2s\n",
      "[CV 4/5] END colsample_bytree=1.0, learning_rate=0.2, max_depth=6, n_estimators=100, subsample=1.0;, score=-10724.490 total time=   0.1s\n",
      "[CV 5/5] END colsample_bytree=1.0, learning_rate=0.2, max_depth=6, n_estimators=100, subsample=1.0;, score=-4313.382 total time=   0.1s\n",
      "[CV 1/5] END colsample_bytree=1.0, learning_rate=0.2, max_depth=6, n_estimators=200, subsample=0.8;, score=-165.793 total time=   0.3s\n",
      "[CV 2/5] END colsample_bytree=1.0, learning_rate=0.2, max_depth=6, n_estimators=200, subsample=0.8;, score=-613.249 total time=   0.4s\n",
      "[CV 3/5] END colsample_bytree=1.0, learning_rate=0.2, max_depth=6, n_estimators=200, subsample=0.8;, score=-500.771 total time=   0.4s\n",
      "[CV 4/5] END colsample_bytree=1.0, learning_rate=0.2, max_depth=6, n_estimators=200, subsample=0.8;, score=-11510.161 total time=   0.5s\n",
      "[CV 5/5] END colsample_bytree=1.0, learning_rate=0.2, max_depth=6, n_estimators=200, subsample=0.8;, score=-4731.458 total time=   0.5s\n",
      "[CV 1/5] END colsample_bytree=1.0, learning_rate=0.2, max_depth=6, n_estimators=200, subsample=1.0;, score=-234.599 total time=   0.4s\n",
      "[CV 2/5] END colsample_bytree=1.0, learning_rate=0.2, max_depth=6, n_estimators=200, subsample=1.0;, score=-674.676 total time=   0.4s\n",
      "[CV 3/5] END colsample_bytree=1.0, learning_rate=0.2, max_depth=6, n_estimators=200, subsample=1.0;, score=-468.066 total time=   0.4s\n",
      "[CV 4/5] END colsample_bytree=1.0, learning_rate=0.2, max_depth=6, n_estimators=200, subsample=1.0;, score=-11003.257 total time=   0.4s\n",
      "[CV 5/5] END colsample_bytree=1.0, learning_rate=0.2, max_depth=6, n_estimators=200, subsample=1.0;, score=-4457.596 total time=   0.3s\n",
      "[CV 1/5] END colsample_bytree=1.0, learning_rate=0.2, max_depth=9, n_estimators=50, subsample=0.8;, score=-185.725 total time=   0.2s\n",
      "[CV 2/5] END colsample_bytree=1.0, learning_rate=0.2, max_depth=9, n_estimators=50, subsample=0.8;, score=-402.195 total time=   0.2s\n",
      "[CV 3/5] END colsample_bytree=1.0, learning_rate=0.2, max_depth=9, n_estimators=50, subsample=0.8;, score=-460.251 total time=   0.2s\n",
      "[CV 4/5] END colsample_bytree=1.0, learning_rate=0.2, max_depth=9, n_estimators=50, subsample=0.8;, score=-16359.191 total time=   0.1s\n",
      "[CV 5/5] END colsample_bytree=1.0, learning_rate=0.2, max_depth=9, n_estimators=50, subsample=0.8;, score=-5470.816 total time=   0.2s\n",
      "[CV 1/5] END colsample_bytree=1.0, learning_rate=0.2, max_depth=9, n_estimators=50, subsample=1.0;, score=-210.256 total time=   0.2s\n",
      "[CV 2/5] END colsample_bytree=1.0, learning_rate=0.2, max_depth=9, n_estimators=50, subsample=1.0;, score=-423.350 total time=   0.2s\n",
      "[CV 3/5] END colsample_bytree=1.0, learning_rate=0.2, max_depth=9, n_estimators=50, subsample=1.0;, score=-412.127 total time=   0.2s\n",
      "[CV 4/5] END colsample_bytree=1.0, learning_rate=0.2, max_depth=9, n_estimators=50, subsample=1.0;, score=-17982.889 total time=   0.2s\n",
      "[CV 5/5] END colsample_bytree=1.0, learning_rate=0.2, max_depth=9, n_estimators=50, subsample=1.0;, score=-5686.238 total time=   0.2s\n",
      "[CV 1/5] END colsample_bytree=1.0, learning_rate=0.2, max_depth=9, n_estimators=100, subsample=0.8;, score=-203.056 total time=   0.5s\n",
      "[CV 2/5] END colsample_bytree=1.0, learning_rate=0.2, max_depth=9, n_estimators=100, subsample=0.8;, score=-477.358 total time=   0.5s\n",
      "[CV 3/5] END colsample_bytree=1.0, learning_rate=0.2, max_depth=9, n_estimators=100, subsample=0.8;, score=-484.908 total time=   0.5s\n",
      "[CV 4/5] END colsample_bytree=1.0, learning_rate=0.2, max_depth=9, n_estimators=100, subsample=0.8;, score=-17376.799 total time=   0.4s\n",
      "[CV 5/5] END colsample_bytree=1.0, learning_rate=0.2, max_depth=9, n_estimators=100, subsample=0.8;, score=-5556.716 total time=   0.4s\n",
      "[CV 1/5] END colsample_bytree=1.0, learning_rate=0.2, max_depth=9, n_estimators=100, subsample=1.0;, score=-220.866 total time=   0.4s\n",
      "[CV 2/5] END colsample_bytree=1.0, learning_rate=0.2, max_depth=9, n_estimators=100, subsample=1.0;, score=-467.995 total time=   0.4s\n",
      "[CV 3/5] END colsample_bytree=1.0, learning_rate=0.2, max_depth=9, n_estimators=100, subsample=1.0;, score=-425.364 total time=   0.3s\n",
      "[CV 4/5] END colsample_bytree=1.0, learning_rate=0.2, max_depth=9, n_estimators=100, subsample=1.0;, score=-19428.810 total time=   0.3s\n",
      "[CV 5/5] END colsample_bytree=1.0, learning_rate=0.2, max_depth=9, n_estimators=100, subsample=1.0;, score=-5733.452 total time=   0.4s\n",
      "[CV 1/5] END colsample_bytree=1.0, learning_rate=0.2, max_depth=9, n_estimators=200, subsample=0.8;, score=-209.276 total time=   1.0s\n",
      "[CV 2/5] END colsample_bytree=1.0, learning_rate=0.2, max_depth=9, n_estimators=200, subsample=0.8;, score=-490.167 total time=   1.0s\n",
      "[CV 3/5] END colsample_bytree=1.0, learning_rate=0.2, max_depth=9, n_estimators=200, subsample=0.8;, score=-505.729 total time=   0.9s\n",
      "[CV 4/5] END colsample_bytree=1.0, learning_rate=0.2, max_depth=9, n_estimators=200, subsample=0.8;, score=-17601.508 total time=   1.0s\n",
      "[CV 5/5] END colsample_bytree=1.0, learning_rate=0.2, max_depth=9, n_estimators=200, subsample=0.8;, score=-5556.671 total time=   1.0s\n",
      "[CV 1/5] END colsample_bytree=1.0, learning_rate=0.2, max_depth=9, n_estimators=200, subsample=1.0;, score=-229.251 total time=   0.9s\n",
      "[CV 2/5] END colsample_bytree=1.0, learning_rate=0.2, max_depth=9, n_estimators=200, subsample=1.0;, score=-525.090 total time=   0.8s\n",
      "[CV 3/5] END colsample_bytree=1.0, learning_rate=0.2, max_depth=9, n_estimators=200, subsample=1.0;, score=-443.413 total time=   0.7s\n",
      "[CV 4/5] END colsample_bytree=1.0, learning_rate=0.2, max_depth=9, n_estimators=200, subsample=1.0;, score=-19815.519 total time=   0.9s\n",
      "[CV 5/5] END colsample_bytree=1.0, learning_rate=0.2, max_depth=9, n_estimators=200, subsample=1.0;, score=-5738.949 total time=   0.9s\n"
     ]
    },
    {
     "data": {
      "text/html": [
       "<style>#sk-container-id-10 {color: black;}#sk-container-id-10 pre{padding: 0;}#sk-container-id-10 div.sk-toggleable {background-color: white;}#sk-container-id-10 label.sk-toggleable__label {cursor: pointer;display: block;width: 100%;margin-bottom: 0;padding: 0.3em;box-sizing: border-box;text-align: center;}#sk-container-id-10 label.sk-toggleable__label-arrow:before {content: \"▸\";float: left;margin-right: 0.25em;color: #696969;}#sk-container-id-10 label.sk-toggleable__label-arrow:hover:before {color: black;}#sk-container-id-10 div.sk-estimator:hover label.sk-toggleable__label-arrow:before {color: black;}#sk-container-id-10 div.sk-toggleable__content {max-height: 0;max-width: 0;overflow: hidden;text-align: left;background-color: #f0f8ff;}#sk-container-id-10 div.sk-toggleable__content pre {margin: 0.2em;color: black;border-radius: 0.25em;background-color: #f0f8ff;}#sk-container-id-10 input.sk-toggleable__control:checked~div.sk-toggleable__content {max-height: 200px;max-width: 100%;overflow: auto;}#sk-container-id-10 input.sk-toggleable__control:checked~label.sk-toggleable__label-arrow:before {content: \"▾\";}#sk-container-id-10 div.sk-estimator input.sk-toggleable__control:checked~label.sk-toggleable__label {background-color: #d4ebff;}#sk-container-id-10 div.sk-label input.sk-toggleable__control:checked~label.sk-toggleable__label {background-color: #d4ebff;}#sk-container-id-10 input.sk-hidden--visually {border: 0;clip: rect(1px 1px 1px 1px);clip: rect(1px, 1px, 1px, 1px);height: 1px;margin: -1px;overflow: hidden;padding: 0;position: absolute;width: 1px;}#sk-container-id-10 div.sk-estimator {font-family: monospace;background-color: #f0f8ff;border: 1px dotted black;border-radius: 0.25em;box-sizing: border-box;margin-bottom: 0.5em;}#sk-container-id-10 div.sk-estimator:hover {background-color: #d4ebff;}#sk-container-id-10 div.sk-parallel-item::after {content: \"\";width: 100%;border-bottom: 1px solid gray;flex-grow: 1;}#sk-container-id-10 div.sk-label:hover label.sk-toggleable__label {background-color: #d4ebff;}#sk-container-id-10 div.sk-serial::before {content: \"\";position: absolute;border-left: 1px solid gray;box-sizing: border-box;top: 0;bottom: 0;left: 50%;z-index: 0;}#sk-container-id-10 div.sk-serial {display: flex;flex-direction: column;align-items: center;background-color: white;padding-right: 0.2em;padding-left: 0.2em;position: relative;}#sk-container-id-10 div.sk-item {position: relative;z-index: 1;}#sk-container-id-10 div.sk-parallel {display: flex;align-items: stretch;justify-content: center;background-color: white;position: relative;}#sk-container-id-10 div.sk-item::before, #sk-container-id-10 div.sk-parallel-item::before {content: \"\";position: absolute;border-left: 1px solid gray;box-sizing: border-box;top: 0;bottom: 0;left: 50%;z-index: -1;}#sk-container-id-10 div.sk-parallel-item {display: flex;flex-direction: column;z-index: 1;position: relative;background-color: white;}#sk-container-id-10 div.sk-parallel-item:first-child::after {align-self: flex-end;width: 50%;}#sk-container-id-10 div.sk-parallel-item:last-child::after {align-self: flex-start;width: 50%;}#sk-container-id-10 div.sk-parallel-item:only-child::after {width: 0;}#sk-container-id-10 div.sk-dashed-wrapped {border: 1px dashed gray;margin: 0 0.4em 0.5em 0.4em;box-sizing: border-box;padding-bottom: 0.4em;background-color: white;}#sk-container-id-10 div.sk-label label {font-family: monospace;font-weight: bold;display: inline-block;line-height: 1.2em;}#sk-container-id-10 div.sk-label-container {text-align: center;}#sk-container-id-10 div.sk-container {/* jupyter's `normalize.less` sets `[hidden] { display: none; }` but bootstrap.min.css set `[hidden] { display: none !important; }` so we also need the `!important` here to be able to override the default hidden behavior on the sphinx rendered scikit-learn.org. See: https://github.com/scikit-learn/scikit-learn/issues/21755 */display: inline-block !important;position: relative;}#sk-container-id-10 div.sk-text-repr-fallback {display: none;}</style><div id=\"sk-container-id-10\" class=\"sk-top-container\"><div class=\"sk-text-repr-fallback\"><pre>GridSearchCV(cv=5,\n",
       "             estimator=XGBRegressor(base_score=None, booster=None,\n",
       "                                    callbacks=None, colsample_bylevel=None,\n",
       "                                    colsample_bynode=None,\n",
       "                                    colsample_bytree=None, device=None,\n",
       "                                    early_stopping_rounds=None,\n",
       "                                    enable_categorical=False, eval_metric=None,\n",
       "                                    feature_types=None, gamma=None,\n",
       "                                    grow_policy=None, importance_type=None,\n",
       "                                    interaction_constraints=None,\n",
       "                                    learning_rate=None, m...\n",
       "                                    max_depth=None, max_leaves=None,\n",
       "                                    min_child_weight=None, missing=nan,\n",
       "                                    monotone_constraints=None,\n",
       "                                    multi_strategy=None, n_estimators=None,\n",
       "                                    n_jobs=None, num_parallel_tree=None,\n",
       "                                    random_state=None, ...),\n",
       "             param_grid={&#x27;colsample_bytree&#x27;: [0.8, 1.0],\n",
       "                         &#x27;learning_rate&#x27;: [0.01, 0.1, 0.2],\n",
       "                         &#x27;max_depth&#x27;: [3, 6, 9], &#x27;n_estimators&#x27;: [50, 100, 200],\n",
       "                         &#x27;subsample&#x27;: [0.8, 1.0]},\n",
       "             scoring=&#x27;neg_mean_squared_error&#x27;, verbose=3)</pre><b>In a Jupyter environment, please rerun this cell to show the HTML representation or trust the notebook. <br />On GitHub, the HTML representation is unable to render, please try loading this page with nbviewer.org.</b></div><div class=\"sk-container\" hidden><div class=\"sk-item sk-dashed-wrapped\"><div class=\"sk-label-container\"><div class=\"sk-label sk-toggleable\"><input class=\"sk-toggleable__control sk-hidden--visually\" id=\"sk-estimator-id-16\" type=\"checkbox\" ><label for=\"sk-estimator-id-16\" class=\"sk-toggleable__label sk-toggleable__label-arrow\">GridSearchCV</label><div class=\"sk-toggleable__content\"><pre>GridSearchCV(cv=5,\n",
       "             estimator=XGBRegressor(base_score=None, booster=None,\n",
       "                                    callbacks=None, colsample_bylevel=None,\n",
       "                                    colsample_bynode=None,\n",
       "                                    colsample_bytree=None, device=None,\n",
       "                                    early_stopping_rounds=None,\n",
       "                                    enable_categorical=False, eval_metric=None,\n",
       "                                    feature_types=None, gamma=None,\n",
       "                                    grow_policy=None, importance_type=None,\n",
       "                                    interaction_constraints=None,\n",
       "                                    learning_rate=None, m...\n",
       "                                    max_depth=None, max_leaves=None,\n",
       "                                    min_child_weight=None, missing=nan,\n",
       "                                    monotone_constraints=None,\n",
       "                                    multi_strategy=None, n_estimators=None,\n",
       "                                    n_jobs=None, num_parallel_tree=None,\n",
       "                                    random_state=None, ...),\n",
       "             param_grid={&#x27;colsample_bytree&#x27;: [0.8, 1.0],\n",
       "                         &#x27;learning_rate&#x27;: [0.01, 0.1, 0.2],\n",
       "                         &#x27;max_depth&#x27;: [3, 6, 9], &#x27;n_estimators&#x27;: [50, 100, 200],\n",
       "                         &#x27;subsample&#x27;: [0.8, 1.0]},\n",
       "             scoring=&#x27;neg_mean_squared_error&#x27;, verbose=3)</pre></div></div></div><div class=\"sk-parallel\"><div class=\"sk-parallel-item\"><div class=\"sk-item\"><div class=\"sk-label-container\"><div class=\"sk-label sk-toggleable\"><input class=\"sk-toggleable__control sk-hidden--visually\" id=\"sk-estimator-id-17\" type=\"checkbox\" ><label for=\"sk-estimator-id-17\" class=\"sk-toggleable__label sk-toggleable__label-arrow\">estimator: XGBRegressor</label><div class=\"sk-toggleable__content\"><pre>XGBRegressor(base_score=None, booster=None, callbacks=None,\n",
       "             colsample_bylevel=None, colsample_bynode=None,\n",
       "             colsample_bytree=None, device=None, early_stopping_rounds=None,\n",
       "             enable_categorical=False, eval_metric=None, feature_types=None,\n",
       "             gamma=None, grow_policy=None, importance_type=None,\n",
       "             interaction_constraints=None, learning_rate=None, max_bin=None,\n",
       "             max_cat_threshold=None, max_cat_to_onehot=None,\n",
       "             max_delta_step=None, max_depth=None, max_leaves=None,\n",
       "             min_child_weight=None, missing=nan, monotone_constraints=None,\n",
       "             multi_strategy=None, n_estimators=None, n_jobs=None,\n",
       "             num_parallel_tree=None, random_state=None, ...)</pre></div></div></div><div class=\"sk-serial\"><div class=\"sk-item\"><div class=\"sk-estimator sk-toggleable\"><input class=\"sk-toggleable__control sk-hidden--visually\" id=\"sk-estimator-id-18\" type=\"checkbox\" ><label for=\"sk-estimator-id-18\" class=\"sk-toggleable__label sk-toggleable__label-arrow\">XGBRegressor</label><div class=\"sk-toggleable__content\"><pre>XGBRegressor(base_score=None, booster=None, callbacks=None,\n",
       "             colsample_bylevel=None, colsample_bynode=None,\n",
       "             colsample_bytree=None, device=None, early_stopping_rounds=None,\n",
       "             enable_categorical=False, eval_metric=None, feature_types=None,\n",
       "             gamma=None, grow_policy=None, importance_type=None,\n",
       "             interaction_constraints=None, learning_rate=None, max_bin=None,\n",
       "             max_cat_threshold=None, max_cat_to_onehot=None,\n",
       "             max_delta_step=None, max_depth=None, max_leaves=None,\n",
       "             min_child_weight=None, missing=nan, monotone_constraints=None,\n",
       "             multi_strategy=None, n_estimators=None, n_jobs=None,\n",
       "             num_parallel_tree=None, random_state=None, ...)</pre></div></div></div></div></div></div></div></div></div></div>"
      ],
      "text/plain": [
       "GridSearchCV(cv=5,\n",
       "             estimator=XGBRegressor(base_score=None, booster=None,\n",
       "                                    callbacks=None, colsample_bylevel=None,\n",
       "                                    colsample_bynode=None,\n",
       "                                    colsample_bytree=None, device=None,\n",
       "                                    early_stopping_rounds=None,\n",
       "                                    enable_categorical=False, eval_metric=None,\n",
       "                                    feature_types=None, gamma=None,\n",
       "                                    grow_policy=None, importance_type=None,\n",
       "                                    interaction_constraints=None,\n",
       "                                    learning_rate=None, m...\n",
       "                                    max_depth=None, max_leaves=None,\n",
       "                                    min_child_weight=None, missing=nan,\n",
       "                                    monotone_constraints=None,\n",
       "                                    multi_strategy=None, n_estimators=None,\n",
       "                                    n_jobs=None, num_parallel_tree=None,\n",
       "                                    random_state=None, ...),\n",
       "             param_grid={'colsample_bytree': [0.8, 1.0],\n",
       "                         'learning_rate': [0.01, 0.1, 0.2],\n",
       "                         'max_depth': [3, 6, 9], 'n_estimators': [50, 100, 200],\n",
       "                         'subsample': [0.8, 1.0]},\n",
       "             scoring='neg_mean_squared_error', verbose=3)"
      ]
     },
     "execution_count": 79,
     "metadata": {},
     "output_type": "execute_result"
    }
   ],
   "source": [
    "xgb_gridmodel.fit(X_train,y_train)"
   ]
  },
  {
   "cell_type": "code",
   "execution_count": 80,
   "id": "f5a8bccd",
   "metadata": {},
   "outputs": [],
   "source": [
    "best=xgb_gridmodel.best_params_"
   ]
  },
  {
   "cell_type": "code",
   "execution_count": 81,
   "id": "6d007d1c",
   "metadata": {},
   "outputs": [],
   "source": [
    "best_xgb_gridmodel=xgbR(**best)"
   ]
  },
  {
   "cell_type": "code",
   "execution_count": 82,
   "id": "87981a64",
   "metadata": {},
   "outputs": [],
   "source": [
    "y_pred24=xgb_gridmodel.predict(X_test)"
   ]
  },
  {
   "cell_type": "code",
   "execution_count": 83,
   "id": "f83d73a8",
   "metadata": {},
   "outputs": [
    {
     "name": "stdout",
     "output_type": "stream",
     "text": [
      "4052.8179731173896\n",
      "47.22099174255062\n",
      "0.7216068864841765\n",
      "63.661746544666755\n"
     ]
    }
   ],
   "source": [
    "mse_xgb_gridmodel = mse(y_test, y_pred24)\n",
    "mae_xgb_gridmodel= mae(y_test, y_pred24)\n",
    "mape_xgb_gridmodel=mape(y_test, y_pred24)\n",
    "rmse_xgb_gridmodel =np.sqrt(mse(y_test,y_pred24))\n",
    "print(mse_xgb_gridmodel)\n",
    "print(mae_xgb_gridmodel)\n",
    "print(mape_xgb_gridmodel)\n",
    "print(rmse_xgb_gridmodel)"
   ]
  },
  {
   "cell_type": "markdown",
   "id": "51616712",
   "metadata": {},
   "source": [
    "## 5-Light GBM"
   ]
  },
  {
   "cell_type": "code",
   "execution_count": 84,
   "id": "88f5446f",
   "metadata": {},
   "outputs": [
    {
     "ename": "SyntaxError",
     "evalue": "unterminated string literal (detected at line 9) (3831975402.py, line 9)",
     "output_type": "error",
     "traceback": [
      "\u001b[1;36m  Cell \u001b[1;32mIn[84], line 9\u001b[1;36m\u001b[0m\n\u001b[1;33m    ''''\u001b[0m\n\u001b[1;37m       ^\u001b[0m\n\u001b[1;31mSyntaxError\u001b[0m\u001b[1;31m:\u001b[0m unterminated string literal (detected at line 9)\n"
     ]
    }
   ],
   "source": [
    "''''\n",
    "lgbm_params={\n",
    "    \"num_leaves\":range(30,50,10),\n",
    "    \"learning_rate\": [0.05, 0.1, 0.15],\n",
    "    \"n_estimators\" : range(100,50,300),\n",
    "    \"max_depth\" : range(0,20,5),\n",
    "}\n",
    "\n",
    "''''"
   ]
  },
  {
   "cell_type": "code",
   "execution_count": 85,
   "id": "05d5f6a4",
   "metadata": {},
   "outputs": [],
   "source": [
    "lgbm_params = {\n",
    "    \"num_leaves\": [40, 50],\n",
    "    \"learning_rate\": [0.05],\n",
    "    \"n_estimators\": [200],\n",
    "    \"max_depth\": [15],\n",
    "}"
   ]
  },
  {
   "cell_type": "code",
   "execution_count": 86,
   "id": "84b15ca6",
   "metadata": {},
   "outputs": [],
   "source": [
    "lgbm_gridmodel = gs(estimator=lgbm_regg,param_grid=lgbm_params,cv=5,scoring=\"neg_mean_absolute_error\",verbose=3)"
   ]
  },
  {
   "cell_type": "code",
   "execution_count": 87,
   "id": "1cf4d37d",
   "metadata": {},
   "outputs": [
    {
     "name": "stdout",
     "output_type": "stream",
     "text": [
      "Fitting 5 folds for each of 2 candidates, totalling 10 fits\n",
      "[LightGBM] [Info] Auto-choosing row-wise multi-threading, the overhead of testing was 0.000218 seconds.\n",
      "You can set `force_row_wise=true` to remove the overhead.\n",
      "And if memory is not enough, you can set `force_col_wise=true`.\n",
      "[LightGBM] [Info] Total Bins 327\n",
      "[LightGBM] [Info] Number of data points in the train set: 8536, number of used features: 5\n",
      "[LightGBM] [Info] Start training from score 60.852390\n",
      "[CV 1/5] END learning_rate=0.05, max_depth=15, n_estimators=200, num_leaves=40;, score=-7.550 total time=   0.2s\n",
      "[LightGBM] [Info] Auto-choosing row-wise multi-threading, the overhead of testing was 0.000157 seconds.\n",
      "You can set `force_row_wise=true` to remove the overhead.\n",
      "And if memory is not enough, you can set `force_col_wise=true`.\n",
      "[LightGBM] [Info] Total Bins 325\n",
      "[LightGBM] [Info] Number of data points in the train set: 8536, number of used features: 5\n",
      "[LightGBM] [Info] Start training from score 59.240394\n",
      "[CV 2/5] END learning_rate=0.05, max_depth=15, n_estimators=200, num_leaves=40;, score=-11.368 total time=   0.2s\n",
      "[LightGBM] [Info] Auto-choosing row-wise multi-threading, the overhead of testing was 0.000115 seconds.\n",
      "You can set `force_row_wise=true` to remove the overhead.\n",
      "And if memory is not enough, you can set `force_col_wise=true`.\n",
      "[LightGBM] [Info] Total Bins 325\n",
      "[LightGBM] [Info] Number of data points in the train set: 8536, number of used features: 5\n",
      "[LightGBM] [Info] Start training from score 55.623711\n",
      "[CV 3/5] END learning_rate=0.05, max_depth=15, n_estimators=200, num_leaves=40;, score=-13.273 total time=   0.2s\n",
      "[LightGBM] [Info] Auto-choosing row-wise multi-threading, the overhead of testing was 0.000146 seconds.\n",
      "You can set `force_row_wise=true` to remove the overhead.\n",
      "And if memory is not enough, you can set `force_col_wise=true`.\n",
      "[LightGBM] [Info] Total Bins 325\n",
      "[LightGBM] [Info] Number of data points in the train set: 8536, number of used features: 5\n",
      "[LightGBM] [Info] Start training from score 46.273664\n",
      "[CV 4/5] END learning_rate=0.05, max_depth=15, n_estimators=200, num_leaves=40;, score=-64.506 total time=   0.2s\n",
      "[LightGBM] [Info] Auto-choosing row-wise multi-threading, the overhead of testing was 0.000113 seconds.\n",
      "You can set `force_row_wise=true` to remove the overhead.\n",
      "And if memory is not enough, you can set `force_col_wise=true`.\n",
      "[LightGBM] [Info] Total Bins 327\n",
      "[LightGBM] [Info] Number of data points in the train set: 8536, number of used features: 5\n",
      "[LightGBM] [Info] Start training from score 31.385661\n",
      "[CV 5/5] END learning_rate=0.05, max_depth=15, n_estimators=200, num_leaves=40;, score=-48.235 total time=   0.2s\n",
      "[LightGBM] [Info] Auto-choosing row-wise multi-threading, the overhead of testing was 0.000144 seconds.\n",
      "You can set `force_row_wise=true` to remove the overhead.\n",
      "And if memory is not enough, you can set `force_col_wise=true`.\n",
      "[LightGBM] [Info] Total Bins 327\n",
      "[LightGBM] [Info] Number of data points in the train set: 8536, number of used features: 5\n",
      "[LightGBM] [Info] Start training from score 60.852390\n",
      "[CV 1/5] END learning_rate=0.05, max_depth=15, n_estimators=200, num_leaves=50;, score=-7.430 total time=   0.2s\n",
      "[LightGBM] [Info] Auto-choosing row-wise multi-threading, the overhead of testing was 0.000122 seconds.\n",
      "You can set `force_row_wise=true` to remove the overhead.\n",
      "And if memory is not enough, you can set `force_col_wise=true`.\n",
      "[LightGBM] [Info] Total Bins 325\n",
      "[LightGBM] [Info] Number of data points in the train set: 8536, number of used features: 5\n",
      "[LightGBM] [Info] Start training from score 59.240394\n",
      "[CV 2/5] END learning_rate=0.05, max_depth=15, n_estimators=200, num_leaves=50;, score=-12.112 total time=   0.2s\n",
      "[LightGBM] [Info] Auto-choosing col-wise multi-threading, the overhead of testing was 0.000282 seconds.\n",
      "You can set `force_col_wise=true` to remove the overhead.\n",
      "[LightGBM] [Info] Total Bins 325\n",
      "[LightGBM] [Info] Number of data points in the train set: 8536, number of used features: 5\n",
      "[LightGBM] [Info] Start training from score 55.623711\n",
      "[CV 3/5] END learning_rate=0.05, max_depth=15, n_estimators=200, num_leaves=50;, score=-13.198 total time=   0.2s\n",
      "[LightGBM] [Info] Auto-choosing row-wise multi-threading, the overhead of testing was 0.000153 seconds.\n",
      "You can set `force_row_wise=true` to remove the overhead.\n",
      "And if memory is not enough, you can set `force_col_wise=true`.\n",
      "[LightGBM] [Info] Total Bins 325\n",
      "[LightGBM] [Info] Number of data points in the train set: 8536, number of used features: 5\n",
      "[LightGBM] [Info] Start training from score 46.273664\n",
      "[CV 4/5] END learning_rate=0.05, max_depth=15, n_estimators=200, num_leaves=50;, score=-70.084 total time=   0.2s\n",
      "[LightGBM] [Info] Auto-choosing col-wise multi-threading, the overhead of testing was 0.000376 seconds.\n",
      "You can set `force_col_wise=true` to remove the overhead.\n",
      "[LightGBM] [Info] Total Bins 327\n",
      "[LightGBM] [Info] Number of data points in the train set: 8536, number of used features: 5\n",
      "[LightGBM] [Info] Start training from score 31.385661\n",
      "[LightGBM] [Warning] No further splits with positive gain, best gain: -inf\n",
      "[LightGBM] [Warning] No further splits with positive gain, best gain: -inf\n",
      "[LightGBM] [Warning] No further splits with positive gain, best gain: -inf\n",
      "[CV 5/5] END learning_rate=0.05, max_depth=15, n_estimators=200, num_leaves=50;, score=-48.065 total time=   0.2s\n",
      "[LightGBM] [Info] Auto-choosing row-wise multi-threading, the overhead of testing was 0.000145 seconds.\n",
      "You can set `force_row_wise=true` to remove the overhead.\n",
      "And if memory is not enough, you can set `force_col_wise=true`.\n",
      "[LightGBM] [Info] Total Bins 327\n",
      "[LightGBM] [Info] Number of data points in the train set: 10670, number of used features: 5\n",
      "[LightGBM] [Info] Start training from score 50.675164\n"
     ]
    },
    {
     "data": {
      "text/html": [
       "<style>#sk-container-id-11 {color: black;}#sk-container-id-11 pre{padding: 0;}#sk-container-id-11 div.sk-toggleable {background-color: white;}#sk-container-id-11 label.sk-toggleable__label {cursor: pointer;display: block;width: 100%;margin-bottom: 0;padding: 0.3em;box-sizing: border-box;text-align: center;}#sk-container-id-11 label.sk-toggleable__label-arrow:before {content: \"▸\";float: left;margin-right: 0.25em;color: #696969;}#sk-container-id-11 label.sk-toggleable__label-arrow:hover:before {color: black;}#sk-container-id-11 div.sk-estimator:hover label.sk-toggleable__label-arrow:before {color: black;}#sk-container-id-11 div.sk-toggleable__content {max-height: 0;max-width: 0;overflow: hidden;text-align: left;background-color: #f0f8ff;}#sk-container-id-11 div.sk-toggleable__content pre {margin: 0.2em;color: black;border-radius: 0.25em;background-color: #f0f8ff;}#sk-container-id-11 input.sk-toggleable__control:checked~div.sk-toggleable__content {max-height: 200px;max-width: 100%;overflow: auto;}#sk-container-id-11 input.sk-toggleable__control:checked~label.sk-toggleable__label-arrow:before {content: \"▾\";}#sk-container-id-11 div.sk-estimator input.sk-toggleable__control:checked~label.sk-toggleable__label {background-color: #d4ebff;}#sk-container-id-11 div.sk-label input.sk-toggleable__control:checked~label.sk-toggleable__label {background-color: #d4ebff;}#sk-container-id-11 input.sk-hidden--visually {border: 0;clip: rect(1px 1px 1px 1px);clip: rect(1px, 1px, 1px, 1px);height: 1px;margin: -1px;overflow: hidden;padding: 0;position: absolute;width: 1px;}#sk-container-id-11 div.sk-estimator {font-family: monospace;background-color: #f0f8ff;border: 1px dotted black;border-radius: 0.25em;box-sizing: border-box;margin-bottom: 0.5em;}#sk-container-id-11 div.sk-estimator:hover {background-color: #d4ebff;}#sk-container-id-11 div.sk-parallel-item::after {content: \"\";width: 100%;border-bottom: 1px solid gray;flex-grow: 1;}#sk-container-id-11 div.sk-label:hover label.sk-toggleable__label {background-color: #d4ebff;}#sk-container-id-11 div.sk-serial::before {content: \"\";position: absolute;border-left: 1px solid gray;box-sizing: border-box;top: 0;bottom: 0;left: 50%;z-index: 0;}#sk-container-id-11 div.sk-serial {display: flex;flex-direction: column;align-items: center;background-color: white;padding-right: 0.2em;padding-left: 0.2em;position: relative;}#sk-container-id-11 div.sk-item {position: relative;z-index: 1;}#sk-container-id-11 div.sk-parallel {display: flex;align-items: stretch;justify-content: center;background-color: white;position: relative;}#sk-container-id-11 div.sk-item::before, #sk-container-id-11 div.sk-parallel-item::before {content: \"\";position: absolute;border-left: 1px solid gray;box-sizing: border-box;top: 0;bottom: 0;left: 50%;z-index: -1;}#sk-container-id-11 div.sk-parallel-item {display: flex;flex-direction: column;z-index: 1;position: relative;background-color: white;}#sk-container-id-11 div.sk-parallel-item:first-child::after {align-self: flex-end;width: 50%;}#sk-container-id-11 div.sk-parallel-item:last-child::after {align-self: flex-start;width: 50%;}#sk-container-id-11 div.sk-parallel-item:only-child::after {width: 0;}#sk-container-id-11 div.sk-dashed-wrapped {border: 1px dashed gray;margin: 0 0.4em 0.5em 0.4em;box-sizing: border-box;padding-bottom: 0.4em;background-color: white;}#sk-container-id-11 div.sk-label label {font-family: monospace;font-weight: bold;display: inline-block;line-height: 1.2em;}#sk-container-id-11 div.sk-label-container {text-align: center;}#sk-container-id-11 div.sk-container {/* jupyter's `normalize.less` sets `[hidden] { display: none; }` but bootstrap.min.css set `[hidden] { display: none !important; }` so we also need the `!important` here to be able to override the default hidden behavior on the sphinx rendered scikit-learn.org. See: https://github.com/scikit-learn/scikit-learn/issues/21755 */display: inline-block !important;position: relative;}#sk-container-id-11 div.sk-text-repr-fallback {display: none;}</style><div id=\"sk-container-id-11\" class=\"sk-top-container\"><div class=\"sk-text-repr-fallback\"><pre>GridSearchCV(cv=5, estimator=LGBMRegressor(),\n",
       "             param_grid={&#x27;learning_rate&#x27;: [0.05], &#x27;max_depth&#x27;: [15],\n",
       "                         &#x27;n_estimators&#x27;: [200], &#x27;num_leaves&#x27;: [40, 50]},\n",
       "             scoring=&#x27;neg_mean_absolute_error&#x27;, verbose=3)</pre><b>In a Jupyter environment, please rerun this cell to show the HTML representation or trust the notebook. <br />On GitHub, the HTML representation is unable to render, please try loading this page with nbviewer.org.</b></div><div class=\"sk-container\" hidden><div class=\"sk-item sk-dashed-wrapped\"><div class=\"sk-label-container\"><div class=\"sk-label sk-toggleable\"><input class=\"sk-toggleable__control sk-hidden--visually\" id=\"sk-estimator-id-19\" type=\"checkbox\" ><label for=\"sk-estimator-id-19\" class=\"sk-toggleable__label sk-toggleable__label-arrow\">GridSearchCV</label><div class=\"sk-toggleable__content\"><pre>GridSearchCV(cv=5, estimator=LGBMRegressor(),\n",
       "             param_grid={&#x27;learning_rate&#x27;: [0.05], &#x27;max_depth&#x27;: [15],\n",
       "                         &#x27;n_estimators&#x27;: [200], &#x27;num_leaves&#x27;: [40, 50]},\n",
       "             scoring=&#x27;neg_mean_absolute_error&#x27;, verbose=3)</pre></div></div></div><div class=\"sk-parallel\"><div class=\"sk-parallel-item\"><div class=\"sk-item\"><div class=\"sk-label-container\"><div class=\"sk-label sk-toggleable\"><input class=\"sk-toggleable__control sk-hidden--visually\" id=\"sk-estimator-id-20\" type=\"checkbox\" ><label for=\"sk-estimator-id-20\" class=\"sk-toggleable__label sk-toggleable__label-arrow\">estimator: LGBMRegressor</label><div class=\"sk-toggleable__content\"><pre>LGBMRegressor()</pre></div></div></div><div class=\"sk-serial\"><div class=\"sk-item\"><div class=\"sk-estimator sk-toggleable\"><input class=\"sk-toggleable__control sk-hidden--visually\" id=\"sk-estimator-id-21\" type=\"checkbox\" ><label for=\"sk-estimator-id-21\" class=\"sk-toggleable__label sk-toggleable__label-arrow\">LGBMRegressor</label><div class=\"sk-toggleable__content\"><pre>LGBMRegressor()</pre></div></div></div></div></div></div></div></div></div></div>"
      ],
      "text/plain": [
       "GridSearchCV(cv=5, estimator=LGBMRegressor(),\n",
       "             param_grid={'learning_rate': [0.05], 'max_depth': [15],\n",
       "                         'n_estimators': [200], 'num_leaves': [40, 50]},\n",
       "             scoring='neg_mean_absolute_error', verbose=3)"
      ]
     },
     "execution_count": 87,
     "metadata": {},
     "output_type": "execute_result"
    }
   ],
   "source": [
    "lgbm_gridmodel.fit(X_train,y_train)"
   ]
  },
  {
   "cell_type": "code",
   "execution_count": 88,
   "id": "9aee6c52",
   "metadata": {},
   "outputs": [],
   "source": [
    "y_pred25=lgbm_gridmodel.predict(X_test)"
   ]
  },
  {
   "cell_type": "code",
   "execution_count": 89,
   "id": "3122e4fa",
   "metadata": {},
   "outputs": [
    {
     "name": "stdout",
     "output_type": "stream",
     "text": [
      "5149.45261702529\n",
      "52.00104919739743\n",
      "0.8070639074163172\n",
      "71.75968657279162\n"
     ]
    }
   ],
   "source": [
    "mse_lgbm_gridmodel = mse(y_test, y_pred25)\n",
    "mae_lgbm_gridmodel= mae(y_test, y_pred25)\n",
    "mape_lgbm_gridmodel=mape(y_test, y_pred25)\n",
    "rmse_lgbm_gridmodel =np.sqrt(mse(y_test,y_pred25))\n",
    "print(mse_lgbm_gridmodel)\n",
    "print(mae_lgbm_gridmodel)\n",
    "print(mape_lgbm_gridmodel)\n",
    "print(rmse_lgbm_gridmodel)"
   ]
  },
  {
   "cell_type": "markdown",
   "id": "c73e71be",
   "metadata": {},
   "source": [
    "# Metrik olcum ve gridsearchCV arasindaki farklar ve grafik"
   ]
  },
  {
   "cell_type": "markdown",
   "id": "55e40e93",
   "metadata": {},
   "source": [
    "### gridsearch icerisinde scoring olarak mse kullandigimdan farki mse ile  gosterecegim"
   ]
  },
  {
   "cell_type": "markdown",
   "id": "a599be12",
   "metadata": {},
   "source": [
    "1-LINEAR REGRESSION"
   ]
  },
  {
   "cell_type": "code",
   "execution_count": 90,
   "id": "32c298d4",
   "metadata": {},
   "outputs": [
    {
     "data": {
      "text/plain": [
       "[<matplotlib.lines.Line2D at 0x1395d0e3490>]"
      ]
     },
     "execution_count": 90,
     "metadata": {},
     "output_type": "execute_result"
    },
    {
     "data": {
      "image/png": "[encoded data removed]",
      "text/plain": [
       "<Figure size 640x480 with 1 Axes>"
      ]
     },
     "metadata": {},
     "output_type": "display_data"
    }
   ],
   "source": [
    "# Linear regression default parameter\n",
    "plt.plot(y_pred11,color=\"yellow\")\n",
    "# Linear regression gridsearchCV\n",
    "plt.plot(y_pred21,color=\"black\")"
   ]
  },
  {
   "cell_type": "code",
   "execution_count": 91,
   "id": "1d751fc9",
   "metadata": {},
   "outputs": [
    {
     "data": {
      "text/plain": [
       "[<matplotlib.lines.Line2D at 0x1395d04bd90>]"
      ]
     },
     "execution_count": 91,
     "metadata": {},
     "output_type": "execute_result"
    },
    {
     "data": {
      "image/png": "[encoded data removed]",
      "text/plain": [
       "<Figure size 640x480 with 1 Axes>"
      ]
     },
     "metadata": {},
     "output_type": "display_data"
    }
   ],
   "source": [
    "# Random Forest Regressor default parameter\n",
    "plt.plot(y_pred21,color=\"blue\")\n",
    "# Random Forest Regressor gridsearchCV\n",
    "plt.plot(y_pred22,color=\"orange\")"
   ]
  },
  {
   "cell_type": "code",
   "execution_count": 93,
   "id": "92fc24a0",
   "metadata": {},
   "outputs": [
    {
     "data": {
      "text/plain": [
       "[<matplotlib.lines.Line2D at 0x1395f1f4510>]"
      ]
     },
     "execution_count": 93,
     "metadata": {},
     "output_type": "execute_result"
    },
    {
     "data": {
      "image/png": "[encoded data removed]",
      "text/plain": [
       "<Figure size 640x480 with 1 Axes>"
      ]
     },
     "metadata": {},
     "output_type": "display_data"
    }
   ],
   "source": [
    "# SVMR Regressor default parameter\n",
    "plt.plot(y_pred13,color=\"blue\")\n",
    "# SVMR Regressor gridsearchCV\n",
    "plt.plot(y_pred23,color=\"orange\")"
   ]
  },
  {
   "cell_type": "code",
   "execution_count": 94,
   "id": "c7b327ec",
   "metadata": {},
   "outputs": [
    {
     "data": {
      "text/plain": [
       "[<matplotlib.lines.Line2D at 0x1395d083150>]"
      ]
     },
     "execution_count": 94,
     "metadata": {},
     "output_type": "execute_result"
    },
    {
     "data": {
      "image/png": "[encoded data removed]",
      "text/plain": [
       "<Figure size 640x480 with 1 Axes>"
      ]
     },
     "metadata": {},
     "output_type": "display_data"
    }
   ],
   "source": [
    "# xGboost Regressor default parameter\n",
    "plt.plot(y_pred14,color=\"yellow\")\n",
    "# xGboost Regressor gridsearchCV\n",
    "plt.plot(y_pred24,color=\"red\")"
   ]
  },
  {
   "cell_type": "code",
   "execution_count": 106,
   "id": "a2733090",
   "metadata": {},
   "outputs": [
    {
     "data": {
      "text/plain": [
       "[<matplotlib.lines.Line2D at 0x13962e48790>]"
      ]
     },
     "execution_count": 106,
     "metadata": {},
     "output_type": "execute_result"
    },
    {
     "data": {
      "image/png": "[encoded data removed]",
      "text/plain": [
       "<Figure size 640x480 with 1 Axes>"
      ]
     },
     "metadata": {},
     "output_type": "display_data"
    }
   ],
   "source": [
    "# LightGradientBoost Regressor default parameter\n",
    "plt.plot(y_pred15,color=\"black\")\n",
    "# lightGradientBoost Regressor gridsorangeearchCV\n",
    "plt.plot(y_pred25,color=\"red\",linestyle= \"-\")"
   ]
  },
  {
   "cell_type": "code",
   "execution_count": null,
   "id": "92f2b9ea",
   "metadata": {},
   "outputs": [],
   "source": []
  }
 ],
 "metadata": {
  "kernelspec": {
   "display_name": "Python 3 (ipykernel)",
   "language": "python",
   "name": "python3"
  },
  "language_info": {
   "codemirror_mode": {
    "name": "ipython",
    "version": 3
   },
   "file_extension": ".py",
   "mimetype": "text/x-python",
   "name": "python",
   "nbconvert_exporter": "python",
   "pygments_lexer": "ipython3",
   "version": "3.11.5"
  }
 },
 "nbformat": 4,
 "nbformat_minor": 5
}
